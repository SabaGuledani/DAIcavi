{
 "cells": [
  {
   "cell_type": "code",
   "execution_count": 1,
   "id": "f4be8bc9-6843-4850-8f98-f54b3050a2fa",
   "metadata": {},
   "outputs": [],
   "source": [
    "import pandas as pd\n"
   ]
  },
  {
   "cell_type": "code",
   "execution_count": 2,
   "id": "092269c5-e1c6-4d69-bc28-ac6946e20fd2",
   "metadata": {},
   "outputs": [],
   "source": [
    "df = pd.read_csv('./datasets/porn_urls.csv')"
   ]
  },
  {
   "cell_type": "code",
   "execution_count": 3,
   "id": "806277d5-74b7-4762-b7bf-b5dde9e74feb",
   "metadata": {},
   "outputs": [],
   "source": [
    "copies = df.loc[(df['url'].str.contains(\"blogspot\")) | (df['url'].str.contains(\"tumblr\"))]"
   ]
  },
  {
   "cell_type": "code",
   "execution_count": 4,
   "id": "27ac9870-3d9c-4145-8baa-65bf91433f87",
   "metadata": {},
   "outputs": [
    {
     "name": "stdout",
     "output_type": "stream",
     "text": [
      "% of links with blogspot or tumblr in it: 72%\n",
      "left 611676 links\n"
     ]
    }
   ],
   "source": [
    "length_copies = len(copies)\n",
    "\n",
    "percent = length_copies/len(df)\n",
    "print(f'% of links with blogspot or tumblr in it: {int(percent * 100)}%')\n",
    "print(f'left {int(len(df) * (1-percent))} links')"
   ]
  },
  {
   "cell_type": "code",
   "execution_count": 5,
   "id": "cba99092-e939-4d0d-a00b-ec2fe723bcc8",
   "metadata": {},
   "outputs": [
    {
     "data": {
      "text/html": [
       "<div>\n",
       "<style scoped>\n",
       "    .dataframe tbody tr th:only-of-type {\n",
       "        vertical-align: middle;\n",
       "    }\n",
       "\n",
       "    .dataframe tbody tr th {\n",
       "        vertical-align: top;\n",
       "    }\n",
       "\n",
       "    .dataframe thead th {\n",
       "        text-align: right;\n",
       "    }\n",
       "</style>\n",
       "<table border=\"1\" class=\"dataframe\">\n",
       "  <thead>\n",
       "    <tr style=\"text-align: right;\">\n",
       "      <th></th>\n",
       "      <th>url</th>\n",
       "      <th>category</th>\n",
       "    </tr>\n",
       "  </thead>\n",
       "  <tbody>\n",
       "    <tr>\n",
       "      <th>0</th>\n",
       "      <td>00000000a.blogspot.com</td>\n",
       "      <td>Porn</td>\n",
       "    </tr>\n",
       "    <tr>\n",
       "      <th>12</th>\n",
       "      <td>000-475-843.tumblr.com</td>\n",
       "      <td>Porn</td>\n",
       "    </tr>\n",
       "    <tr>\n",
       "      <th>20</th>\n",
       "      <td>000-coralinne-xxx-sara-calixto.tumblr.com</td>\n",
       "      <td>Porn</td>\n",
       "    </tr>\n",
       "    <tr>\n",
       "      <th>23</th>\n",
       "      <td>000girl.tumblr.com</td>\n",
       "      <td>Porn</td>\n",
       "    </tr>\n",
       "    <tr>\n",
       "      <th>24</th>\n",
       "      <td>000iblogchix.blogspot.ae</td>\n",
       "      <td>Porn</td>\n",
       "    </tr>\n",
       "    <tr>\n",
       "      <th>...</th>\n",
       "      <td>...</td>\n",
       "      <td>...</td>\n",
       "    </tr>\n",
       "    <tr>\n",
       "      <th>2237829</th>\n",
       "      <td>zzzdragonbdsm.tumblr.com</td>\n",
       "      <td>Porn</td>\n",
       "    </tr>\n",
       "    <tr>\n",
       "      <th>2237830</th>\n",
       "      <td>zzziir.tumblr.com</td>\n",
       "      <td>Porn</td>\n",
       "    </tr>\n",
       "    <tr>\n",
       "      <th>2237839</th>\n",
       "      <td>zzzyzxxx.tumblr.com</td>\n",
       "      <td>Porn</td>\n",
       "    </tr>\n",
       "    <tr>\n",
       "      <th>2237840</th>\n",
       "      <td>zzzzcam.blogspot.com</td>\n",
       "      <td>Porn</td>\n",
       "    </tr>\n",
       "    <tr>\n",
       "      <th>2237841</th>\n",
       "      <td>zzzz-m.tumblr.com</td>\n",
       "      <td>Porn</td>\n",
       "    </tr>\n",
       "  </tbody>\n",
       "</table>\n",
       "<p>1626168 rows × 2 columns</p>\n",
       "</div>"
      ],
      "text/plain": [
       "                                               url category\n",
       "0                           00000000a.blogspot.com     Porn\n",
       "12                          000-475-843.tumblr.com     Porn\n",
       "20       000-coralinne-xxx-sara-calixto.tumblr.com     Porn\n",
       "23                              000girl.tumblr.com     Porn\n",
       "24                        000iblogchix.blogspot.ae     Porn\n",
       "...                                            ...      ...\n",
       "2237829                   zzzdragonbdsm.tumblr.com     Porn\n",
       "2237830                          zzziir.tumblr.com     Porn\n",
       "2237839                        zzzyzxxx.tumblr.com     Porn\n",
       "2237840                       zzzzcam.blogspot.com     Porn\n",
       "2237841                          zzzz-m.tumblr.com     Porn\n",
       "\n",
       "[1626168 rows x 2 columns]"
      ]
     },
     "execution_count": 5,
     "metadata": {},
     "output_type": "execute_result"
    }
   ],
   "source": [
    "copies\n"
   ]
  },
  {
   "cell_type": "markdown",
   "id": "55d4231b-0c55-4c79-a818-bda2828460f5",
   "metadata": {},
   "source": [
    "## truncate blogspot and tumblr links by taking only first two domains"
   ]
  },
  {
   "cell_type": "code",
   "execution_count": 12,
   "id": "39261843-f211-4c3f-8b13-f73fe12f7d1e",
   "metadata": {},
   "outputs": [
    {
     "name": "stderr",
     "output_type": "stream",
     "text": [
      "C:\\Users\\warfa\\AppData\\Local\\Temp\\ipykernel_23308\\2456613639.py:8: SettingWithCopyWarning: \n",
      "A value is trying to be set on a copy of a slice from a DataFrame.\n",
      "Try using .loc[row_indexer,col_indexer] = value instead\n",
      "\n",
      "See the caveats in the documentation: https://pandas.pydata.org/pandas-docs/stable/user_guide/indexing.html#returning-a-view-versus-a-copy\n",
      "  copies['truncated_urls'] = copies['url'].apply(truncate_url)\n"
     ]
    }
   ],
   "source": [
    "def truncate_url(url):\n",
    "    parts = url.split('.')\n",
    "    if len(parts) > 2:\n",
    "        return '.'.join(parts[-3:-1])\n",
    "    else:\n",
    "        return '.'.join(parts)\n",
    "\n",
    "copies['truncated_urls'] = copies['url'].apply(truncate_url)"
   ]
  },
  {
   "cell_type": "code",
   "execution_count": 13,
   "id": "b06519b6-e146-418a-a474-db533500a3df",
   "metadata": {},
   "outputs": [
    {
     "data": {
      "text/html": [
       "<div>\n",
       "<style scoped>\n",
       "    .dataframe tbody tr th:only-of-type {\n",
       "        vertical-align: middle;\n",
       "    }\n",
       "\n",
       "    .dataframe tbody tr th {\n",
       "        vertical-align: top;\n",
       "    }\n",
       "\n",
       "    .dataframe thead th {\n",
       "        text-align: right;\n",
       "    }\n",
       "</style>\n",
       "<table border=\"1\" class=\"dataframe\">\n",
       "  <thead>\n",
       "    <tr style=\"text-align: right;\">\n",
       "      <th></th>\n",
       "      <th>url</th>\n",
       "      <th>category</th>\n",
       "      <th>truncated_urls</th>\n",
       "    </tr>\n",
       "  </thead>\n",
       "  <tbody>\n",
       "    <tr>\n",
       "      <th>0</th>\n",
       "      <td>00000000a.blogspot.com</td>\n",
       "      <td>Porn</td>\n",
       "      <td>00000000a.blogspot</td>\n",
       "    </tr>\n",
       "    <tr>\n",
       "      <th>12</th>\n",
       "      <td>000-475-843.tumblr.com</td>\n",
       "      <td>Porn</td>\n",
       "      <td>000-475-843.tumblr</td>\n",
       "    </tr>\n",
       "    <tr>\n",
       "      <th>20</th>\n",
       "      <td>000-coralinne-xxx-sara-calixto.tumblr.com</td>\n",
       "      <td>Porn</td>\n",
       "      <td>000-coralinne-xxx-sara-calixto.tumblr</td>\n",
       "    </tr>\n",
       "    <tr>\n",
       "      <th>23</th>\n",
       "      <td>000girl.tumblr.com</td>\n",
       "      <td>Porn</td>\n",
       "      <td>000girl.tumblr</td>\n",
       "    </tr>\n",
       "    <tr>\n",
       "      <th>24</th>\n",
       "      <td>000iblogchix.blogspot.ae</td>\n",
       "      <td>Porn</td>\n",
       "      <td>000iblogchix.blogspot</td>\n",
       "    </tr>\n",
       "    <tr>\n",
       "      <th>...</th>\n",
       "      <td>...</td>\n",
       "      <td>...</td>\n",
       "      <td>...</td>\n",
       "    </tr>\n",
       "    <tr>\n",
       "      <th>2237829</th>\n",
       "      <td>zzzdragonbdsm.tumblr.com</td>\n",
       "      <td>Porn</td>\n",
       "      <td>zzzdragonbdsm.tumblr</td>\n",
       "    </tr>\n",
       "    <tr>\n",
       "      <th>2237830</th>\n",
       "      <td>zzziir.tumblr.com</td>\n",
       "      <td>Porn</td>\n",
       "      <td>zzziir.tumblr</td>\n",
       "    </tr>\n",
       "    <tr>\n",
       "      <th>2237839</th>\n",
       "      <td>zzzyzxxx.tumblr.com</td>\n",
       "      <td>Porn</td>\n",
       "      <td>zzzyzxxx.tumblr</td>\n",
       "    </tr>\n",
       "    <tr>\n",
       "      <th>2237840</th>\n",
       "      <td>zzzzcam.blogspot.com</td>\n",
       "      <td>Porn</td>\n",
       "      <td>zzzzcam.blogspot</td>\n",
       "    </tr>\n",
       "    <tr>\n",
       "      <th>2237841</th>\n",
       "      <td>zzzz-m.tumblr.com</td>\n",
       "      <td>Porn</td>\n",
       "      <td>zzzz-m.tumblr</td>\n",
       "    </tr>\n",
       "  </tbody>\n",
       "</table>\n",
       "<p>1626168 rows × 3 columns</p>\n",
       "</div>"
      ],
      "text/plain": [
       "                                               url category  \\\n",
       "0                           00000000a.blogspot.com     Porn   \n",
       "12                          000-475-843.tumblr.com     Porn   \n",
       "20       000-coralinne-xxx-sara-calixto.tumblr.com     Porn   \n",
       "23                              000girl.tumblr.com     Porn   \n",
       "24                        000iblogchix.blogspot.ae     Porn   \n",
       "...                                            ...      ...   \n",
       "2237829                   zzzdragonbdsm.tumblr.com     Porn   \n",
       "2237830                          zzziir.tumblr.com     Porn   \n",
       "2237839                        zzzyzxxx.tumblr.com     Porn   \n",
       "2237840                       zzzzcam.blogspot.com     Porn   \n",
       "2237841                          zzzz-m.tumblr.com     Porn   \n",
       "\n",
       "                                truncated_urls  \n",
       "0                           00000000a.blogspot  \n",
       "12                          000-475-843.tumblr  \n",
       "20       000-coralinne-xxx-sara-calixto.tumblr  \n",
       "23                              000girl.tumblr  \n",
       "24                       000iblogchix.blogspot  \n",
       "...                                        ...  \n",
       "2237829                   zzzdragonbdsm.tumblr  \n",
       "2237830                          zzziir.tumblr  \n",
       "2237839                        zzzyzxxx.tumblr  \n",
       "2237840                       zzzzcam.blogspot  \n",
       "2237841                          zzzz-m.tumblr  \n",
       "\n",
       "[1626168 rows x 3 columns]"
      ]
     },
     "execution_count": 13,
     "metadata": {},
     "output_type": "execute_result"
    }
   ],
   "source": [
    "copies"
   ]
  },
  {
   "cell_type": "code",
   "execution_count": 14,
   "id": "e9f86e92-c87d-47d7-8ecc-5d704ebdecf7",
   "metadata": {},
   "outputs": [],
   "source": [
    "copies = copies.drop_duplicates(['truncated_urls'])"
   ]
  },
  {
   "cell_type": "code",
   "execution_count": 15,
   "id": "b7e2ddf8-aecb-4dd3-9ab0-03b7a24ed673",
   "metadata": {},
   "outputs": [],
   "source": [
    "copies = copies.drop(columns=['truncated_urls'])"
   ]
  },
  {
   "cell_type": "code",
   "execution_count": 16,
   "id": "1daf1f72-72d7-40a3-b30f-23a350f21b6d",
   "metadata": {},
   "outputs": [
    {
     "data": {
      "text/html": [
       "<div>\n",
       "<style scoped>\n",
       "    .dataframe tbody tr th:only-of-type {\n",
       "        vertical-align: middle;\n",
       "    }\n",
       "\n",
       "    .dataframe tbody tr th {\n",
       "        vertical-align: top;\n",
       "    }\n",
       "\n",
       "    .dataframe thead th {\n",
       "        text-align: right;\n",
       "    }\n",
       "</style>\n",
       "<table border=\"1\" class=\"dataframe\">\n",
       "  <thead>\n",
       "    <tr style=\"text-align: right;\">\n",
       "      <th></th>\n",
       "      <th>url</th>\n",
       "      <th>category</th>\n",
       "    </tr>\n",
       "  </thead>\n",
       "  <tbody>\n",
       "    <tr>\n",
       "      <th>0</th>\n",
       "      <td>00000000a.blogspot.com</td>\n",
       "      <td>Porn</td>\n",
       "    </tr>\n",
       "    <tr>\n",
       "      <th>12</th>\n",
       "      <td>000-475-843.tumblr.com</td>\n",
       "      <td>Porn</td>\n",
       "    </tr>\n",
       "    <tr>\n",
       "      <th>20</th>\n",
       "      <td>000-coralinne-xxx-sara-calixto.tumblr.com</td>\n",
       "      <td>Porn</td>\n",
       "    </tr>\n",
       "    <tr>\n",
       "      <th>23</th>\n",
       "      <td>000girl.tumblr.com</td>\n",
       "      <td>Porn</td>\n",
       "    </tr>\n",
       "    <tr>\n",
       "      <th>24</th>\n",
       "      <td>000iblogchix.blogspot.ae</td>\n",
       "      <td>Porn</td>\n",
       "    </tr>\n",
       "    <tr>\n",
       "      <th>...</th>\n",
       "      <td>...</td>\n",
       "      <td>...</td>\n",
       "    </tr>\n",
       "    <tr>\n",
       "      <th>2237829</th>\n",
       "      <td>zzzdragonbdsm.tumblr.com</td>\n",
       "      <td>Porn</td>\n",
       "    </tr>\n",
       "    <tr>\n",
       "      <th>2237830</th>\n",
       "      <td>zzziir.tumblr.com</td>\n",
       "      <td>Porn</td>\n",
       "    </tr>\n",
       "    <tr>\n",
       "      <th>2237839</th>\n",
       "      <td>zzzyzxxx.tumblr.com</td>\n",
       "      <td>Porn</td>\n",
       "    </tr>\n",
       "    <tr>\n",
       "      <th>2237840</th>\n",
       "      <td>zzzzcam.blogspot.com</td>\n",
       "      <td>Porn</td>\n",
       "    </tr>\n",
       "    <tr>\n",
       "      <th>2237841</th>\n",
       "      <td>zzzz-m.tumblr.com</td>\n",
       "      <td>Porn</td>\n",
       "    </tr>\n",
       "  </tbody>\n",
       "</table>\n",
       "<p>219162 rows × 2 columns</p>\n",
       "</div>"
      ],
      "text/plain": [
       "                                               url category\n",
       "0                           00000000a.blogspot.com     Porn\n",
       "12                          000-475-843.tumblr.com     Porn\n",
       "20       000-coralinne-xxx-sara-calixto.tumblr.com     Porn\n",
       "23                              000girl.tumblr.com     Porn\n",
       "24                        000iblogchix.blogspot.ae     Porn\n",
       "...                                            ...      ...\n",
       "2237829                   zzzdragonbdsm.tumblr.com     Porn\n",
       "2237830                          zzziir.tumblr.com     Porn\n",
       "2237839                        zzzyzxxx.tumblr.com     Porn\n",
       "2237840                       zzzzcam.blogspot.com     Porn\n",
       "2237841                          zzzz-m.tumblr.com     Porn\n",
       "\n",
       "[219162 rows x 2 columns]"
      ]
     },
     "execution_count": 16,
     "metadata": {},
     "output_type": "execute_result"
    }
   ],
   "source": [
    "copies"
   ]
  },
  {
   "cell_type": "markdown",
   "id": "6d3b9d61-6ee0-46ff-828f-ade105b4c12e",
   "metadata": {},
   "source": [
    "# take other part without tumblr and blogspot"
   ]
  },
  {
   "cell_type": "code",
   "execution_count": 19,
   "id": "aaafca0d-ce19-4130-87e1-835a802cffdc",
   "metadata": {},
   "outputs": [],
   "source": [
    "df_no_copies = df.loc[~(df['url'].str.contains(\"blogspot\")) & ~(df['url'].str.contains(\"tumblr\"))]"
   ]
  },
  {
   "cell_type": "code",
   "execution_count": 20,
   "id": "403de8b1-1e71-40ea-9046-d40566ee6fa2",
   "metadata": {},
   "outputs": [
    {
     "data": {
      "text/plain": [
       "611676"
      ]
     },
     "execution_count": 20,
     "metadata": {},
     "output_type": "execute_result"
    }
   ],
   "source": [
    "len(df_no_copies)"
   ]
  },
  {
   "cell_type": "code",
   "execution_count": 21,
   "id": "b62b1305-1c6d-4879-acd9-ec9de1d491ff",
   "metadata": {},
   "outputs": [],
   "source": [
    "df = pd.concat([df_no_copies,copies])"
   ]
  },
  {
   "cell_type": "code",
   "execution_count": 23,
   "id": "35cb41ac-ce7c-496e-9b69-343c12d40687",
   "metadata": {},
   "outputs": [],
   "source": [
    "df.to_csv('porn_urls_preprocessed.csv',index=False)"
   ]
  },
  {
   "cell_type": "code",
   "execution_count": null,
   "id": "aff5c1e7-0063-4fa0-8ac6-46c03baf7385",
   "metadata": {},
   "outputs": [],
   "source": []
  }
 ],
 "metadata": {
  "kernelspec": {
   "display_name": "Python 3 (ipykernel)",
   "language": "python",
   "name": "python3"
  },
  "language_info": {
   "codemirror_mode": {
    "name": "ipython",
    "version": 3
   },
   "file_extension": ".py",
   "mimetype": "text/x-python",
   "name": "python",
   "nbconvert_exporter": "python",
   "pygments_lexer": "ipython3",
   "version": "3.9.18"
  }
 },
 "nbformat": 4,
 "nbformat_minor": 5
}
