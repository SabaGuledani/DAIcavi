{
 "cells": [
  {
   "cell_type": "code",
   "execution_count": 24,
   "id": "f4be8bc9-6843-4850-8f98-f54b3050a2fa",
   "metadata": {},
   "outputs": [],
   "source": [
    "import pandas as pd\n"
   ]
  },
  {
   "cell_type": "code",
   "execution_count": 25,
   "id": "092269c5-e1c6-4d69-bc28-ac6946e20fd2",
   "metadata": {},
   "outputs": [],
   "source": [
    "df = pd.read_csv('./datasets/porn_urls.csv')"
   ]
  },
  {
   "cell_type": "code",
   "execution_count": 26,
   "id": "806277d5-74b7-4762-b7bf-b5dde9e74feb",
   "metadata": {},
   "outputs": [],
   "source": [
    "copies = df.loc[(df['url'].str.contains(\"blogspot\")) | (df['url'].str.contains(\"tumblr\"))]"
   ]
  },
  {
   "cell_type": "code",
   "execution_count": 36,
   "id": "27ac9870-3d9c-4145-8baa-65bf91433f87",
   "metadata": {},
   "outputs": [
    {
     "name": "stdout",
     "output_type": "stream",
     "text": [
      "% of links with blogspot or tumblr in it: 72%\n",
      "left 611676 links\n"
     ]
    }
   ],
   "source": [
    "length_copies = len(copies)\n",
    "\n",
    "percent = length_copies/len(df)\n",
    "print(f'% of links with blogspot or tumblr in it: {int(percent * 100)}%')\n",
    "print(f'left {int(len(df) * (1-percent))} links')"
   ]
  },
  {
   "cell_type": "code",
   "execution_count": 18,
   "id": "cba99092-e939-4d0d-a00b-ec2fe723bcc8",
   "metadata": {},
   "outputs": [
    {
     "data": {
      "text/plain": [
       "783245.3999999999"
      ]
     },
     "execution_count": 18,
     "metadata": {},
     "output_type": "execute_result"
    }
   ],
   "source": []
  },
  {
   "cell_type": "code",
   "execution_count": 31,
   "id": "7cb4ab28-387e-4228-add3-d293f8cb170f",
   "metadata": {},
   "outputs": [
    {
     "data": {
      "text/plain": [
       "1626168"
      ]
     },
     "execution_count": 31,
     "metadata": {},
     "output_type": "execute_result"
    }
   ],
   "source": []
  },
  {
   "cell_type": "code",
   "execution_count": null,
   "id": "39261843-f211-4c3f-8b13-f73fe12f7d1e",
   "metadata": {},
   "outputs": [],
   "source": []
  }
 ],
 "metadata": {
  "kernelspec": {
   "display_name": "Python 3 (ipykernel)",
   "language": "python",
   "name": "python3"
  },
  "language_info": {
   "codemirror_mode": {
    "name": "ipython",
    "version": 3
   },
   "file_extension": ".py",
   "mimetype": "text/x-python",
   "name": "python",
   "nbconvert_exporter": "python",
   "pygments_lexer": "ipython3",
   "version": "3.9.18"
  }
 },
 "nbformat": 4,
 "nbformat_minor": 5
}
