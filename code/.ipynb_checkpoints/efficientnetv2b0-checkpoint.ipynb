{
 "cells": [
  {
   "cell_type": "code",
   "execution_count": 1,
   "id": "f385378c-9f1c-49fd-826b-0966e68e79bf",
   "metadata": {},
   "outputs": [
    {
     "name": "stdout",
     "output_type": "stream",
     "text": [
      "Num GPUs Available:  1\n"
     ]
    }
   ],
   "source": [
    "import numpy as np\n",
    "import os\n",
    "import matplotlib.pyplot as plt\n",
    "import cv2\n",
    "import tensorflow as tf\n",
    "from sklearn.metrics import f1_score, fbeta_score, precision_score, recall_score,confusion_matrix,ConfusionMatrixDisplay\n",
    "from tensorflow.keras.utils import load_img,img_to_array\n",
    "from tensorflow.keras.applications import EfficientNetV2B0\n",
    "from tensorflow.keras.applications.efficientnet_v2 import preprocess_input, decode_predictions\n",
    "from tensorflow.keras.optimizers import Adam\n",
    "from tensorflow.keras.layers import Dense,GlobalAveragePooling2D,Input,Dropout\n",
    "from tensorflow.keras.models import Model\n",
    "from tensorflow.keras.layers import RandomFlip, RandomRotation, RandomContrast, RandomZoom\n",
    "from tensorflow.keras.callbacks import EarlyStopping,ModelCheckpoint,ReduceLROnPlateau\n",
    "from tensorflow.keras.regularizers import l2\n",
    "from tensorflow.keras.optimizers.schedules import ExponentialDecay\n",
    "\n",
    "print(\"Num GPUs Available: \", len(tf.config.list_physical_devices('GPU')))"
   ]
  },
  {
   "cell_type": "code",
   "execution_count": 2,
   "id": "15be84db-fbe5-497d-a945-55d48f9a9c7e",
   "metadata": {},
   "outputs": [],
   "source": [
    "# We need to set seed for any randomizing that will happen during process\n",
    "SEED = 44\n",
    "AUTOTUNE = tf.data.experimental.AUTOTUNE\n",
    "shape = 256\n",
    "# Train, Test, Validation split sizes\n",
    "split_size_train = 0.8\n",
    "split_size_test = 0.1\n",
    "split_size_val = 0.1"
   ]
  },
  {
   "cell_type": "code",
   "execution_count": 3,
   "id": "5937c6c5-7a9a-4c0d-b755-031193936776",
   "metadata": {},
   "outputs": [],
   "source": [
    "def load_from_directory(filename,batch_size):\n",
    "    data = tf.keras.utils.image_dataset_from_directory(filename,\n",
    "                                                       batch_size=batch_size,\n",
    "                                                       image_size=(shape,shape),\n",
    "                                                       seed=SEED,labels=\"inferred\",\n",
    "                                                       label_mode=\"int\",\n",
    "                                                       shuffle=True)\n",
    "    return data\n",
    "# We split our dataset into train and validation sets\n",
    "def split_dir_dataset(data):\n",
    "    # scale down rgb from 255 to 0\n",
    "    # data = data.map(lambda x,y: (x/255,y))\n",
    "    \n",
    "    # percent size of train and val sets\n",
    "    train_size = int(len(data)* split_size_train)\n",
    "    test_size = int(len(data) * split_size_test)\n",
    "    val_size = int(len(data)* split_size_val)\n",
    "    \n",
    "    \n",
    "    # take that size images from dataset\n",
    "    train = data.take(train_size)\n",
    "    val = data.skip(train_size).take(val_size)\n",
    "    test = data.skip(train_size+val_size).take(test_size)\n",
    "    \n",
    "    \n",
    "    print(f'training shape: {train.as_numpy_iterator().next()[0].shape}')\n",
    "    return train,test,val"
   ]
  },
  {
   "cell_type": "code",
   "execution_count": 4,
   "id": "95ae9fec-fc11-41e2-9fa1-0dc1a9146150",
   "metadata": {},
   "outputs": [],
   "source": [
    "def get_dataset(batch_size):\n",
    "    # path to our dataset\n",
    "    dataset_path = '../image_training_data/'\n",
    "    \n",
    "    data = load_from_directory(dataset_path,batch_size)\n",
    "    \n",
    "    train,test, val = split_dir_dataset(data)\n",
    "    # train = train.cache()\n",
    "    train = train.prefetch(buffer_size=AUTOTUNE)\n",
    "    val = val.prefetch(buffer_size=AUTOTUNE)\n",
    "    test = test.prefetch(buffer_size=AUTOTUNE)\n",
    "\n",
    "    return train,val,test"
   ]
  },
  {
   "cell_type": "code",
   "execution_count": 5,
   "id": "306f38ba-a18f-4ff2-a76c-3cbaee68db7e",
   "metadata": {},
   "outputs": [
    {
     "name": "stdout",
     "output_type": "stream",
     "text": [
      "Found 1093271 files belonging to 2 classes.\n",
      "training shape: (64, 256, 256, 3)\n"
     ]
    }
   ],
   "source": [
    "train,val,test = get_dataset(64)"
   ]
  },
  {
   "cell_type": "code",
   "execution_count": 6,
   "id": "3d89f62c-3e90-4d7e-a5d6-be338a30a214",
   "metadata": {},
   "outputs": [
    {
     "name": "stdout",
     "output_type": "stream",
     "text": [
      "2\n"
     ]
    }
   ],
   "source": [
    "output_len = 2  #len(data.class_names)\n",
    "print(output_len)"
   ]
  },
  {
   "cell_type": "code",
   "execution_count": 5,
   "id": "ea1ba8af-4751-4e91-a9c0-5db3bce1af2c",
   "metadata": {},
   "outputs": [],
   "source": [
    "def show_samples_dataset(data):\n",
    "    class_names = data.class_names\n",
    "    plt.figure(figsize=(10, 10))\n",
    "    for images, labels in data.take(1):\n",
    "      for i in range(9):\n",
    "        ax = plt.subplot(3, 3, i + 1)\n",
    "        plt.imshow(images[i].numpy().astype(\"uint8\"))\n",
    "        plt.title(class_names[labels[i]])\n",
    "        plt.axis(\"off\")\n",
    "          \n",
    "def show_results(hist,mode='acc'):\n",
    "    if mode == 'acc' or mode == 'accuracy':\n",
    "        mode = 'accuracy'\n",
    "        val_mode = 'val_accuracy'\n",
    "    elif mode == 'loss':\n",
    "        mode = \"loss\"\n",
    "        val_mode = \"val_loss\"\n",
    "    \n",
    "    fig = plt.figure()\n",
    "    plt.plot(hist.history[mode], color='teal', label=mode)\n",
    "    plt.plot(hist.history[val_mode], color='orange', label=val_mode)\n",
    "    fig.suptitle(mode, fontsize=20)\n",
    "    plt.legend(loc=\"upper left\")\n",
    "    plt.show()\n",
    "    \n",
    "def prediction_dir_dataset(model,test,data):\n",
    "    y_true = []\n",
    "    y_pred = []\n",
    "    length = int(len(data) * .10)\n",
    "    index = 0\n",
    "    for batch in test: \n",
    "        X, y = batch\n",
    "        yhat = model.predict(X)\n",
    "        yhat = np.argmax(yhat,axis=1)\n",
    "        y_true.append(y)\n",
    "        y_pred.append(yhat)\n",
    "        print(f\"Progress: {index}/{length}\", end='\\r')\n",
    "        index += len(X)\n",
    "    y_true = np.array(y_true)\n",
    "    y_true = y_true.reshape(-1)\n",
    "    y_pred = np.array(y_pred)\n",
    "    y_pred = y_pred.reshape(-1)\n",
    "    \n",
    "    return y_true, y_pred\n",
    "\n",
    "def scores(y_true,y_pred,show_confusion_matrix=True):\n",
    "    precision_micro = precision_score(y_true, y_pred, average='micro')\n",
    "    precision_weighted = precision_score(y_true, y_pred, average='weighted')\n",
    "    recall_micro = recall_score(y_true, y_pred, average='micro')\n",
    "    recall_weighted = recall_score(y_true, y_pred, average='weighted')\n",
    "    f1_micro = f1_score(y_true, y_pred, average='micro')\n",
    "    f1_weighted = f1_score(y_true, y_pred, average='weighted')\n",
    "    f2_micro = fbeta_score(y_true, y_pred, beta=2, average='micro')\n",
    "    f2_weighted = fbeta_score(y_true, y_pred, beta=2, average='weighted')\n",
    "    \n",
    "    if show_confusion_matrix == True:\n",
    "        cm = confusion_matrix(y_true, y_pred)\n",
    "        disp = ConfusionMatrixDisplay(confusion_matrix=cm)\n",
    "        disp.plot()\n",
    "        plt.show()\n",
    "    print(f\"precision weighted: {'{:.3f}'.format(precision_weighted)}\\nprecision micro: {precision_micro} \")\n",
    "    print(f'recall weighted: {recall_weighted}\\nrecall micro: {recall_micro} ')\n",
    "    print(f'f1 weighted: {\"{:.3f}\".format(f1_weighted)}\\nf1 micro: {f1_micro} ')\n",
    "    print(f'f2 weighted: {\"{:.3f}\".format(f2_weighted)}\\nf2 micro: {f2_micro} ')\n",
    "    \n"
   ]
  },
  {
   "cell_type": "code",
   "execution_count": 8,
   "id": "acc17677-a234-4188-91e6-5a6e073844c0",
   "metadata": {},
   "outputs": [],
   "source": [
    "def data_augment(X):\n",
    "    X = RandomZoom(0.2)(X)\n",
    "    X = RandomFlip(mode=\"horizontal_and_vertical\", seed=SEED)(X)\n",
    "    X = RandomRotation(factor=0.8)(X)\n",
    "    X = RandomContrast(0.6, seed=SEED)(X)\n",
    "    return X"
   ]
  },
  {
   "cell_type": "code",
   "execution_count": 9,
   "id": "2b68fdd9-2f9b-4889-8be2-9dd36a393dca",
   "metadata": {},
   "outputs": [],
   "source": [
    "input_shape = (shape,shape,3)\n",
    "base_model = EfficientNetV2B0(input_shape=input_shape, weights='imagenet',include_top=False, include_preprocessing=True)\n"
   ]
  },
  {
   "cell_type": "code",
   "execution_count": 10,
   "id": "fe4470bc-d593-47b4-893d-9850b3fe862f",
   "metadata": {},
   "outputs": [],
   "source": [
    "# initialize input shape layer for data augmentation block\n",
    "x_input = Input(input_shape)\n",
    "x = data_augment(x_input)\n",
    "\n",
    "# connect data augmentation block to base model\n",
    "x = base_model(x)\n",
    "\n",
    "# Global spatial avg pooling layer\n",
    "x = GlobalAveragePooling2D()(x)\n",
    "\n",
    "# Fully connected layer\n",
    "x = Dense(128, activation='relu')(x)\n",
    "x = Dropout(0.5)(x)\n",
    "x = Dense(64, activation='relu')(x)\n",
    "x = Dropout(0.5)(x)\n",
    "x = Dense(32, activation='relu')(x)\n",
    "x = Dropout(0.5)(x)\n",
    "\n",
    "\n",
    "# We have 2 classes either it is suitable for children or not\n",
    "predictions = Dense(output_len,activation='softmax')(x)\n",
    "\n",
    "# this is the model we will train\n",
    "model = Model(inputs=x_input, outputs=predictions)\n"
   ]
  },
  {
   "cell_type": "code",
   "execution_count": 11,
   "id": "00fbd371-bdf8-4893-9b4f-201ccea32deb",
   "metadata": {},
   "outputs": [],
   "source": [
    "# first: train only the top layers (which were randomly initialized)\n",
    "# i.e. freeze all convolutional MobileNetV3 layers\n",
    "for layer in base_model.layers:\n",
    "    layer.trainable = False\n",
    "\n",
    "# Define ReduceLROnPlateau callback\n",
    "reduce_lr = ReduceLROnPlateau(\n",
    "    monitor=\"val_loss\",   # Watch validation loss\n",
    "    factor=0.5,           # Reduce LR by 50% when triggered\n",
    "    patience=3,           # Wait 3 epochs before reducing LR\n",
    "    min_lr=1e-6,          # Do not go below this LR\n",
    "    verbose=1             # Print when LR is reduced\n",
    ")\n",
    "\n",
    "initial_lr = 1e-3\n",
    "lr_schedule = ExponentialDecay(\n",
    "    initial_lr, decay_steps=5000, decay_rate=0.8, staircase=True\n",
    ")\n",
    "\n",
    "optimizer = Adam(learning_rate=lr_schedule)\n",
    "\n",
    "model.compile(optimizer=optimizer,\n",
    "             loss=tf.losses.SparseCategoricalCrossentropy(),\n",
    "             metrics=['accuracy'])\n",
    "\n"
   ]
  },
  {
   "cell_type": "code",
   "execution_count": 12,
   "id": "73e1fb9c-d72d-44ae-bfbb-d5e6ca6e8569",
   "metadata": {},
   "outputs": [
    {
     "name": "stdout",
     "output_type": "stream",
     "text": [
      "Model: \"model\"\n",
      "_________________________________________________________________\n",
      " Layer (type)                Output Shape              Param #   \n",
      "=================================================================\n",
      " input_2 (InputLayer)        [(None, 256, 256, 3)]     0         \n",
      "                                                                 \n",
      " random_zoom (RandomZoom)    (None, 256, 256, 3)       0         \n",
      "                                                                 \n",
      " random_flip (RandomFlip)    (None, 256, 256, 3)       0         \n",
      "                                                                 \n",
      " random_rotation (RandomRota  (None, 256, 256, 3)      0         \n",
      " tion)                                                           \n",
      "                                                                 \n",
      " random_contrast (RandomCont  (None, 256, 256, 3)      0         \n",
      " rast)                                                           \n",
      "                                                                 \n",
      " efficientnetv2-b0 (Function  (None, 8, 8, 1280)       5919312   \n",
      " al)                                                             \n",
      "                                                                 \n",
      " global_average_pooling2d (G  (None, 1280)             0         \n",
      " lobalAveragePooling2D)                                          \n",
      "                                                                 \n",
      " dense (Dense)               (None, 128)               163968    \n",
      "                                                                 \n",
      " dropout (Dropout)           (None, 128)               0         \n",
      "                                                                 \n",
      " dense_1 (Dense)             (None, 64)                8256      \n",
      "                                                                 \n",
      " dropout_1 (Dropout)         (None, 64)                0         \n",
      "                                                                 \n",
      " dense_2 (Dense)             (None, 32)                2080      \n",
      "                                                                 \n",
      " dropout_2 (Dropout)         (None, 32)                0         \n",
      "                                                                 \n",
      " dense_3 (Dense)             (None, 2)                 66        \n",
      "                                                                 \n",
      "=================================================================\n",
      "Total params: 6,093,682\n",
      "Trainable params: 174,370\n",
      "Non-trainable params: 5,919,312\n",
      "_________________________________________________________________\n"
     ]
    }
   ],
   "source": [
    "model.summary()"
   ]
  },
  {
   "cell_type": "code",
   "execution_count": 13,
   "id": "969b05df-5652-489c-8516-3132d224dc8e",
   "metadata": {},
   "outputs": [],
   "source": [
    "\n",
    "# choose model name\n",
    "model_name = f\"EfficientNetV2B0_128_64_32_frozen.h5\"\n",
    "\n"
   ]
  },
  {
   "cell_type": "code",
   "execution_count": 14,
   "id": "e68962ec-fe2b-4b78-8889-876794258910",
   "metadata": {},
   "outputs": [
    {
     "name": "stdout",
     "output_type": "stream",
     "text": [
      " 3015/13666 [=====>........................] - ETA: 31:46 - loss: 0.2232 - accuracy: 0.9153"
     ]
    },
    {
     "name": "stderr",
     "output_type": "stream",
     "text": [
      "\n",
      "KeyboardInterrupt\n",
      "\n"
     ]
    }
   ],
   "source": [
    "# train the model on the new data for a few epochs\n",
    "epochs = 1\n",
    "\n",
    "hist = model.fit(train,\n",
    "                 epochs = epochs,\n",
    "                 validation_data=val,\n",
    "                 callbacks=[reduce_lr]\n",
    "                 # callbacks = [checkpoint,early_stopping]\n",
    "                 # ,validation_freq=VAL_FREQ\n",
    "                )"
   ]
  },
  {
   "cell_type": "markdown",
   "id": "cb191675-4081-4ea4-b864-67dea0e3927d",
   "metadata": {},
   "source": [
    "# Unforzen model training\n"
   ]
  },
  {
   "cell_type": "code",
   "execution_count": 15,
   "id": "2b401010-ef09-4c88-812f-338cf494ddca",
   "metadata": {},
   "outputs": [],
   "source": [
    "model_name =\"EfficientNetV2B0_128_64_32_frozen.h5\" \n",
    "model.save(model_name)"
   ]
  },
  {
   "cell_type": "code",
   "execution_count": 16,
   "id": "dc9d7bfa-72ea-4b19-b02e-4a22ab560eb5",
   "metadata": {},
   "outputs": [
    {
     "name": "stdout",
     "output_type": "stream",
     "text": [
      "Found 1093271 files belonging to 2 classes.\n",
      "training shape: (12, 256, 256, 3)\n"
     ]
    }
   ],
   "source": [
    "model = tf.keras.models.load_model(model_name)\n",
    "\n",
    "train,val,test = get_dataset(12)\n",
    "# Define callbacks\n",
    "model_name = f\"EfficientNetV2B0_128_64_32.h5\"\n",
    "\n",
    "checkpoint = ModelCheckpoint(model_name, monitor='val_loss', save_best_only=True, mode='min')\n",
    "early_stopping = EarlyStopping(monitor='val_loss', patience=2, mode='min')\n",
    "for layer in model.layers:\n",
    "   layer.trainable = True"
   ]
  },
  {
   "cell_type": "code",
   "execution_count": 21,
   "id": "d45a13e0-2b2f-4932-b53c-ad62d8e60913",
   "metadata": {},
   "outputs": [],
   "source": [
    "# we need to recompile the model for these modifications to take effect\n",
    "# we use adam with a low learning rate\n",
    "model.compile(optimizer=Adam(learning_rate=0.00001),\n",
    "              loss=tf.losses.SparseCategoricalCrossentropy(),\n",
    "              metrics=[\"accuracy\"]\n",
    "             )\n",
    "\n",
    "reduce_lr = ReduceLROnPlateau(\n",
    "    monitor=\"val_loss\",   # Watch validation loss\n",
    "    factor=0.5,           # Reduce LR by 50% when triggered\n",
    "    patience=2,           # Wait 3 epochs before reducing LR\n",
    "    min_lr=1e-6,          # Do not go below this LR\n",
    "    verbose=1             # Print when LR is reduced\n",
    ")"
   ]
  },
  {
   "cell_type": "code",
   "execution_count": 22,
   "id": "0c12f394-10b3-4b93-9250-e040559be4d9",
   "metadata": {},
   "outputs": [
    {
     "name": "stdout",
     "output_type": "stream",
     "text": [
      "Epoch 1/5\n",
      "72884/72884 [==============================] - 9346s 128ms/step - loss: 0.1497 - accuracy: 0.9478 - val_loss: 0.0903 - val_accuracy: 0.9674 - lr: 1.0000e-05\n",
      "Epoch 2/5\n",
      "48905/72884 [===================>..........] - ETA: 47:02 - loss: 0.1058 - accuracy: 0.9642"
     ]
    },
    {
     "name": "stderr",
     "output_type": "stream",
     "text": [
      "Exception ignored in: <function WeakKeyDictionary.__init__.<locals>.remove at 0x00000137105C25E0>\n",
      "Traceback (most recent call last):\n",
      "  File \"C:\\Users\\Saba\\.conda\\envs\\AI\\lib\\weakref.py\", line 371, in remove\n",
      "KeyboardInterrupt: \n",
      "\n",
      "KeyboardInterrupt\n",
      "\n"
     ]
    }
   ],
   "source": [
    "epochs = 5\n",
    "hist_unfreezed = model.fit(train,\n",
    "                 epochs = epochs,\n",
    "                 validation_data=val,\n",
    "                 callbacks = [checkpoint,early_stopping,reduce_lr]\n",
    "                 # ,validation_freq=VAL_FREQ\n",
    "                )"
   ]
  },
  {
   "cell_type": "code",
   "execution_count": 23,
   "id": "63b0a05c-148e-4a34-86f8-b7d85afed700",
   "metadata": {},
   "outputs": [],
   "source": [
    "model.save(\"EfficientNetV2B0_128_64_32_2nd_epoch.h5\") \n"
   ]
  },
  {
   "cell_type": "code",
   "execution_count": 6,
   "id": "fc9e8348-40a8-422c-b5c0-b0ce42f6ec0e",
   "metadata": {},
   "outputs": [
    {
     "name": "stdout",
     "output_type": "stream",
     "text": [
      "Found 1093271 files belonging to 2 classes.\n",
      "training shape: (256, 256, 256, 3)\n",
      "Progress: 109056/427\r"
     ]
    },
    {
     "data": {
      "image/png": "[encoded data removed]",
      "text/plain": [
       "<Figure size 640x480 with 2 Axes>"
      ]
     },
     "metadata": {},
     "output_type": "display_data"
    },
    {
     "name": "stdout",
     "output_type": "stream",
     "text": [
      "precision weighted: 0.968\n",
      "precision micro: 0.967771150468384 \n",
      "recall weighted: 0.967771150468384\n",
      "recall micro: 0.967771150468384 \n",
      "f1 weighted: 0.968\n",
      "f1 micro: 0.967771150468384 \n",
      "f2 weighted: 0.968\n",
      "f2 micro: 0.967771150468384 \n"
     ]
    }
   ],
   "source": [
    "# path to our dataset\n",
    "dataset_path = '../image_training_data/'\n",
    "\n",
    "data = load_from_directory(dataset_path,256)\n",
    "\n",
    "train,test, val = split_dir_dataset(data)\n",
    "# train = train.cache()\n",
    "train = train.prefetch(buffer_size=AUTOTUNE)\n",
    "val = val.prefetch(buffer_size=AUTOTUNE)\n",
    "test = test.prefetch(buffer_size=AUTOTUNE)\n",
    "\n",
    "\n",
    "model = tf.keras.models.load_model('./models/image_classification/256/EfficientNetV2B0_128_64_32.h5')\n",
    "y_true, y_pred = prediction_dir_dataset(model,test,data)\n",
    "\n",
    "scores(y_true,y_pred)"
   ]
  },
  {
   "cell_type": "code",
   "execution_count": 7,
   "id": "2384e156-cff3-41b2-a296-35625419b9e3",
   "metadata": {},
   "outputs": [
    {
     "name": "stdout",
     "output_type": "stream",
     "text": [
      "Progress: 109056/427\r"
     ]
    },
    {
     "data": {
      "image/png": "[encoded data removed]",
      "text/plain": [
       "<Figure size 640x480 with 2 Axes>"
      ]
     },
     "metadata": {},
     "output_type": "display_data"
    },
    {
     "name": "stdout",
     "output_type": "stream",
     "text": [
      "precision weighted: 0.967\n",
      "precision micro: 0.9667282640515222 \n",
      "recall weighted: 0.9667282640515222\n",
      "recall micro: 0.9667282640515222 \n",
      "f1 weighted: 0.967\n",
      "f1 micro: 0.9667282640515222 \n",
      "f2 weighted: 0.967\n",
      "f2 micro: 0.9667282640515222 \n"
     ]
    }
   ],
   "source": [
    "model = tf.keras.models.load_model('./models/image_classification/256/EfficientNetV2B0_256_128_32.h5')\n",
    "y_true, y_pred = prediction_dir_dataset(model,test,data)\n",
    "\n",
    "scores(y_true,y_pred)"
   ]
  },
  {
   "cell_type": "code",
   "execution_count": null,
   "id": "5c95de0b-d88f-45df-911b-94fb1bd18f23",
   "metadata": {},
   "outputs": [],
   "source": []
  }
 ],
 "metadata": {
  "kernelspec": {
   "display_name": "Python 3 (ipykernel)",
   "language": "python",
   "name": "python3"
  },
  "language_info": {
   "codemirror_mode": {
    "name": "ipython",
    "version": 3
   },
   "file_extension": ".py",
   "mimetype": "text/x-python",
   "name": "python",
   "nbconvert_exporter": "python",
   "pygments_lexer": "ipython3",
   "version": "3.9.21"
  }
 },
 "nbformat": 4,
 "nbformat_minor": 5
}
