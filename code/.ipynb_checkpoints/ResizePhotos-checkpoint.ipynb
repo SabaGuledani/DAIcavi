{
 "cells": [
  {
   "cell_type": "code",
   "execution_count": 8,
   "id": "041bea00-cf4c-4654-9eef-b8d0f6fc9223",
   "metadata": {},
   "outputs": [
    {
     "name": "stdout",
     "output_type": "stream",
     "text": [
      "399202\n"
     ]
    }
   ],
   "source": [
    "import PIL\n",
    "import os\n",
    "import os.path\n",
    "from PIL import Image\n",
    "from collections import Counter\n",
    "filepath_photos = r'C:/Users/Saba/fiftyone/open-images-v7/train/data/'\n",
    "filepath_save_to = r'../datasets/images/fiftyone_resized/'\n",
    "files = os.listdir(filepath_photos)\n",
    "length = len(files)\n",
    "print(length)"
   ]
  },
  {
   "cell_type": "code",
   "execution_count": 11,
   "id": "8c870a8c-491b-4774-b7a0-9e3f1dc15635",
   "metadata": {},
   "outputs": [],
   "source": [
    "def resize_photos(filepath,filepath_save_to,height,width):\n",
    "    files = os.listdir(filepath)\n",
    "    length = len(files)\n",
    "    for index,file in enumerate(files):\n",
    "        try:\n",
    "            f_img = filepath+\"/\"+file\n",
    "            img = Image.open(f_img)\n",
    "            img = img.resize((height,width))\n",
    "            img.save(filepath_save_to+\"/\"+file)\n",
    "        except:\n",
    "            print(f\"problem opening {file}\")\n",
    "        #     # os.remove(f_img)\n",
    "        print(f\"Progress: {index}/{length}\", end='\\r')"
   ]
  },
  {
   "cell_type": "code",
   "execution_count": 12,
   "id": "ac5a4163-c753-4399-8b24-927ac747d24a",
   "metadata": {},
   "outputs": [
    {
     "name": "stdout",
     "output_type": "stream",
     "text": [
      "problem opening 0ad660ec39ba91e8.jpg.5B4bAa50\n",
      "problem opening 1c6fc7c5aa4a9a69.jpg.EfBdFaD0\n",
      "problem opening c4b620b3d21b9dae.jpg.CEF2550B\n",
      "Progress: 399201/399202\r"
     ]
    }
   ],
   "source": [
    "resize_photos(filepath_photos,filepath_save_to,128,128)"
   ]
  },
  {
   "cell_type": "code",
   "execution_count": 20,
   "id": "91ebbb0a-e781-4013-b402-51ab0dc22a69",
   "metadata": {},
   "outputs": [
    {
     "ename": "FileNotFoundError",
     "evalue": "[WinError 3] The system cannot find the path specified: 'C:\\\\Users\\\\warfa\\\\Desktop\\\\Python\\\\AI CS hackathon btu\\\\notrain'",
     "output_type": "error",
     "traceback": [
      "\u001b[1;31m---------------------------------------------------------------------------\u001b[0m",
      "\u001b[1;31mFileNotFoundError\u001b[0m                         Traceback (most recent call last)",
      "Cell \u001b[1;32mIn[20], line 5\u001b[0m\n\u001b[0;32m      2\u001b[0m \u001b[38;5;28;01mimport\u001b[39;00m \u001b[38;5;21;01mcv2\u001b[39;00m\n\u001b[0;32m      4\u001b[0m \u001b[38;5;66;03m#for filename in listdir('C:/tensorflow/models/research/object_detection/images/train'):\u001b[39;00m\n\u001b[1;32m----> 5\u001b[0m \u001b[38;5;28;01mfor\u001b[39;00m filename \u001b[38;5;129;01min\u001b[39;00m \u001b[43mlistdir\u001b[49m\u001b[43m(\u001b[49m\u001b[43mf\u001b[49m\u001b[43m)\u001b[49m:\n\u001b[0;32m      6\u001b[0m     \u001b[38;5;28;01mif\u001b[39;00m filename\u001b[38;5;241m.\u001b[39mendswith(\u001b[38;5;124m\"\u001b[39m\u001b[38;5;124m.jpg\u001b[39m\u001b[38;5;124m\"\u001b[39m) \u001b[38;5;129;01mor\u001b[39;00m filename\u001b[38;5;241m.\u001b[39mendswith(\u001b[38;5;124m\"\u001b[39m\u001b[38;5;124m.png\u001b[39m\u001b[38;5;124m\"\u001b[39m) :\n\u001b[0;32m      7\u001b[0m         \u001b[38;5;28;01mtry\u001b[39;00m:\n",
      "\u001b[1;31mFileNotFoundError\u001b[0m: [WinError 3] The system cannot find the path specified: 'C:\\\\Users\\\\warfa\\\\Desktop\\\\Python\\\\AI CS hackathon btu\\\\notrain'"
     ]
    }
   ],
   "source": [
    "from os import listdir\n",
    "import cv2\n",
    "\n",
    "#for filename in listdir('C:/tensorflow/models/research/object_detection/images/train'):\n",
    "for filename in listdir(f):\n",
    "    if filename.endswith(\".jpg\") or filename.endswith(\".png\") :\n",
    "        try:\n",
    "            cv2.imread(f+filename)\n",
    "        except:\n",
    "            print(f+filename)\n",
    "    #cv2.imread('C:/tensorflow/models/research/object_detection/images/train/'+filename)\n",
    "    "
   ]
  },
  {
   "cell_type": "code",
   "execution_count": 21,
   "id": "b28989a4-1fef-47d2-83fe-9643e8fc451e",
   "metadata": {},
   "outputs": [],
   "source": [
    "extensions = [file[-4:] for file in files]"
   ]
  },
  {
   "cell_type": "code",
   "execution_count": 22,
   "id": "e4be40da-d40e-414d-8be3-b75d0d1f8790",
   "metadata": {
    "scrolled": true
   },
   "outputs": [],
   "source": [
    "count = Counter(extensions)"
   ]
  },
  {
   "cell_type": "code",
   "execution_count": 23,
   "id": "878a98d6-f1b7-4f32-8e05-d8b273fe63d1",
   "metadata": {},
   "outputs": [
    {
     "data": {
      "text/plain": [
       "Counter({'.jpg': 171908, 'jpeg': 47821, '.JPG': 5})"
      ]
     },
     "execution_count": 23,
     "metadata": {},
     "output_type": "execute_result"
    }
   ],
   "source": [
    "count"
   ]
  },
  {
   "cell_type": "code",
   "execution_count": 30,
   "id": "af512882-ef21-4d7d-9072-35b3f7694777",
   "metadata": {},
   "outputs": [],
   "source": [
    "for file in files:\n",
    "    if file.endswith(\".png\") :\n",
    "        os.remove(f+'/'+file)\n",
    "        # print(f+'/'+file)\n"
   ]
  },
  {
   "cell_type": "code",
   "execution_count": 1,
   "id": "d5e87ce2-2788-41aa-8531-2e8be6efdb6f",
   "metadata": {},
   "outputs": [
    {
     "name": "stdout",
     "output_type": "stream",
     "text": [
      "Progress: 179387\r"
     ]
    },
    {
     "name": "stderr",
     "output_type": "stream",
     "text": [
      "IOPub data rate exceeded.\n",
      "The Jupyter server will temporarily stop sending output\n",
      "to the client in order to avoid crashing it.\n",
      "To change this limit, set the config variable\n",
      "`--ServerApp.iopub_data_rate_limit`.\n",
      "\n",
      "Current values:\n",
      "ServerApp.iopub_data_rate_limit=1000000.0 (bytes/sec)\n",
      "ServerApp.rate_limit_window=3.0 (secs)\n",
      "\n"
     ]
    },
    {
     "name": "stdout",
     "output_type": "stream",
     "text": [
      "Progress: 498014\r"
     ]
    }
   ],
   "source": [
    "from pathlib import Path\n",
    "import imghdr\n",
    "\n",
    "data_dir = r'C:\\Users\\warfa\\Desktop\\Python\\AI CS hackathon btu\\multiclass\\nude'\n",
    "image_extensions = [\".png\", \".jpg\",]  # add there all your images file extensions\n",
    "\n",
    "i = 0\n",
    "img_type_accepted_by_tf = [\"bmp\", \"gif\", \"jpeg\", \"png\"]\n",
    "for filepath in Path(data_dir).rglob(\"*\"):\n",
    "    if filepath.suffix.lower() in image_extensions:\n",
    "        img_type = imghdr.what(filepath)\n",
    "        if img_type is None:\n",
    "            os.remove(filepath)\n",
    "            count+=1\n",
    "            print(f\"{filepath} is not an image\")\n",
    "        elif img_type not in img_type_accepted_by_tf:\n",
    "            os.remove(filepath)\n",
    "            count+=1\n",
    "            print(f\"{filepath} is a {img_type}, not accepted by TensorFlow\")\n",
    "    # print(f\"Progress: {i}\", end='\\r')\n",
    "    i+=1"
   ]
  },
  {
   "cell_type": "code",
   "execution_count": 23,
   "id": "062107aa-fdcc-4751-94c5-ea5a3041270d",
   "metadata": {},
   "outputs": [
    {
     "name": "stdout",
     "output_type": "stream",
     "text": [
      "26086\n"
     ]
    }
   ],
   "source": [
    "print(count)"
   ]
  },
  {
   "cell_type": "code",
   "execution_count": null,
   "id": "c60a25ee-5e2c-4f69-b21d-f0d488294946",
   "metadata": {},
   "outputs": [],
   "source": []
  }
 ],
 "metadata": {
  "kernelspec": {
   "display_name": "Python 3 (ipykernel)",
   "language": "python",
   "name": "python3"
  },
  "language_info": {
   "codemirror_mode": {
    "name": "ipython",
    "version": 3
   },
   "file_extension": ".py",
   "mimetype": "text/x-python",
   "name": "python",
   "nbconvert_exporter": "python",
   "pygments_lexer": "ipython3",
   "version": "3.9.19"
  }
 },
 "nbformat": 4,
 "nbformat_minor": 5
}
