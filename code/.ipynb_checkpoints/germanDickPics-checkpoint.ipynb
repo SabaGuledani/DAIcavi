{
 "cells": [
  {
   "cell_type": "code",
   "execution_count": 1,
   "id": "89cfc6b8-364c-4082-8cda-dd76191dd2ef",
   "metadata": {},
   "outputs": [],
   "source": [
    "import requests\n",
    "from PIL import Image\n",
    "from io import BytesIO\n",
    "import matplotlib.pyplot as plt \n",
    "import pandas as pd\n",
    "from random import randrange\n",
    "import time\n",
    "from fake_useragent import UserAgent\n",
    "from bs4 import BeautifulSoup"
   ]
  },
  {
   "cell_type": "code",
   "execution_count": 2,
   "id": "59094638-535b-4731-bc2d-1c1891956e67",
   "metadata": {},
   "outputs": [
    {
     "name": "stdout",
     "output_type": "stream",
     "text": [
      "Mozilla/5.0 (Windows NT 10.0; Win64; x64) AppleWebKit/537.36 (KHTML, like Gecko) Chrome/122.0.0.0 Safari/537.36 Agency/98.8.8175.80\n"
     ]
    }
   ],
   "source": [
    "base_url = f\"https://www.peniszeigen.com/penis-bilder/\"\n",
    "ua = UserAgent()\n",
    "ua = ua.chrome\n",
    "print(ua)"
   ]
  },
  {
   "cell_type": "code",
   "execution_count": 8,
   "id": "846ef940-1fa8-42bb-ae5f-38de7e6fcb7e",
   "metadata": {
    "scrolled": true
   },
   "outputs": [
    {
     "name": "stdout",
     "output_type": "stream",
     "text": [
      "scraping thumbnail-75-page-1...\n",
      "scraping thumbnail-75-page-2...\n",
      "scraping thumbnail-75-page-3...\n",
      "scraping thumbnail-75-page-4...\n",
      "scraping thumbnail-75-page-5...\n",
      "scraping thumbnail-75-page-6...\n",
      "scraping thumbnail-75-page-7...\n",
      "scraping thumbnail-75-page-8...\n",
      "scraping thumbnail-75-page-9...\n",
      "scraping thumbnail-75-page-10...\n",
      "scraping thumbnail-75-page-11...\n",
      "scraping thumbnail-75-page-12...\n",
      "scraping thumbnail-75-page-13...\n",
      "scraping thumbnail-75-page-14...\n",
      "scraping thumbnail-75-page-15...\n",
      "scraping thumbnail-75-page-16...\n",
      "scraping thumbnail-75-page-17...\n",
      "scraping thumbnail-75-page-18...\n",
      "scraping thumbnail-75-page-19...\n",
      "scraping thumbnail-75-page-20...\n",
      "scraping thumbnail-75-page-21...\n",
      "scraping thumbnail-75-page-22...\n",
      "scraping thumbnail-75-page-23...\n",
      "scraping thumbnail-75-page-24...\n",
      "scraping thumbnail-75-page-25...\n",
      "scraping thumbnail-75-page-26...\n",
      "scraping thumbnail-75-page-27...\n",
      "scraping thumbnail-75-page-28...\n",
      "scraping thumbnail-75-page-29...\n",
      "scraping thumbnail-75-page-30...\n",
      "scraping thumbnail-76-page-1...\n",
      "scraping thumbnail-76-page-2...\n",
      "scraping thumbnail-77-page-1...\n",
      "scraping thumbnail-77-page-2...\n",
      "scraping thumbnail-77-page-3...\n",
      "scraping thumbnail-78-page-1...\n",
      "scraping thumbnail-78-page-2...\n",
      "scraping thumbnail-78-page-3...\n",
      "scraping thumbnail-78-page-4...\n",
      "scraping thumbnail-78-page-5...\n",
      "scraping thumbnail-78-page-6...\n",
      "scraping thumbnail-78-page-7...\n",
      "scraping thumbnail-78-page-8...\n",
      "scraping thumbnail-78-page-9...\n",
      "scraping thumbnail-78-page-10...\n",
      "scraping thumbnail-79-page-1...\n",
      "scraping thumbnail-79-page-2...\n",
      "scraping thumbnail-79-page-3...\n",
      "scraping thumbnail-79-page-4...\n",
      "scraping thumbnail-79-page-5...\n",
      "scraping thumbnail-79-page-6...\n",
      "scraping thumbnail-79-page-7...\n",
      "scraping thumbnail-79-page-8...\n",
      "scraping thumbnail-79-page-9...\n",
      "scraping thumbnail-79-page-10...\n",
      "scraping thumbnail-79-page-11...\n",
      "scraping thumbnail-79-page-12...\n",
      "scraping thumbnail-79-page-13...\n",
      "scraping thumbnail-79-page-14...\n",
      "scraping thumbnail-79-page-15...\n",
      "scraping thumbnail-79-page-16...\n",
      "scraping thumbnail-80-page-1...\n",
      "scraping thumbnail-80-page-2...\n",
      "scraping thumbnail-80-page-3...\n",
      "scraping thumbnail-80-page-4...\n",
      "scraping thumbnail-80-page-5...\n"
     ]
    }
   ],
   "source": [
    "for thumbnail in range(75,81):\n",
    "    for page in range(1,293):\n",
    "        print(f\"scraping thumbnail-{thumbnail}-page-{page}...\")\n",
    "        url = f'https://www.peniszeigen.com/penis-bilder/thumbnails-{thumbnail}-page-{page}.html'\n",
    "\n",
    "        payload = \"\"\n",
    "        headers = {\"User-Agent\": ua}\n",
    "        \n",
    "        res = requests.request(\"GET\", url, data=payload, headers=headers)\n",
    "        if res.status_code == 200:\n",
    "            html_content = res.text\n",
    "            soup = BeautifulSoup(html_content,'html.parser')\n",
    "            if soup.find(\"h2\").text == \"Kritischer Fehler\":\n",
    "                break\n",
    "            all_imgs = soup.find_all('img')\n",
    "            img_src_filtered = []\n",
    "            for img in all_imgs:\n",
    "                if img['src'][:6] == \"albums\":\n",
    "                    img_src_filtered.append(img['src'])\n",
    "            \n",
    "            for img_src in img_src_filtered:\n",
    "                with open('../datasets/images/dickpics/german_mydickpictures_links.txt',\"a\") as f:\n",
    "                    f.write(f\"{base_url}{img_src}\\n\")\n",
    "            interval = randrange(100,400)/100\n",
    "            time.sleep(interval)\n",
    "        else: \n",
    "            print(f\"status code: {res.status_code}, moving to next...\")"
   ]
  },
  {
   "cell_type": "code",
   "execution_count": null,
   "id": "4c21ad59-e713-4b72-8f17-714d7efe229a",
   "metadata": {},
   "outputs": [],
   "source": [
    "\n",
    "def save_image(url,num,ua):\n",
    "    payload = \"\"\n",
    "    headers = {\"User-Agent\": ua}\n",
    "    url = url.replace('\\n',\"\")\n",
    "    res = requests.request(\"GET\", url, data=payload, headers=headers)\n",
    "    if res.status_code == 200:\n",
    "        try:\n",
    "            image = Image.open(BytesIO(res.content))\n",
    "            # \\datasets\\images\\dickpics\\photos\n",
    "            image.save(f\"../datasets/images/dickpics/photos/dickpic_{num}.jpg\")\n",
    "            \n",
    "        except:\n",
    "            print(\"Failed to open\")\n",
    "    else:\n",
    "        print(f\"Failed to retrieve image. Status code: {res.status_code}\")\n",
    "\n",
    "lines = []\n",
    "with open('../datasets/images/dickpics/german_mydickpictures_links.txt',\"r\") as f:\n",
    "    lines = f.readlines()\n",
    "\n",
    "ua = UserAgent()\n",
    "ua = ua.chrome\n",
    "start = 13604\n",
    "img_num = start"
   ]
  },
  {
   "cell_type": "code",
   "execution_count": null,
   "id": "f417b9fe-0ce7-42cc-a37e-266534b99338",
   "metadata": {},
   "outputs": [],
   "source": [
    "for url in lines[start:]:\n",
    "    try:\n",
    "        save_image(url,img_num,ua)\n",
    "        print(f\"saved image dickpic_{img_num}.jpg\")\n",
    "    except:\n",
    "        print(f\"Failed to save: {url} \\n {img_num}\")\n",
    "    img_num+=1\n",
    "    interval = randrange(50,100)/100\n",
    "    time.sleep(interval)"
   ]
  }
 ],
 "metadata": {
  "kernelspec": {
   "display_name": "Python 3 (ipykernel)",
   "language": "python",
   "name": "python3"
  },
  "language_info": {
   "codemirror_mode": {
    "name": "ipython",
    "version": 3
   },
   "file_extension": ".py",
   "mimetype": "text/x-python",
   "name": "python",
   "nbconvert_exporter": "python",
   "pygments_lexer": "ipython3",
   "version": "3.9.19"
  }
 },
 "nbformat": 4,
 "nbformat_minor": 5
}
