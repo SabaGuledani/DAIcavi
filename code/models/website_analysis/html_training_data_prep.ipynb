{
 "cells": [
  {
   "cell_type": "code",
   "execution_count": 1,
   "id": "8413f015-5013-4a53-b462-1dfc0f328c7c",
   "metadata": {},
   "outputs": [],
   "source": [
    "import os\n",
    "import re\n",
    "import json\n",
    "import pickle\n",
    "import sqlite3\n",
    "import jsonlines\n",
    "from collections import Counter\n",
    "from unicodedata import normalize\n",
    "import cv2\n",
    "import numpy as np\n",
    "import pandas as pd\n",
    "import matplotlib.pyplot as plt\n",
    "from bs4 import BeautifulSoup"
   ]
  },
  {
   "cell_type": "code",
   "execution_count": 2,
   "id": "beb678b2-8fd6-4496-ad72-4aa2a2cc49b7",
   "metadata": {},
   "outputs": [],
   "source": [
    "# filename of folder where all the cleaned htmls are\n",
    "filepath = r\"C:\\Users\\Saba\\Desktop\\Python\\AI CS hackathon btu\\datasets\\websites\\comprehensive_chunks_cleaned_adult\""
   ]
  },
  {
   "cell_type": "code",
   "execution_count": 3,
   "id": "2a2bb051-dca7-4def-9b68-9fac2e2c0b11",
   "metadata": {},
   "outputs": [
    {
     "name": "stdout",
     "output_type": "stream",
     "text": [
      "adult_cleaned_1.json\n",
      "238722\n"
     ]
    }
   ],
   "source": [
    "# load all the filenames from it\n",
    "filenames = os.listdir(filepath)\n",
    "print(filenames[0])\n",
    "print(len(filenames))"
   ]
  },
  {
   "cell_type": "code",
   "execution_count": 4,
   "id": "8d2123d0-07cc-4857-94a3-03775bea2e51",
   "metadata": {},
   "outputs": [
    {
     "name": "stdout",
     "output_type": "stream",
     "text": [
      "C:\\Users\\Saba\\Desktop\\Python\\AI CS hackathon btu\\datasets\\websites\\comprehensive_chunks_cleaned_adult\\adult_cleaned_1.json\n"
     ]
    }
   ],
   "source": [
    "#make a list with all the filenames attached with full path\n",
    "full_filenames = [os.path.join(filepath,filename) for filename in filenames]\n",
    "print(full_filenames[0])"
   ]
  },
  {
   "cell_type": "code",
   "execution_count": 5,
   "id": "906cd76f-ef87-4215-8e81-4fcb07e1e85c",
   "metadata": {},
   "outputs": [],
   "source": [
    "training_data_1 = []\n",
    "training_data_2 = []\n",
    "training_data_3 = []\n",
    "training_data_4 = []"
   ]
  },
  {
   "cell_type": "code",
   "execution_count": null,
   "id": "3a4793d6-6f53-4657-b66a-0cf89acc719b",
   "metadata": {},
   "outputs": [
    {
     "name": "stdout",
     "output_type": "stream",
     "text": [
      "17100\r"
     ]
    }
   ],
   "source": [
    "\n",
    "i = 0\n",
    "# iterate through every file\n",
    "for filename in full_filenames[55000:110000]:\n",
    "    with open(filename,\"r\") as file:\n",
    "        data = json.load(file)\n",
    "        # extract data and save into list as a tuples of x,y\n",
    "        label = data['label']\n",
    "        html = data['html']\n",
    "        training_data_2.append((html,label))\n",
    "    i+=1\n",
    "    if i % 50 == 0:\n",
    "        print(i, end='\\r')"
   ]
  },
  {
   "cell_type": "code",
   "execution_count": 17,
   "id": "b3016c6a-981f-4d16-b9d6-797617a0924e",
   "metadata": {},
   "outputs": [],
   "source": [
    "with open('training_data_adult.pkl', 'wb') as f:\n",
    "    pickle.dump(training_data, f)\n"
   ]
  },
  {
   "cell_type": "code",
   "execution_count": 15,
   "id": "d1817373-9059-41a6-81d2-95bdbfcbaef9",
   "metadata": {},
   "outputs": [],
   "source": [
    "training_data = training_data_1+training_data_2+training_data_4+training_data_3"
   ]
  },
  {
   "cell_type": "code",
   "execution_count": 13,
   "id": "0357278a-1299-4ea8-8c4d-ac10d9e97fd1",
   "metadata": {},
   "outputs": [
    {
     "data": {
      "text/plain": [
       "55000"
      ]
     },
     "execution_count": 13,
     "metadata": {},
     "output_type": "execute_result"
    }
   ],
   "source": [
    "len(training_data_1)"
   ]
  },
  {
   "cell_type": "code",
   "execution_count": null,
   "id": "150dc22f-b8fa-4079-a0ec-95a09f2797c0",
   "metadata": {},
   "outputs": [],
   "source": []
  }
 ],
 "metadata": {
  "kernelspec": {
   "display_name": "Python 3 (ipykernel)",
   "language": "python",
   "name": "python3"
  },
  "language_info": {
   "codemirror_mode": {
    "name": "ipython",
    "version": 3
   },
   "file_extension": ".py",
   "mimetype": "text/x-python",
   "name": "python",
   "nbconvert_exporter": "python",
   "pygments_lexer": "ipython3",
   "version": "3.9.0"
  }
 },
 "nbformat": 4,
 "nbformat_minor": 5
}
