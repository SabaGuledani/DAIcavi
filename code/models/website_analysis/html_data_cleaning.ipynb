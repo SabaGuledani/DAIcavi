{
 "cells": [
  {
   "cell_type": "code",
   "execution_count": 29,
   "id": "49bd31f1-2e2f-4897-ae07-b1048b7d2651",
   "metadata": {},
   "outputs": [],
   "source": [
    "import os\n",
    "import re\n",
    "import json\n",
    "import pickle\n",
    "import sqlite3\n",
    "import jsonlines\n",
    "from collections import Counter\n",
    "from unicodedata import normalize\n",
    "import cv2\n",
    "import numpy as np\n",
    "import pandas as pd\n",
    "import matplotlib.pyplot as plt\n",
    "from bs4 import BeautifulSoup\n",
    "# import tensorflow as tf\n",
    "# from tensorflow.keras import layers\n",
    "# from tensorflow.keras.layers import Input, Dense, Activation, BatchNormalization, Flatten\n",
    "# from tensorflow.keras.models import Model, load_model\n",
    "# from tensorflow.keras.regularizers import l1, l2\n",
    "# from tensorflow.keras.optimizers import Adam\n",
    "# from tensorflow.keras.utils import Sequence\n",
    "# from tensorflow.keras.preprocessing.text import Tokenizer\n",
    "# from tensorflow.keras.preprocessing.sequence import pad_sequences\n",
    "# from tensorflow.keras.callbacks import EarlyStopping,ModelCheckpoint\n",
    "# from sklearn.metrics import f1_score, precision_score, recall_score,confusion_matrix,ConfusionMatrixDisplay\n",
    "\n",
    "\n",
    "\n",
    "\n",
    "\n",
    "# print(\"Num GPUs Available: \", len(tf.config.list_physical_devices('GPU')))"
   ]
  },
  {
   "cell_type": "markdown",
   "id": "a41cb9fb-03bc-4d4f-9c17-2d0b05cdcb74",
   "metadata": {},
   "source": [
    "# split big jsonl files to chunks"
   ]
  },
  {
   "cell_type": "code",
   "execution_count": 112,
   "id": "8a34996e-6903-469c-9853-51943f843e98",
   "metadata": {},
   "outputs": [],
   "source": [
    "datasets = os.listdir(r\"C:\\Users\\Saba\\Desktop\\Python\\AI CS hackathon btu\\datasets\\websites\\comprehensive_dataset\")\n",
    "def replace_unnecessary_symbols(text):\n",
    "    filters = '1234567890!\"#$%&()*+,-./:;<=>?@[\\\\]^_`{|}~\\t\\n\\r'\n",
    "    translate_dict = {c: \" \" for c in filters}\n",
    "    text = text.lower()\n",
    "    # Create a translation table\n",
    "    translation_table = str.maketrans(translate_dict)\n",
    "    html_translate_dict = {\"href\":\"\",\n",
    "                           \"src\": \"\",\n",
    "                           \" vc \":\"\",\n",
    "                           \"jpg\":\"\",\n",
    "                          \" en \":\"\",\n",
    "                          \"thumb\":\"\",\n",
    "                          'title':\"\",\n",
    "                          \" com \": \"\",\n",
    "                          \" https \":\"\",\n",
    "                          \" ru \":\"\",\n",
    "                          \" net \": \"\"}\n",
    "    # html_translation_table = str.maketrans(html_translate_dict)\n",
    "    # Use translate method\n",
    "    new_text = text.translate(translation_table)\n",
    "    for key in html_translate_dict:\n",
    "        new_text = new_text.replace(key,html_translate_dict[key])\n",
    "    new_text = re.sub(r'\\s+', ' ', new_text)\n",
    "    return new_text\n",
    "def save_json(filepath_to_save,json_index,dict):\n",
    "    with open(f'{filepath_to_save}/{json_index}_html_cleaned.json', 'w') as f:\n",
    "        json.dump(dict, f, indent=4)\n",
    "def save_to_chunks(name,file):\n",
    "    \n",
    "    chunks = pd.read_json(file, lines=True, chunksize=1)\n",
    "    num = 1\n",
    "    for chunk in chunks:\n",
    "        \n",
    "        if num % 1000 == 0:\n",
    "            print(filename)\n",
    "        try:\n",
    "            html_content = chunk[\"html\"].values[0]\n",
    "            soup  = BeautifulSoup(html_content, 'html')\n",
    "        except:\n",
    "            print(f\"could not parse row number {num}\")\n",
    "            continue\n",
    "        \n",
    "        for tag in soup(['script', 'style', 'img',\"input\",'iframe']):\n",
    "            tag.decompose()\n",
    "        for a_tag in soup.find_all('a'):\n",
    "            del a_tag['href']\n",
    "        for tag in soup.find_all(True):  # True selects all tags\n",
    "            if 'style' in tag.attrs:\n",
    "                del tag.attrs['style'] \n",
    "            if 'class' in tag.attrs:\n",
    "                del tag.attrs['class']\n",
    "            if 'target' in tag.attrs:\n",
    "                del tag.attrs['target']\n",
    "                \n",
    "        # we should get rid of tab and escape charaters, also weird symbols and replace duplicate spaces with one space\n",
    "        html_text = soup.get_text(separator=' ')\n",
    "        html_text = normalize('NFKD', html_text)\n",
    "        \n",
    "        html_text = replace_unnecessary_symbols(html_text)\n",
    "        \n",
    "        url = normalize('NFKD', chunk['url'].values[0])\n",
    "        label = chunk['label'].values[0]\n",
    "        \n",
    "        processed_json = {\n",
    "            \"url\":url,\n",
    "            \"label\":label,\n",
    "            \"html\":html_text\n",
    "        }\n",
    "        filepath_to_save = 'C:/Users/Saba/Desktop/Python/AI CS hackathon btu/datasets/websites/comprehensive_chunks_cleaned'\n",
    "        save_json(filepath_to_save,num,processed_json)\n",
    "        \n",
    "        if num % 10 == 0:\n",
    "            break\n",
    "        num +=1\n",
    "        \n",
    "    \n",
    "\n",
    "\n"
   ]
  },
  {
   "cell_type": "code",
   "execution_count": 113,
   "id": "b59d8994-8f4c-4194-925b-989e5860bd03",
   "metadata": {},
   "outputs": [
    {
     "name": "stdout",
     "output_type": "stream",
     "text": [
      "C:/Users/Saba/Desktop/Python/AI CS hackathon btu/datasets/websites/comprehensive_dataset/adult_OWS_URL_HTML_DS.jsonl\n"
     ]
    }
   ],
   "source": [
    "  \n",
    "file = \"C:/Users/Saba/Desktop/Python/AI CS hackathon btu/datasets/websites/comprehensive_dataset/\"+datasets[0]\n",
    "print(file)"
   ]
  },
  {
   "cell_type": "code",
   "execution_count": 114,
   "id": "dcaa3a64-aeb1-4669-9962-54cd9fe410be",
   "metadata": {
    "scrolled": true
   },
   "outputs": [],
   "source": [
    "save_to_chunks(\"adult\",file)"
   ]
  },
  {
   "cell_type": "markdown",
   "id": "e20dc972-15d5-428f-9fcb-e9ef7229ccbb",
   "metadata": {},
   "source": [
    "# Load chunks of datasets"
   ]
  },
  {
   "cell_type": "code",
   "execution_count": 25,
   "id": "988f0545-abf3-4bb0-b917-c1f3487c7f74",
   "metadata": {},
   "outputs": [],
   "source": [
    "def load_chunk_to_dataframe(chunk_index):\n",
    "    chunks_filepath = \"C:/Users/Saba/Desktop/Python/AI CS hackathon btu/datasets/websites/comprehensive_chunks_parsed/\"\n",
    "    chunks = os.listdir(chunks_filepath)\n",
    "    chunk_fullpath = chunks_filepath+chunks[chunk_index]\n",
    "    df = pd.read_json(chunk_fullpath)\n",
    "    # df.drop(columns=[\"sublabel\",'crawled','uid'],inplace=True)\n",
    "    return df\n",
    "\n"
   ]
  },
  {
   "cell_type": "code",
   "execution_count": 26,
   "id": "ec85d60c-2b8a-4552-8908-962ebf9bb45f",
   "metadata": {},
   "outputs": [],
   "source": [
    "chunks_filepath = \"C:/Users/Saba/Desktop/Python/AI CS hackathon btu/datasets/websites/comprehensive_chunks_parsed/\"\n",
    "chunks = os.listdir(chunks_filepath)\n",
    "chunks_length = len(chunks)\n",
    "# print(chunks_length)\n",
    "json_files_full = [chunks_filepath+chunk for chunk in chunks]"
   ]
  },
  {
   "cell_type": "code",
   "execution_count": 27,
   "id": "b80d2a57-c2e4-4bcc-b31e-9464f46a68c0",
   "metadata": {},
   "outputs": [],
   "source": [
    "\n",
    "def process_json_file(json_file):\n",
    "    with open(json_file,'r') as file:\n",
    "        json_data = json.load(file)\n",
    "    key = list(json_data['html_text'].keys())[0]\n",
    "    label = json_data[\"label\"][key]\n",
    "    url =  normalize('NFKD', json_data['url'][key])\n",
    "    html_text = normalize('NFKD', json_data['html_text'][key])\n",
    "    \n",
    "    html_text = replace_unnecessary_symbols(html_text).replace(\"   \",\" \")\n",
    "    processed_json = {\n",
    "        \"url\":url,\n",
    "        \"label\":label,\n",
    "        \"html\":html_text\n",
    "    }\n",
    "    return processed_json\n",
    "\n",
    "\n",
    "def process_json_files(json_files):\n",
    "    jsons_length = len(json_files)\n",
    "    filepath_to_save = r'C:\\Users\\Saba\\Desktop\\Python\\AI CS hackathon btu\\datasets\\websites\\comprehensive_chunks_cleaned'\n",
    "    \n",
    "    for json_index in range(jsons_length-1):\n",
    "        json_file = json_files[json_index]\n",
    "        \n",
    "        extracted_text = process_json_file(json_file)\n",
    "        \n",
    "        with open(f'{filepath_to_save}/{json_index}_html_cleaned.json', 'w') as f:\n",
    "            json.dump(extracted_text, f, indent=4) \n",
    "        \n",
    "        if json_index % 2 == 0 and json_index != 0:\n",
    "            print(json_index, end='\\r')\n",
    "            break\n",
    "\n"
   ]
  },
  {
   "cell_type": "code",
   "execution_count": 28,
   "id": "a671380c-acb9-4259-8f79-86aa961501a3",
   "metadata": {},
   "outputs": [
    {
     "name": "stdout",
     "output_type": "stream",
     "text": [
      "2\r"
     ]
    }
   ],
   "source": [
    "texts_list = process_json_files(json_files_full)\n",
    "# print(len(texts_list))"
   ]
  },
  {
   "cell_type": "code",
   "execution_count": null,
   "id": "1633d3ca-d369-42d5-9477-d4eca01220c6",
   "metadata": {},
   "outputs": [],
   "source": [
    "with open('htmls_parsed_text_list.pkl', 'wb') as f:\n",
    "    pickle.dump(texts_list, f)\n",
    "    print(\"list saved successfully\")"
   ]
  },
  {
   "cell_type": "code",
   "execution_count": 6,
   "id": "c6e36d8b-22d2-40ab-b49c-3f2d01c4e172",
   "metadata": {},
   "outputs": [],
   "source": [
    "with open(json_files_full[0],'r') as file:\n",
    "    json_data = json.load(file)"
   ]
  },
  {
   "cell_type": "code",
   "execution_count": 7,
   "id": "9268c797-5091-4142-ac1d-5e7968ee92cc",
   "metadata": {},
   "outputs": [
    {
     "data": {
      "text/plain": [
       "{'label': {'0': 'Adult'},\n",
       " 'url': {'0': 'https://www.imzog.com/en/all/latest/'},\n",
       " 'html_text': {'0': 'Free Porn Sites ,Videos Porno Tube - IMzog.com Straight Gay Shemale All latest All popular Categories Our network See.xxx PornJ TheGay tPorn.xxx SSS.xxx DesiPorn.tube GetSex.xxx Porn555 PornForRelax PornGo.xxx More GermanySee.xxx tPorn.xxx GetSex.xxx PornJ PornQ Popular categories %href::/en/blowjob/||\\r %title::Blowjob||\\r %thumb:://imzog1.hclips.net/timages/zq/909410.jpg||\\r %vc::719,731 %href::/en/big tits/||\\r %title::Big Tits||\\r %thumb:://imzog2.hclips.net/timages/wk/594459.jpg||\\r %vc::582,563 %href::/en/panties/||\\r %title::Panties||\\r %thumb:://imzog2.hclips.net/timages/Jp/867869.jpg||\\r %vc::39,138 %href::/en/pornstar/||\\r %title::Pornstar||\\r %thumb:://imzog1.hclips.net/timages/hba/3335500.jpg||\\r %vc::634,970 %href::/en/russian/||\\r %title::Russian||\\r %thumb:://imzog1.hclips.net/timages/Bw/1223925.jpg||\\r %vc::51,610 %href::/en/skinny/||\\r %title::Skinny||\\r %thumb:://imzog2.hclips.net/timages/lk/583407.jpg||\\r %vc::55,452 %href::/en/big ass/||\\r %title::Big Ass||\\r %thumb:://imzog2.hclips.net/timages/Bta/4291645.jpg||\\r %vc::225,815 %href::/en/hd/||\\r %title::HD||\\r %thumb:://imzog2.hclips.net/timages/AW/2574763.jpg||\\r %vc::612,966 %href::/en/wet/||\\r %title::Wet||\\r %thumb:://imzog1.hclips.net/timages/wq/906226.jpg||\\r %vc::51,171 %href::/en/dildos and toys/||\\r %title::Dildos And Toys||\\r %thumb:://imzog1.hclips.net/timages/aD/1560538.jpg||\\r %vc::290,907 %href::/en/amateur/||\\r %title::Amateur||\\r %thumb:://imzog2.hclips.net/timages/PH/1809220.jpg||\\r %vc::645,354 %href::/en/european/||\\r %title::European||\\r %thumb:://imzog1.hclips.net/timages/xn/751464.jpg||\\r %vc::66,070 %href::/en/nipples/||\\r %title::Nipples||\\r %thumb:://imzog1.hclips.net/timages/Vq/931982.jpg||\\r %vc::19,457 %href::/en/hardcore/||\\r %title::Hardcore||\\r %thumb:://imzog2.hclips.net/timages/YMa/5302555.jpg||\\r %vc::537,773 %href::/en/orgasm/||\\r %title::Orgasm||\\r %thumb:://imzog2.hclips.net/timages/Km/712341.jpg||\\r %vc::88,560 %href::/en/asian/||\\r %title::Asian||\\r %thumb:://imzog2.hclips.net/timages/HE/1645287.jpg||\\r %vc::324,729 %href::/en/solo/||\\r %title::Solo||\\r %thumb:://imzog2.hclips.net/timages/Pq/925123.jpg||\\r %vc::232,276 %href::/en/anal/||\\r %title::Anal||\\r %thumb:://imzog2.hclips.net/timages/Rn/771856.jpg||\\r %vc::319,607 %href::/en/blonde/||\\r %title::Blonde||\\r %thumb:://imzog2.hclips.net/timages/Yxb/7746951.jpg||\\r %vc::415,705 %href::/en/teen/||\\r %title::Teen||\\r %thumb:://imzog1.hclips.net/timages/Bn/755886.jpg||\\r %vc::565,091 %href::/en/chaturbate/||\\r %title::Chaturbate||\\r %thumb:://imzog1.hclips.net/timages/zq/909699.jpg||\\r %vc::48,862 %href::/en/brunette/||\\r %title::Brunette||\\r %thumb:://imzog1.hclips.net/timages/ljb/6979501.jpg||\\r %vc::526,498 %href::/en/milf/||\\r %title::MILF||\\r %thumb:://imzog2.hclips.net/timages/dAb/7855410.jpg||\\r %vc::327,624 %href::/en/babe/||\\r %title::Babe||\\r %thumb:://imzog1.hclips.net/timages/DK/1953966.jpg||\\r %vc::370,854 %href::/en/cumshot/||\\r %title::Cumshot||\\r %thumb:://imzog1.hclips.net/timages/pl/639790.jpg||\\r %vc::295,671 %href::/en/threesome/||\\r %title::Threesome||\\r %thumb:://imzog2.hclips.net/timages/Ak/598710.jpg||\\r %vc::171,883 %href::/en/female orgasm/||\\r %title::Female Orgasm||\\r %thumb:://imzog1.hclips.net/timages/En/758585.jpg||\\r %vc::14,792 %href::/en/deepthroat/||\\r %title::Deepthroat||\\r %thumb:://imzog2.hclips.net/timages/zi/493126.jpg||\\r %vc::62,736 %href::/en/masturbation/||\\r %title::Masturbation||\\r %thumb:://imzog1.hclips.net/timages/Ol/664421.jpg||\\r %vc::327,088 %href::/en/french/||\\r %title::French||\\r %thumb:://imzog1.hclips.net/timages/Ci/496697.jpg||\\r %vc::29,435 %href::/en/friend/||\\r %title::Friend||\\r %thumb:://imzog2.hclips.net/timages/qq/900489.jpg||\\r %vc::58,477 %href::/en/lucky/||\\r %title::Lucky||\\r %thumb:://imzog2.hclips.net/timages/Kz/1388827.jpg||\\r %vc::13,081 %href::/en/nude/||\\r %title::Nude||\\r %thumb:://imzog2.hclips.net/timages/Mn/766703.jpg||\\r %vc::41,970 %href::/en/drilled/||\\r %title::Drilled||\\r %thumb:://imzog1.hclips.net/timages/dx/1251813.jpg||\\r %vc::31,687 %href::/en/brazilian/||\\r %title::Brazilian||\\r %thumb:://imzog1.hclips.net/timages/Di/497111.jpg||\\r %vc::20,259 %href::/en/mom/||\\r %title::Mom||\\r %thumb:://imzog1.hclips.net/timages/Epa/4086544.jpg||\\r %vc::20,406 %href::/en/lesbian/||\\r %title::Lesbian||\\r %thumb:://imzog1.hclips.net/timages/Hk/605077.jpg||\\r %vc::211,962 %href::/en/reality/||\\r %title::Reality||\\r %thumb:://imzog2.hclips.net/timages/Wr/984170.jpg||\\r %vc::55,866 %href::/en/german/||\\r %title::German||\\r %thumb:://imzog1.hclips.net/timages/Gu/1124330.jpg||\\r %vc::50,685 %href::/en/cuckold/||\\r %title::Cuckold||\\r %thumb:://imzog2.hclips.net/timages/iw/1204488.jpg||\\r %vc::24,954 %href::/en/nympho/||\\r %title::Nympho||\\r %thumb:://imzog1.hclips.net/timages/pp/847263.jpg||\\r %vc::9,064 %href::/en/old and young/||\\r %title::Old And Young||\\r %thumb:://imzog1.hclips.net/timages/jn/737101.jpg||\\r %vc::22,228 %href::/en/tight pussy/||\\r %title::Tight Pussy||\\r %thumb:://imzog2.hclips.net/timages/Wn/776775.jpg||\\r %vc::14,014 %href::/en/lingerie/||\\r %title::Lingerie||\\r %thumb:://imzog1.hclips.net/timages/nr/949665.jpg||\\r %vc::76,851 %href::/en/husband/||\\r %title::Husband||\\r %thumb:://imzog2.hclips.net/timages/AW/2574804.jpg||\\r %vc::19,999 %href::/en/fetish/||\\r %title::Fetish||\\r %thumb:://imzog1.hclips.net/timages/Ejb/6998889.jpg||\\r %vc::245,789 %href::/en/indian/||\\r %title::Indian||\\r %thumb:://imzog2.hclips.net/timages/Qi/510962.jpg||\\r %vc::16,999 %href::/en/femdom/||\\r %title::Femdom||\\r %thumb:://imzog1.hclips.net/timages/gx/1254074.jpg||\\r %vc::42,753 %href::/en/granny/||\\r %title::Granny||\\r %thumb:://imzog1.hclips.net/timages/oi/482399.jpg||\\r %vc::20,867 %href::/en/black cock/||\\r %title::Black Cock||\\r %thumb:://imzog2.hclips.net/timages/Iua/4350580.jpg||\\r %vc::31,225 %href::/en/couple/||\\r %title::Couple||\\r %thumb:://imzog2.hclips.net/timages/Qk/614273.jpg||\\r %vc::159,665 %href::/en/fingering/||\\r %title::Fingering||\\r %thumb:://imzog2.hclips.net/timages/Nu/1131192.jpg||\\r %vc::131,571 %href::/en/orgy/||\\r %title::Orgy||\\r %thumb:://imzog1.hclips.net/timages/bx/1249952.jpg||\\r %vc::15,220 %href::/en/latina/||\\r %title::Latina||\\r %thumb:://imzog1.hclips.net/timages/hu/1099182.jpg||\\r %vc::90,451 %href::/en/massage/||\\r %title::Massage||\\r %thumb:://imzog2.hclips.net/timages/MI/1858899.jpg||\\r %vc::49,103 %href::/en/boss/||\\r %title::Boss||\\r %thumb:://imzog2.hclips.net/timages/dq/887423.jpg||\\r %vc::9,209 %href::/en/bbw/||\\r %title::BBW||\\r %thumb:://imzog2.hclips.net/timages/cX/2602854.jpg||\\r %vc::96,221 %href::/en/upskirt/||\\r %title::Upskirt||\\r %thumb:://imzog1.hclips.net/timages/DG/1745248.jpg||\\r %vc::26,840 %href::/en/stockings/||\\r %title::Stockings||\\r %thumb:://imzog1.hclips.net/timages/ol/638539.jpg||\\r %vc::135,903 %href::/en/rimming/||\\r %title::Rimming||\\r %thumb:://imzog1.hclips.net/timages/Hi/501230.jpg||\\r %vc::23,101 %href::/en/big cock/||\\r %title::Big Cock||\\r %thumb:://imzog1.hclips.net/timages/sgb/6830908.jpg||\\r %vc::246,221 %href::/en/creampie/||\\r %title::Creampie||\\r %thumb:://imzog1.hclips.net/timages/oDa/4798763.jpg||\\r %vc::106,401 %href::/en/foot fetish/||\\r %title::Foot Fetish||\\r %thumb:://imzog1.hclips.net/timages/jx/1257583.jpg||\\r %vc::72,305 %href::/en/romantic/||\\r %title::Romantic||\\r %thumb:://imzog1.hclips.net/timages/Agb/6838123.jpg||\\r %vc::29,567 %href::/en/tight/||\\r %title::Tight||\\r %thumb:://imzog2.hclips.net/timages/yn/752093.jpg||\\r %vc::40,006 %href::/en/japan fera/||\\r %title::Japan Fera||\\r %thumb:://imzog1.hclips.net/timages/jo/789034.jpg||\\r %vc::69,150 %href::/en/british/||\\r %title::British||\\r %thumb:://imzog2.hclips.net/timages/Vz/1399684.jpg||\\r %vc::35,007 %href::/en/naughty/||\\r %title::Naughty||\\r %thumb:://imzog1.hclips.net/timages/Ok/612021.jpg||\\r %vc::48,896 %href::/en/cunnilingus/||\\r %title::Cunnilingus||\\r %thumb:://imzog2.hclips.net/timages/Bo/807958.jpg||\\r %vc::160,910 %href::/en/celebrity/||\\r %title::Celebrity||\\r %thumb:://imzog2.hclips.net/timages/Kib/6952107.jpg||\\r %vc::13,021 %href::/en/ass/||\\r %title::Ass||\\r %thumb:://imzog2.hclips.net/timages/NI/1859646.jpg||\\r %vc::172,253 %href::/en/cum in mouth/||\\r %title::Cum In Mouth||\\r %thumb:://imzog2.hclips.net/timages/Ur/982164.jpg||\\r %vc::13,065 %href::/en/stud/||\\r %title::Stud||\\r %thumb:://imzog2.hclips.net/timages/ym/700791.jpg||\\r %vc::15,998 %href::/en/bdsm/||\\r %title::BDSM||\\r %thumb:://imzog2.hclips.net/timages/rp/849682.jpg||\\r %vc::112,794 %href::/en/interracial/||\\r %title::Interracial||\\r %thumb:://imzog1.hclips.net/timages/gAb/7858456.jpg||\\r %vc::147,633 %href::/en/rough/||\\r %title::Rough||\\r %thumb:://imzog2.hclips.net/timages/Bw/1223771.jpg||\\r %vc::14,264 %href::/en/college/||\\r %title::College||\\r %thumb:://imzog2.hclips.net/timages/pba/3343871.jpg||\\r %vc::113,199 %href::/en/strapon/||\\r %title::Strapon||\\r %thumb:://imzog1.hclips.net/timages/Aq/910386.jpg||\\r %vc::26,480 %href::/en/bedroom/||\\r %title::Bedroom||\\r %thumb:://imzog1.hclips.net/timages/ti/487793.jpg||\\r %vc::29,149 %href::/en/school girl/||\\r %title::School Girl||\\r %thumb:://imzog1.hclips.net/timages/Gn/760992.jpg||\\r %vc::15,532 %href::/en/bound/||\\r %title::Bound||\\r %thumb:://imzog1.hclips.net/timages/lja/3755130.jpg||\\r %vc::10,398 %href::/en/fisting/||\\r %title::Fisting||\\r %thumb:://imzog2.hclips.net/timages/Jr/971022.jpg||\\r %vc::25,108 %href::/en/mature/||\\r %title::Mature||\\r %thumb:://imzog2.hclips.net/timages/Vs/1035575.jpg||\\r %vc::151,927 %href::/en/small tits/||\\r %title::Small Tits||\\r %thumb:://imzog2.hclips.net/timages/KK/1960589.jpg||\\r %vc::213,308 %href::/en/kiss/||\\r %title::Kiss||\\r %thumb:://imzog1.hclips.net/timages/Is/1022050.jpg||\\r %vc::14,416 %href::/en/bikini/||\\r %title::Bikini||\\r %thumb:://imzog1.hclips.net/timages/Pr/977008.jpg||\\r %vc::9,397 %href::/en/webcam/||\\r %title::Webcam||\\r %thumb:://imzog2.hclips.net/timages/Kl/660690.jpg||\\r %vc::246,159 %href::/en/doggystyle/||\\r %title::Doggystyle||\\r %thumb:://imzog2.hclips.net/timages/ZCb/8007268.jpg||\\r %vc::144,786 %href::/en/italian/||\\r %title::Italian||\\r %thumb:://imzog2.hclips.net/timages/qba/3344667.jpg||\\r %vc::12,515 %href::/en/smoking/||\\r %title::Smoking||\\r %thumb:://imzog1.hclips.net/timages/vi/489323.jpg||\\r %vc::14,164 %href::/en/facial/||\\r %title::Facial||\\r %thumb:://imzog1.hclips.net/timages/Flb/7103310.jpg||\\r %vc::165,391 %href::/en/close up/||\\r %title::Close Up||\\r %thumb:://imzog1.hclips.net/timages/jr/945841.jpg||\\r %vc::55,733 %href::/en/cougar/||\\r %title::Cougar||\\r %thumb:://imzog1.hclips.net/timages/ru/1109788.jpg||\\r %vc::14,440 %href::/en/double penetration/||\\r %title::Double Penetration||\\r %thumb:://imzog1.hclips.net/timages/Ku/1128620.jpg||\\r %vc::54,484 %href::/en/long nails/||\\r %title::Long Nails||\\r %thumb:://imzog2.hclips.net/timages/ti/487813.jpg||\\r %vc::9,429 %href::/en/first time/||\\r %title::First Time||\\r %thumb:://imzog1.hclips.net/timages/qx/1264549.jpg||\\r %vc::13,531 %href::/en/vintage/||\\r %title::Vintage||\\r %thumb:://imzog1.hclips.net/timages/hn/735976.jpg||\\r %vc::108,031 %href::/en/exhibitionist/||\\r %title::Exhibitionist||\\r %thumb:://imzog1.hclips.net/timages/Um/722043.jpg||\\r %vc::13,985 %href::/en/messy/||\\r %title::Messy||\\r %thumb:://imzog1.hclips.net/timages/sq/902313.jpg||\\r %vc::12,585 %href::/en/japan nakadashi/||\\r %title::Japan Nakadashi||\\r %thumb:://imzog1.hclips.net/timages/zr/961974.jpg||\\r %vc::15,551 %href::/en/czech/||\\r %title::Czech||\\r %thumb:://imzog1.hclips.net/timages/oja/3758297.jpg||\\r %vc::19,422 %href::/en/tease/||\\r %title::Tease||\\r %thumb:://imzog2.hclips.net/timages/bbb/6553827.jpg||\\r %vc::18,065 %href::/en/cute/||\\r %title::Cute||\\r %thumb:://imzog1.hclips.net/timages/JI/1855355.jpg||\\r %vc::218,705 %href::/en/japanese/||\\r %title::Japanese||\\r %thumb:://imzog1.hclips.net/timages/lw/1207618.jpg||\\r %vc::385,979 %href::/en/latex/||\\r %title::Latex||\\r %thumb:://imzog1.hclips.net/timages/dn/731883.jpg||\\r %vc::12,438 %href::/en/retro/||\\r %title::Retro||\\r %thumb:://imzog2.hclips.net/timages/Ys/1038838.jpg||\\r %vc::83,470 %href::/en/shaved/||\\r %title::Shaved||\\r %thumb:://imzog2.hclips.net/timages/ik/580207.jpg||\\r %vc::78,209 %href::/en/wild/||\\r %title::Wild||\\r %thumb:://imzog1.hclips.net/timages/Ym/726737.jpg||\\r %vc::30,259 %href::/en/compilation/||\\r %title::Compilation||\\r %thumb:://imzog1.hclips.net/timages/Su/1136523.jpg||\\r %vc::40,606 %href::/en/hairy/||\\r %title::Hairy||\\r %thumb:://imzog2.hclips.net/timages/oq/898730.jpg||\\r %vc::114,759 %href::/en/office/||\\r %title::Office||\\r %thumb:://imzog1.hclips.net/timages/Oj/560323.jpg||\\r %vc::15,497 %href::/en/bathroom/||\\r %title::Bathroom||\\r %thumb:://imzog2.hclips.net/timages/DA/1433397.jpg||\\r %vc::37,871 %href::/en/ass worship/||\\r %title::Ass Worship||\\r %thumb:://imzog2.hclips.net/timages/Pua/4357642.jpg||\\r %vc::10,414 %href::/en/wife/||\\r %title::Wife||\\r %thumb:://imzog2.hclips.net/timages/wk/594341.jpg||\\r %vc::85,048 %href::/en/pool/||\\r %title::Pool||\\r %thumb:://imzog1.hclips.net/timages/Ai/494387.jpg||\\r %vc::10,243 %href::/en/stripping/||\\r %title::Stripping||\\r %thumb:://imzog2.hclips.net/timages/aq/884454.jpg||\\r %vc::52,441 %href::/en/legs/||\\r %title::Legs||\\r %thumb:://imzog1.hclips.net/timages/Ak/598676.jpg||\\r %vc::19,966 %href::/en/beauty/||\\r %title::Beauty||\\r %thumb:://imzog2.hclips.net/timages/RG/1759823.jpg||\\r %vc::30,053 %href::/en/girlfriend/||\\r %title::Girlfriend||\\r %thumb:://imzog2.hclips.net/timages/sq/902764.jpg||\\r %vc::63,994 %href::/en/handjob/||\\r %title::Handjob||\\r %thumb:://imzog1.hclips.net/timages/OG/1756463.jpg||\\r %vc::139,098 %href::/en/piercing/||\\r %title::Piercing||\\r %thumb:://imzog2.hclips.net/timages/cw/1198254.jpg||\\r %vc::13,338 %href::/en/alluring/||\\r %title::Alluring||\\r %thumb:://imzog2.hclips.net/timages/Gj/552951.jpg||\\r %vc::15,441 %href::/en/voyeur/||\\r %title::Voyeur||\\r %thumb:://imzog1.hclips.net/timages/MJ/1910221.jpg||\\r %vc::119,371 %href::/en/pov/||\\r %title::POV||\\r %thumb:://imzog1.hclips.net/timages/txb/7715728.jpg||\\r %vc::207,224 %href::/en/fitness/||\\r %title::Fitness||\\r %thumb:://imzog2.hclips.net/timages/Fn/759641.jpg||\\r %vc::9,158 %href::/en/car/||\\r %title::Car||\\r %thumb:://imzog2.hclips.net/timages/Ak/598519.jpg||\\r %vc::12,339 %href::/en/cowgirl/||\\r %title::Cowgirl||\\r %thumb:://imzog1.hclips.net/timages/FB/1487295.jpg||\\r %vc::34,274 %href::/en/extreme/||\\r %title::Extreme||\\r %thumb:://imzog1.hclips.net/timages/OX/2640480.jpg||\\r %vc::11,135 %href::/en/swingers/||\\r %title::Swingers||\\r %thumb:://imzog1.hclips.net/timages/oi/482855.jpg||\\r %vc::11,912 %href::/en/aged/||\\r %title::Aged||\\r %thumb:://imzog1.hclips.net/timages/Ifb/6794465.jpg||\\r %vc::11,237 %href::/en/outdoor/||\\r %title::Outdoor||\\r %thumb:://imzog2.hclips.net/timages/xv/1167815.jpg||\\r %vc::91,142 %href::/en/public/||\\r %title::Public||\\r %thumb:://imzog1.hclips.net/timages/Yt/1090832.jpg||\\r %vc::78,475 %href::/en/japan pansuto/||\\r %title::Japan Pansuto||\\r %thumb:://imzog1.hclips.net/timages/jo/789800.jpg||\\r %vc::12,726 %href::/en/bukkake/||\\r %title::Bukkake||\\r %thumb:://imzog1.hclips.net/timages/Ov/1184928.jpg||\\r %vc::25,651 %href::/en/tattoo/||\\r %title::Tattoo||\\r %thumb:://imzog1.hclips.net/timages/wqb/7354739.jpg||\\r %vc::75,057 %href::/en/japan onanii/||\\r %title::Japan Onanii||\\r %thumb:://imzog1.hclips.net/timages/dka/3799534.jpg||\\r %vc::20,056 %href::/en/cfnm/||\\r %title::CFNM||\\r %thumb:://imzog2.hclips.net/timages/Bm/703777.jpg||\\r %vc::9,098 %href::/en/swallow/||\\r %title::Swallow||\\r %thumb:://imzog1.hclips.net/timages/Ps/1029342.jpg||\\r %vc::28,405 %href::/en/ethnic/||\\r %title::Ethnic||\\r %thumb:://imzog2.hclips.net/timages/Wca/3428742.jpg||\\r %vc::14,633 %href::/en/spanking/||\\r %title::Spanking||\\r %thumb:://imzog1.hclips.net/timages/Vm/723949.jpg||\\r %vc::13,815 %href::/en/uniform/||\\r %title::Uniform||\\r %thumb:://imzog2.hclips.net/timages/vw/1217399.jpg||\\r %vc::26,873 %href::/en/gangbang/||\\r %title::Gangbang||\\r %thumb:://imzog2.hclips.net/timages/Y7a/6394462.jpg||\\r %vc::54,662 %href::/en/peeing/||\\r %title::Peeing||\\r %thumb:://imzog2.hclips.net/timages/OI/1860889.jpg||\\r %vc::23,091 %href::/en/clit/||\\r %title::Clit||\\r %thumb:://imzog1.hclips.net/timages/Kt/1076203.jpg||\\r %vc::10,345 %href::/en/kinky/||\\r %title::Kinky||\\r %thumb:://imzog2.hclips.net/timages/BC/1535552.jpg||\\r %vc::19,187 %href::/en/share/||\\r %title::Share||\\r %thumb:://imzog2.hclips.net/timages/jp/841422.jpg||\\r %vc::14,975 %href::/en/face fucked/||\\r %title::Face Fucked||\\r %thumb:://imzog1.hclips.net/timages/ip/840812.jpg||\\r %vc::10,255 %href::/en/oiled/||\\r %title::Oiled||\\r %thumb:://imzog1.hclips.net/timages/Mba/3366074.jpg||\\r %vc::9,396 %href::/en/soles/||\\r %title::Soles||\\r %thumb:://imzog2.hclips.net/timages/Qv/1186167.jpg||\\r %vc::23,847 %href::/en/jerking/||\\r %title::Jerking||\\r %thumb:://imzog2.hclips.net/timages/jJ/1881942.jpg||\\r %vc::9,075 %href::/en/high heels/||\\r %title::High Heels||\\r %thumb:://imzog1.hclips.net/timages/zn/753545.jpg||\\r %vc::26,325 %href::/en/slut/||\\r %title::Slut||\\r %thumb:://imzog2.hclips.net/timages/zl/649508.jpg||\\r %vc::136,457 %href::/en/bisexual/||\\r %title::Bisexual||\\r %thumb:://imzog1.hclips.net/timages/Yw/1246385.jpg||\\r %vc::10,033 %href::/en/couch/||\\r %title::Couch||\\r %thumb:://imzog1.hclips.net/timages/v3/2933488.jpg||\\r %vc::18,149 %href::/en/party/||\\r %title::Party||\\r %thumb:://imzog2.hclips.net/timages/Nw/1235642.jpg||\\r %vc::22,740 %href::/en/raunchy/||\\r %title::Raunchy||\\r %thumb:://imzog1.hclips.net/timages/Mj/558708.jpg||\\r %vc::9,310 %href::/en/casting/||\\r %title::Casting||\\r %thumb:://imzog1.hclips.net/timages/bm/677709.jpg||\\r %vc::30,483 %href::/en/money/||\\r %title::Money||\\r %thumb:://imzog2.hclips.net/timages/Aj/546207.jpg||\\r %vc::11,291 %href::/en/fantasy/||\\r %title::Fantasy||\\r %thumb:://imzog2.hclips.net/timages/wi/490566.jpg||\\r %vc::29,122 %href::/en/redhead/||\\r %title::Redhead||\\r %thumb:://imzog1.hclips.net/timages/Bdb/6683893.jpg||\\r %vc::91,815 %href::/en/passionate/||\\r %title::Passionate||\\r %thumb:://imzog1.hclips.net/timages/Km/712957.jpg||\\r %vc::11,147 %href::/en/american/||\\r %title::American||\\r %thumb:://imzog2.hclips.net/timages/qn/744295.jpg||\\r %vc::16,295 %href::/en/plump teen/||\\r %title::Plump Teen||\\r %thumb:://imzog2.hclips.net/timages/Co/808704.jpg||\\r %vc::9,944 %href::/en/group sex/||\\r %title::Group Sex||\\r %thumb:://imzog1.hclips.net/timages/Lw/1233470.jpg||\\r %vc::111,929 %href::/en/uncensored/||\\r %title::Uncensored||\\r %thumb:://imzog2.hclips.net/timages/U1/2854240.jpg||\\r %vc::13,377 %href::/en/softcore/||\\r %title::Softcore||\\r %thumb:://imzog1.hclips.net/timages/in/736937.jpg||\\r %vc::20,380 %href::/en/sperm/||\\r %title::Sperm||\\r %thumb:://imzog2.hclips.net/timages/fba/3333525.jpg||\\r %vc::25,450 %href::/en/domination/||\\r %title::Domination||\\r %thumb:://imzog2.hclips.net/timages/vl/645341.jpg||\\r %vc::9,640 %href::/en/afro/||\\r %title::Afro||\\r %thumb:://imzog1.hclips.net/timages/hn/735679.jpg||\\r %vc::13,936 %href::/en/gaping/||\\r %title::Gaping||\\r %thumb:://imzog1.hclips.net/timages/em/680153.jpg||\\r %vc::18,646 %href::/en/humiliation/||\\r %title::Humiliation||\\r %thumb:://imzog2.hclips.net/timages/si/486604.jpg||\\r %vc::12,365 %href::/en/ebony/||\\r %title::Ebony||\\r %thumb:://imzog1.hclips.net/timages/Yn/778537.jpg||\\r %vc::92,285 %href::/en/footjob/||\\r %title::Footjob||\\r %thumb:://imzog2.hclips.net/timages/Gm/708311.jpg||\\r %vc::14,363 %href::/en/cosplay/||\\r %title::Cosplay||\\r %thumb:://imzog1.hclips.net/timages/Bi/495951.jpg||\\r %vc::13,019 All categories STRAIGHT GAY SHEMALE PORNSTARS More free porn Hot Movs Txxx HClips Japanese Porn Porn Zog Upornia HD Porn VoyeurHit 100 Voyeur Upskirt Collection 100 Upskirts IPornia Porn Tube Free Porn Tube Image Zog TubeRL The Classic Porn Tube Porn Classic Reality Porn College Fuck Parties Hentai Video World Free Gay Porn Disclaimer:IMzog.com is a fully automatic porn search engine focused on free porn sites index.We do not own, produce or host the videos displayed on this website. All of the videos displayed on our site are hosted by websites that are not under our control. The linked videos are automatically gathered and added into our system by our spider script. Thumbnails are automatically generated from the videos. \"Categories\" is just a list of the most popular search queries entered by surfers. The list of related phrases is also based on surfers search queries. IMzog.com has a zero-tolerance policy against illegal pornography. We take no responsibility for the content on any website which we link to. We take no responsibility for the phrases entered by surfers. Please contact us if you have found inappropriate content.Content removal|TubeCorporate.com To top'}}"
      ]
     },
     "execution_count": 7,
     "metadata": {},
     "output_type": "execute_result"
    }
   ],
   "source": []
  },
  {
   "cell_type": "code",
   "execution_count": 12,
   "id": "75b9f5d0-f473-4534-8d4f-c020181e036d",
   "metadata": {},
   "outputs": [],
   "source": [
    "\n",
    "    "
   ]
  },
  {
   "cell_type": "code",
   "execution_count": 13,
   "id": "c602ce2e-db66-435f-8b5a-c97e5e89e8bd",
   "metadata": {},
   "outputs": [
    {
     "data": {
      "text/plain": [
       "{'!': ' ',\n",
       " '\"': ' ',\n",
       " '#': ' ',\n",
       " '$': ' ',\n",
       " '%': ' ',\n",
       " '&': ' ',\n",
       " '(': ' ',\n",
       " ')': ' ',\n",
       " '*': ' ',\n",
       " '+': ' ',\n",
       " ',': ' ',\n",
       " '-': ' ',\n",
       " '.': ' ',\n",
       " '/': ' ',\n",
       " ':': ' ',\n",
       " ';': ' ',\n",
       " '<': ' ',\n",
       " '=': ' ',\n",
       " '>': ' ',\n",
       " '?': ' ',\n",
       " '@': ' ',\n",
       " '[': ' ',\n",
       " '\\\\': ' ',\n",
       " ']': ' ',\n",
       " '^': ' ',\n",
       " '_': ' ',\n",
       " '`': ' ',\n",
       " '{': ' ',\n",
       " '|': ' ',\n",
       " '}': ' ',\n",
       " '~': ' ',\n",
       " '\\t': ' ',\n",
       " '\\n': ' '}"
      ]
     },
     "execution_count": 13,
     "metadata": {},
     "output_type": "execute_result"
    }
   ],
   "source": [
    "translate_dict"
   ]
  },
  {
   "cell_type": "code",
   "execution_count": null,
   "id": "aa993d65-09d8-43d8-a1d4-0c210d408d6f",
   "metadata": {},
   "outputs": [],
   "source": [
    "data"
   ]
  },
  {
   "cell_type": "code",
   "execution_count": null,
   "id": "214e6e29-e83f-4a70-b75c-50911e04e7b9",
   "metadata": {},
   "outputs": [],
   "source": []
  },
  {
   "cell_type": "code",
   "execution_count": null,
   "id": "7c703f97-6ccb-466a-add8-db3b030b30d1",
   "metadata": {},
   "outputs": [],
   "source": []
  },
  {
   "cell_type": "code",
   "execution_count": null,
   "id": "aa8e98ab-ca0d-489e-9c48-c4c2616ba720",
   "metadata": {},
   "outputs": [],
   "source": []
  },
  {
   "cell_type": "code",
   "execution_count": null,
   "id": "f38b7f53-9912-4ae3-8473-efef0f6e4b58",
   "metadata": {},
   "outputs": [],
   "source": []
  },
  {
   "cell_type": "code",
   "execution_count": 2,
   "id": "3134f47a-87a3-43c7-a1c3-37576636a140",
   "metadata": {},
   "outputs": [],
   "source": [
    "with open('C:/Users/Saba/Desktop/Python/AI CS hackathon btu/datasets/images/dickpics/german_mydickpictures_links.txt',\"r\") as f:\n",
    "    lines = f.readlines()\n"
   ]
  },
  {
   "cell_type": "code",
   "execution_count": 5,
   "id": "ac69b614-15e0-4c84-90a7-b508e4c2bde7",
   "metadata": {},
   "outputs": [
    {
     "name": "stdout",
     "output_type": "stream",
     "text": [
      "9396\n"
     ]
    }
   ],
   "source": [
    "print(len(lines[79544:]))"
   ]
  },
  {
   "cell_type": "code",
   "execution_count": null,
   "id": "28d22ba5-5f8e-4f70-9a72-3cd58620b4f2",
   "metadata": {},
   "outputs": [],
   "source": []
  }
 ],
 "metadata": {
  "kernelspec": {
   "display_name": "Python 3 (ipykernel)",
   "language": "python",
   "name": "python3"
  },
  "language_info": {
   "codemirror_mode": {
    "name": "ipython",
    "version": 3
   },
   "file_extension": ".py",
   "mimetype": "text/x-python",
   "name": "python",
   "nbconvert_exporter": "python",
   "pygments_lexer": "ipython3",
   "version": "3.9.19"
  }
 },
 "nbformat": 4,
 "nbformat_minor": 5
}
