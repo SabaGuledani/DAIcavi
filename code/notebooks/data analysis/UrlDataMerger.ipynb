{
 "cells": [
  {
   "cell_type": "code",
   "execution_count": 2,
   "id": "00866928-7e0e-4309-b26a-d6d9aa5fc821",
   "metadata": {},
   "outputs": [],
   "source": [
    "import pandas as pd\n",
    "import sqlite3"
   ]
  },
  {
   "cell_type": "code",
   "execution_count": 10,
   "id": "268d9d7f-e6b1-4a90-9bfc-0fe3b0d43981",
   "metadata": {},
   "outputs": [],
   "source": [
    "df_dmoz = pd.read_csv('./datasets/dmoz.csv')\n",
    "df_dmoz = df_dmoz.dropna()"
   ]
  },
  {
   "cell_type": "code",
   "execution_count": 18,
   "id": "fcb39422-fe0f-4caf-9fec-c92034dad233",
   "metadata": {},
   "outputs": [
    {
     "data": {
      "text/html": [
       "<div>\n",
       "<style scoped>\n",
       "    .dataframe tbody tr th:only-of-type {\n",
       "        vertical-align: middle;\n",
       "    }\n",
       "\n",
       "    .dataframe tbody tr th {\n",
       "        vertical-align: top;\n",
       "    }\n",
       "\n",
       "    .dataframe thead th {\n",
       "        text-align: right;\n",
       "    }\n",
       "</style>\n",
       "<table border=\"1\" class=\"dataframe\">\n",
       "  <thead>\n",
       "    <tr style=\"text-align: right;\">\n",
       "      <th></th>\n",
       "      <th>url</th>\n",
       "      <th>category</th>\n",
       "    </tr>\n",
       "  </thead>\n",
       "  <tbody>\n",
       "    <tr>\n",
       "      <th>314</th>\n",
       "      <td>http://www.geocities.com/featherededge/</td>\n",
       "      <td>Adult</td>\n",
       "    </tr>\n",
       "    <tr>\n",
       "      <th>334</th>\n",
       "      <td>http://www.hentaitoken.com/cyberage/nurse-call...</td>\n",
       "      <td>Adult</td>\n",
       "    </tr>\n",
       "    <tr>\n",
       "      <th>335</th>\n",
       "      <td>http://www.hentaitoken.com/cyberage/hospital-h...</td>\n",
       "      <td>Adult</td>\n",
       "    </tr>\n",
       "    <tr>\n",
       "      <th>342</th>\n",
       "      <td>http://www.hentaitoken.com/cyberage/horny-bunn...</td>\n",
       "      <td>Adult</td>\n",
       "    </tr>\n",
       "    <tr>\n",
       "      <th>343</th>\n",
       "      <td>http://www.hentaitoken.com/cyberage/big-tit-he...</td>\n",
       "      <td>Adult</td>\n",
       "    </tr>\n",
       "    <tr>\n",
       "      <th>...</th>\n",
       "      <td>...</td>\n",
       "      <td>...</td>\n",
       "    </tr>\n",
       "    <tr>\n",
       "      <th>1562429</th>\n",
       "      <td>http://www.angelfire.com/ok2/theoutsidersedge/...</td>\n",
       "      <td>Sports</td>\n",
       "    </tr>\n",
       "    <tr>\n",
       "      <th>1562511</th>\n",
       "      <td>http://www.angelfire.com/oh2/wcwgorgeousgeorge...</td>\n",
       "      <td>Sports</td>\n",
       "    </tr>\n",
       "    <tr>\n",
       "      <th>1562641</th>\n",
       "      <td>http://www.angelfire.com/wrestling/positivelyp...</td>\n",
       "      <td>Sports</td>\n",
       "    </tr>\n",
       "    <tr>\n",
       "      <th>1562658</th>\n",
       "      <td>http://www.angelfire.com/wrestling/savage/</td>\n",
       "      <td>Sports</td>\n",
       "    </tr>\n",
       "    <tr>\n",
       "      <th>1562873</th>\n",
       "      <td>http://www.angelfire.com/wrestling2/michaelsst...</td>\n",
       "      <td>Sports</td>\n",
       "    </tr>\n",
       "  </tbody>\n",
       "</table>\n",
       "<p>6364 rows × 2 columns</p>\n",
       "</div>"
      ],
      "text/plain": [
       "                                                       url category\n",
       "314                http://www.geocities.com/featherededge/    Adult\n",
       "334      http://www.hentaitoken.com/cyberage/nurse-call...    Adult\n",
       "335      http://www.hentaitoken.com/cyberage/hospital-h...    Adult\n",
       "342      http://www.hentaitoken.com/cyberage/horny-bunn...    Adult\n",
       "343      http://www.hentaitoken.com/cyberage/big-tit-he...    Adult\n",
       "...                                                    ...      ...\n",
       "1562429  http://www.angelfire.com/ok2/theoutsidersedge/...   Sports\n",
       "1562511  http://www.angelfire.com/oh2/wcwgorgeousgeorge...   Sports\n",
       "1562641  http://www.angelfire.com/wrestling/positivelyp...   Sports\n",
       "1562658         http://www.angelfire.com/wrestling/savage/   Sports\n",
       "1562873  http://www.angelfire.com/wrestling2/michaelsst...   Sports\n",
       "\n",
       "[6364 rows x 2 columns]"
      ]
     },
     "execution_count": 18,
     "metadata": {},
     "output_type": "execute_result"
    }
   ],
   "source": [
    "df_dmoz.loc[df_dmoz.url.str.contains(\".ge/\")]"
   ]
  },
  {
   "cell_type": "code",
   "execution_count": null,
   "id": "ce5f783f-75a3-4f74-afa5-c6d9a02fb505",
   "metadata": {},
   "outputs": [],
   "source": []
  },
  {
   "cell_type": "markdown",
   "id": "1c70a56a-0bab-4cfa-8e52-c6d355f8d1c7",
   "metadata": {},
   "source": [
    "# Make changes to porn dataset"
   ]
  },
  {
   "cell_type": "code",
   "execution_count": 2,
   "id": "7a5d85e2-aca1-4571-af8e-24947c80a9c6",
   "metadata": {},
   "outputs": [],
   "source": [
    "df_porn = pd.read_csv('./porn_urls_preprocessed.csv')"
   ]
  },
  {
   "cell_type": "code",
   "execution_count": 3,
   "id": "936bc25c-ccfa-4fd2-91f5-b190c16e6bb6",
   "metadata": {},
   "outputs": [],
   "source": [
    "df_porn = df_porn.loc[~(df_porn['url'].str.contains(\"blogspot\")) & ~(df_porn['url'].str.contains(\"tumblr\"))]\n",
    "\n",
    "df_porn = df_porn.sample(frac=1, random_state=44).reset_index(drop=True)\n",
    "\n",
    "df_porn['url'] = df_porn['url'].apply(lambda x: \"http://\"+x+\"/\")\n",
    "df_porn['category'] = \"Adult\"\n",
    "\n",
    "# part_to_take_porn = int(len(df_porn)*0.5)\n",
    "# df_porn = df_porn[:part_to_take_porn]"
   ]
  },
  {
   "cell_type": "markdown",
   "id": "1a675895-5e78-49e5-aa60-021740868a51",
   "metadata": {},
   "source": [
    "# Load casino links dataset"
   ]
  },
  {
   "cell_type": "code",
   "execution_count": 4,
   "id": "ac2c46f5-fc69-46a6-8781-d927be059ad4",
   "metadata": {},
   "outputs": [],
   "source": [
    "conn = sqlite3.connect('casino.db')\n",
    "\n",
    "df_casino = pd.read_sql('select * from web_pages',conn)\n",
    "df_casino.drop(columns=[\"id\",\"url\",\"html\",\"screenshot\"],inplace=True)\n",
    "df_casino.rename(columns={'real_url':'url'},inplace=True)\n",
    "df_casino['category'] = \"Adult\""
   ]
  },
  {
   "cell_type": "markdown",
   "id": "155f6fff-b229-46c4-8928-40c58c5c73fd",
   "metadata": {},
   "source": [
    "# load phishtank dataset"
   ]
  },
  {
   "cell_type": "code",
   "execution_count": 35,
   "id": "d13c6c72-6955-4d62-84df-925a96bdc565",
   "metadata": {},
   "outputs": [],
   "source": [
    "df_phishtank = pd.read_csv('./datasets/phishtank.csv')"
   ]
  },
  {
   "cell_type": "code",
   "execution_count": 38,
   "id": "68e2bdd4-60ef-41c1-83e1-a4ce97616aee",
   "metadata": {},
   "outputs": [],
   "source": [
    "df_phishtank = df_phishtank.drop(columns=['phish_id','phish_detail_url','submission_time','verified','verification_time','online','target'])\n",
    "df_phishtank['category'] = \"Malicious\""
   ]
  },
  {
   "cell_type": "markdown",
   "id": "b2b0db67-c24b-420d-855e-4064af595024",
   "metadata": {},
   "source": [
    "# Load phishing_dataset"
   ]
  },
  {
   "cell_type": "code",
   "execution_count": 41,
   "id": "047b354c-e197-4e9a-bab7-e24662c48bfd",
   "metadata": {},
   "outputs": [],
   "source": [
    "df_phishing = pd.read_csv(\"./datasets/phishing_dataset.csv\")"
   ]
  },
  {
   "cell_type": "code",
   "execution_count": 46,
   "id": "222e08e9-d934-4b66-89d6-19beeb1b357e",
   "metadata": {},
   "outputs": [],
   "source": [
    "df_phishing.rename(columns={df_phishing.columns[0]:\"url\"},inplace=True)\n",
    "df_phishing['category'] = \"Malicious\""
   ]
  },
  {
   "cell_type": "markdown",
   "id": "2156868e-7cc2-4617-a6fb-9095544211d0",
   "metadata": {},
   "source": [
    "# Load Malware_dataset"
   ]
  },
  {
   "cell_type": "code",
   "execution_count": 49,
   "id": "8651604e-a03d-4d21-973b-cc2f050267e6",
   "metadata": {},
   "outputs": [],
   "source": [
    "df_malware = pd.read_csv('./datasets/Malware_dataset.csv')"
   ]
  },
  {
   "cell_type": "code",
   "execution_count": 51,
   "id": "eb4e860a-2742-4dcd-b736-3705f1a02971",
   "metadata": {},
   "outputs": [],
   "source": [
    "df_malware.rename(columns={df_malware.columns[0]:\"url\"},inplace=True)\n",
    "df_malware['category'] = \"Malicious\""
   ]
  },
  {
   "cell_type": "markdown",
   "id": "928b507f-f19f-45b5-89a1-35200a6194a8",
   "metadata": {},
   "source": [
    "# Load Spam_dataset"
   ]
  },
  {
   "cell_type": "code",
   "execution_count": 56,
   "id": "aa822a99-a17d-457f-b5f4-0bd9f2246d32",
   "metadata": {},
   "outputs": [],
   "source": [
    "df_spam = pd.read_csv('./datasets/spam_dataset.csv')"
   ]
  },
  {
   "cell_type": "code",
   "execution_count": 59,
   "id": "ecda7fba-23e3-441b-b6c2-51d3e199318d",
   "metadata": {},
   "outputs": [],
   "source": [
    "df_spam.rename(columns={df_spam.columns[0]:\"url\"},inplace=True)\n",
    "df_spam['category'] = \"Malicious\""
   ]
  },
  {
   "cell_type": "markdown",
   "id": "b7c90651-3f71-4777-bdc1-f34a923d80f2",
   "metadata": {},
   "source": [
    "# Concatenate malicious links datasets"
   ]
  },
  {
   "cell_type": "code",
   "execution_count": 61,
   "id": "6df5b731-69ad-4134-91b3-0b9634b85ad8",
   "metadata": {},
   "outputs": [],
   "source": [
    "df_malicious = pd.concat([df_phishing,df_phishtank,df_malware,df_spam],ignore_index=True)"
   ]
  },
  {
   "cell_type": "code",
   "execution_count": 63,
   "id": "3804dd9d-b2bc-45c0-aa9f-740076df5461",
   "metadata": {},
   "outputs": [],
   "source": [
    "df_malicious.to_csv('malicious_links.csv',index=False)"
   ]
  },
  {
   "cell_type": "markdown",
   "id": "a5c66bb6-a15f-4aca-ac72-faeaf886831e",
   "metadata": {},
   "source": [
    "# Concatenate porn and casino datasets"
   ]
  },
  {
   "cell_type": "code",
   "execution_count": 5,
   "id": "ec5bbfbc-8bca-4927-8b00-317d0a5aaac3",
   "metadata": {},
   "outputs": [],
   "source": [
    "df_adult = pd.concat([df_casino,df_porn],ignore_index=True)"
   ]
  },
  {
   "cell_type": "code",
   "execution_count": 6,
   "id": "aa530832-1bb3-4749-8f90-855e15c6e37d",
   "metadata": {},
   "outputs": [],
   "source": [
    "df_adult.to_csv('porn_casino_links.csv',index=False)"
   ]
  },
  {
   "cell_type": "code",
   "execution_count": 25,
   "id": "36e9771b-e341-45f3-b10a-fa72e64236cf",
   "metadata": {},
   "outputs": [
    {
     "name": "stdout",
     "output_type": "stream",
     "text": [
      "60078\n",
      "59729\n",
      "58152\n",
      "57012\n",
      "53502\n",
      "48910\n",
      "50761\n",
      "48690\n",
      "47110\n",
      "45649\n",
      "51595\n",
      "52489\n",
      "45947\n",
      "45689\n",
      "48439\n",
      "48177\n",
      "61321\n",
      "57166\n",
      "56853\n",
      "55695\n",
      "59067\n",
      "58995\n",
      "59043\n",
      "55767\n"
     ]
    }
   ],
   "source": [
    "text = '''60078\n",
    "59729\n",
    "58152\n",
    "57012\n",
    "53502\n",
    "48910\n",
    "50761\n",
    "48690\n",
    "47110\n",
    "45649\n",
    "51595\n",
    "52489\n",
    "45947\n",
    "45689\n",
    "48439\n",
    "48177\n",
    "61321\n",
    "57166\n",
    "56853\n",
    "55695\n",
    "59067\n",
    "58995\n",
    "59043\n",
    "55767'''\n",
    "for i in text.split('\\n'):\n",
    "    \n",
    "    print(i)"
   ]
  },
  {
   "cell_type": "code",
   "execution_count": null,
   "id": "bd5d28dd-ac1a-4fe7-b717-5ecd8cdad43c",
   "metadata": {},
   "outputs": [],
   "source": []
  }
 ],
 "metadata": {
  "kernelspec": {
   "display_name": "Python 3 (ipykernel)",
   "language": "python",
   "name": "python3"
  },
  "language_info": {
   "codemirror_mode": {
    "name": "ipython",
    "version": 3
   },
   "file_extension": ".py",
   "mimetype": "text/x-python",
   "name": "python",
   "nbconvert_exporter": "python",
   "pygments_lexer": "ipython3",
   "version": "3.9.18"
  }
 },
 "nbformat": 4,
 "nbformat_minor": 5
}
