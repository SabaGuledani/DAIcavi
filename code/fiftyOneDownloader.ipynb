{
 "cells": [
  {
   "cell_type": "code",
   "execution_count": 1,
   "id": "7a8a31e2-21d7-4b2b-955c-bdb6aa50e4db",
   "metadata": {},
   "outputs": [],
   "source": [
    "import fiftyone as fo\n",
    "import fiftyone.zoo as foz\n",
    "import pandas as pd\n"
   ]
  },
  {
   "cell_type": "code",
   "execution_count": 6,
   "id": "f931d00b-1290-4c74-ada6-5d07d13f9e31",
   "metadata": {},
   "outputs": [
    {
     "name": "stdout",
     "output_type": "stream",
     "text": [
      "Downloading split 'train' to 'C:\\Users\\warfa\\fiftyone\\open-images-v7\\train' if necessary\n",
      "Found 50 images, downloading the remaining 49950\n",
      " 100% |███████████████| 49950/49950 [3.5h elapsed, 0s remaining, 3.2 files/s]      \n",
      "Dataset info written to 'C:\\Users\\warfa\\fiftyone\\open-images-v7\\info.json'\n",
      "Loading 'open-images-v7' split 'train'\n",
      " 100% |█████████████| 50000/50000 [1.4m elapsed, 0s remaining, 595.5 samples/s]      \n",
      "Dataset 'open-images-v7-train-50000' created\n"
     ]
    }
   ],
   "source": [
    "dataset = foz.load_zoo_dataset(\n",
    "    \"open-images-v7\",\n",
    "    split=\"train\",\n",
    "    max_samples=50000,\n",
    "    label_types = ['classifications'],\n",
    "    shuffle=True\n",
    ")"
   ]
  },
  {
   "cell_type": "code",
   "execution_count": 4,
   "id": "deae395c-ee57-45ff-9b7b-a31c192df58a",
   "metadata": {},
   "outputs": [],
   "source": [
    "df_labels = pd.read_csv(r'C:\\Users\\warfa\\fiftyone\\open-images-v7\\train\\labels\\classifications.csv')\n",
    "df_classes = pd.read_csv(r'C:\\Users\\warfa\\fiftyone\\open-images-v7\\train\\metadata\\classes.csv')"
   ]
  },
  {
   "cell_type": "code",
   "execution_count": 5,
   "id": "38e572a5-f36c-400f-8152-70e6ca0c552c",
   "metadata": {},
   "outputs": [
    {
     "data": {
      "text/html": [
       "<div>\n",
       "<style scoped>\n",
       "    .dataframe tbody tr th:only-of-type {\n",
       "        vertical-align: middle;\n",
       "    }\n",
       "\n",
       "    .dataframe tbody tr th {\n",
       "        vertical-align: top;\n",
       "    }\n",
       "\n",
       "    .dataframe thead th {\n",
       "        text-align: right;\n",
       "    }\n",
       "</style>\n",
       "<table border=\"1\" class=\"dataframe\">\n",
       "  <thead>\n",
       "    <tr style=\"text-align: right;\">\n",
       "      <th></th>\n",
       "      <th>ImageID</th>\n",
       "      <th>Source</th>\n",
       "      <th>LabelName</th>\n",
       "      <th>Confidence</th>\n",
       "    </tr>\n",
       "  </thead>\n",
       "  <tbody>\n",
       "    <tr>\n",
       "      <th>0</th>\n",
       "      <td>000002b66c9c498e</td>\n",
       "      <td>verification</td>\n",
       "      <td>/m/014j1m</td>\n",
       "      <td>0</td>\n",
       "    </tr>\n",
       "    <tr>\n",
       "      <th>1</th>\n",
       "      <td>000002b66c9c498e</td>\n",
       "      <td>verification</td>\n",
       "      <td>/m/014sv8</td>\n",
       "      <td>1</td>\n",
       "    </tr>\n",
       "    <tr>\n",
       "      <th>2</th>\n",
       "      <td>000002b66c9c498e</td>\n",
       "      <td>verification</td>\n",
       "      <td>/m/01599</td>\n",
       "      <td>0</td>\n",
       "    </tr>\n",
       "    <tr>\n",
       "      <th>3</th>\n",
       "      <td>000002b66c9c498e</td>\n",
       "      <td>verification</td>\n",
       "      <td>/m/015p6</td>\n",
       "      <td>0</td>\n",
       "    </tr>\n",
       "    <tr>\n",
       "      <th>4</th>\n",
       "      <td>000002b66c9c498e</td>\n",
       "      <td>verification</td>\n",
       "      <td>/m/015x4r</td>\n",
       "      <td>0</td>\n",
       "    </tr>\n",
       "    <tr>\n",
       "      <th>...</th>\n",
       "      <td>...</td>\n",
       "      <td>...</td>\n",
       "      <td>...</td>\n",
       "      <td>...</td>\n",
       "    </tr>\n",
       "    <tr>\n",
       "      <th>8996790</th>\n",
       "      <td>fffffdaec951185d</td>\n",
       "      <td>verification</td>\n",
       "      <td>/m/01g317</td>\n",
       "      <td>1</td>\n",
       "    </tr>\n",
       "    <tr>\n",
       "      <th>8996791</th>\n",
       "      <td>fffffdaec951185d</td>\n",
       "      <td>verification</td>\n",
       "      <td>/m/01xyhv</td>\n",
       "      <td>1</td>\n",
       "    </tr>\n",
       "    <tr>\n",
       "      <th>8996792</th>\n",
       "      <td>fffffdaec951185d</td>\n",
       "      <td>verification</td>\n",
       "      <td>/m/03bt1vf</td>\n",
       "      <td>1</td>\n",
       "    </tr>\n",
       "    <tr>\n",
       "      <th>8996793</th>\n",
       "      <td>fffffdaec951185d</td>\n",
       "      <td>verification</td>\n",
       "      <td>/m/09j2d</td>\n",
       "      <td>1</td>\n",
       "    </tr>\n",
       "    <tr>\n",
       "      <th>8996794</th>\n",
       "      <td>fffffdaec951185d</td>\n",
       "      <td>verification</td>\n",
       "      <td>/m/0dzct</td>\n",
       "      <td>1</td>\n",
       "    </tr>\n",
       "  </tbody>\n",
       "</table>\n",
       "<p>8996795 rows × 4 columns</p>\n",
       "</div>"
      ],
      "text/plain": [
       "                  ImageID        Source   LabelName  Confidence\n",
       "0        000002b66c9c498e  verification   /m/014j1m           0\n",
       "1        000002b66c9c498e  verification   /m/014sv8           1\n",
       "2        000002b66c9c498e  verification    /m/01599           0\n",
       "3        000002b66c9c498e  verification    /m/015p6           0\n",
       "4        000002b66c9c498e  verification   /m/015x4r           0\n",
       "...                   ...           ...         ...         ...\n",
       "8996790  fffffdaec951185d  verification   /m/01g317           1\n",
       "8996791  fffffdaec951185d  verification   /m/01xyhv           1\n",
       "8996792  fffffdaec951185d  verification  /m/03bt1vf           1\n",
       "8996793  fffffdaec951185d  verification    /m/09j2d           1\n",
       "8996794  fffffdaec951185d  verification    /m/0dzct           1\n",
       "\n",
       "[8996795 rows x 4 columns]"
      ]
     },
     "execution_count": 5,
     "metadata": {},
     "output_type": "execute_result"
    }
   ],
   "source": [
    "df_labels"
   ]
  },
  {
   "cell_type": "code",
   "execution_count": 3,
   "id": "d7bf996c-061c-4e86-a0b7-5e5ac13f9e4a",
   "metadata": {},
   "outputs": [
    {
     "data": {
      "text/plain": [
       "Name:        open-images-v7-train-50\n",
       "Media type:  image\n",
       "Num samples: 50\n",
       "Persistent:  False\n",
       "Tags:        []\n",
       "Sample fields:\n",
       "    id:              fiftyone.core.fields.ObjectIdField\n",
       "    filepath:        fiftyone.core.fields.StringField\n",
       "    tags:            fiftyone.core.fields.ListField(fiftyone.core.fields.StringField)\n",
       "    metadata:        fiftyone.core.fields.EmbeddedDocumentField(fiftyone.core.metadata.ImageMetadata)\n",
       "    positive_labels: fiftyone.core.fields.EmbeddedDocumentField(fiftyone.core.labels.Classifications)\n",
       "    negative_labels: fiftyone.core.fields.EmbeddedDocumentField(fiftyone.core.labels.Classifications)"
      ]
     },
     "execution_count": 3,
     "metadata": {},
     "output_type": "execute_result"
    }
   ],
   "source": []
  },
  {
   "cell_type": "code",
   "execution_count": null,
   "id": "3a5f197c-7f58-4a54-8eb1-2710d3526362",
   "metadata": {},
   "outputs": [],
   "source": []
  }
 ],
 "metadata": {
  "kernelspec": {
   "display_name": "Python 3 (ipykernel)",
   "language": "python",
   "name": "python3"
  },
  "language_info": {
   "codemirror_mode": {
    "name": "ipython",
    "version": 3
   },
   "file_extension": ".py",
   "mimetype": "text/x-python",
   "name": "python",
   "nbconvert_exporter": "python",
   "pygments_lexer": "ipython3",
   "version": "3.9.18"
  }
 },
 "nbformat": 4,
 "nbformat_minor": 5
}
