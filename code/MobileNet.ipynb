{
 "cells": [
  {
   "cell_type": "code",
   "execution_count": 1,
   "id": "806c8944-33f5-4219-ab8c-c5582a59a143",
   "metadata": {},
   "outputs": [
    {
     "name": "stdout",
     "output_type": "stream",
     "text": [
      "Num GPUs Available:  1\n"
     ]
    }
   ],
   "source": [
    "import numpy as np\n",
    "import os\n",
    "import matplotlib.pyplot as plt\n",
    "import cv2\n",
    "import tensorflow as tf\n",
    "from sklearn.metrics import f1_score, precision_score, recall_score,confusion_matrix,ConfusionMatrixDisplay\n",
    "\n",
    "from tensorflow.keras.utils import load_img,img_to_array\n",
    "from tensorflow.keras.applications import MobileNetV3Large\n",
    "from tensorflow.keras.applications.mobilenet_v3 import preprocess_input, decode_predictions\n",
    "from tensorflow.keras.optimizers import Adam\n",
    "from tensorflow.keras.layers import Dense,GlobalAveragePooling2D,Input,Dropout\n",
    "from tensorflow.keras.models import Model\n",
    "from tensorflow.keras.layers import RandomCrop, RandomFlip, RandomRotation, RandomContrast\n",
    "from tensorflow.keras.callbacks import EarlyStopping,ModelCheckpoint\n",
    "from tensorflow.keras.regularizers import l2\n",
    "\n",
    "print(\"Num GPUs Available: \", len(tf.config.list_physical_devices('GPU')))"
   ]
  },
  {
   "cell_type": "markdown",
   "id": "5a5a40f8-1356-4197-9e74-3e335c6061a9",
   "metadata": {},
   "source": [
    "# Train MobileNetV3\n",
    "To train our neural network we need:\n",
    " - Load the data\n",
    " - Downscale data and prepare it for input\n",
    " - create some neccessary functions to show image, show scores and etc\n",
    " - Load MobileNetV3 pretrained model without top\n",
    " - Prepare Data augmentation layers\n",
    " - Prepare output layers\n",
    " - Set neccessary parameters\n",
    " - Train the model\n",
    " - evaluate the model performance\n",
    " - create pipeline "
   ]
  },
  {
   "cell_type": "markdown",
   "id": "1dd4c41f-f8d7-4386-bf8e-7e4642c1a0ac",
   "metadata": {},
   "source": [
    "#### parameters initialization"
   ]
  },
  {
   "cell_type": "code",
   "execution_count": 2,
   "id": "590f9b31-668a-4661-b852-f0142b3e3776",
   "metadata": {},
   "outputs": [],
   "source": [
    "# We need to set seed for any randomizing that will happen during process\n",
    "SEED = 44\n",
    "# choose how much times we want data to be shown\n",
    "epochs = 40\n",
    "BATCH_SIZE = 32\n",
    "# validation frequency so validation wont be run every epoch\n",
    "VAL_FREQ = 2\n",
    "OPTIMIZER = 'adam'\n",
    "shape =  112\n",
    "shape_mobilenet = 96\n",
    "input_shape = (shape,shape,3)"
   ]
  },
  {
   "cell_type": "markdown",
   "id": "6ea1ffd7-db15-4aed-a4bb-2c5f654168cb",
   "metadata": {},
   "source": [
    "# Create Data Loader\n",
    "We need data loader to make loading batches computationally efficient and avoid memory issues"
   ]
  },
  {
   "cell_type": "code",
   "execution_count": 3,
   "id": "0be9e5c9-83e6-4fd0-bb4b-eb3997331bc2",
   "metadata": {},
   "outputs": [],
   "source": [
    "def load_from_directory(filename):\n",
    "    data = tf.keras.utils.image_dataset_from_directory(filename,batch_size=BATCH_SIZE,image_size=(shape,shape),seed=SEED,labels=\"inferred\",label_mode=\"int\")\n",
    "    return data\n",
    "\n",
    "# We split our dataset into train and validation sets\n",
    "def split_dir_dataset(data):\n",
    "    # scale down rgb from 255 to 0\n",
    "    data = data.map(lambda x,y: (x/255,y))\n",
    "    \n",
    "    # percent size of train and val sets\n",
    "    train_size = int(len(data)*.85)\n",
    "    test_size = int(len(data) * .10)\n",
    "    val_size = int(len(data)*.05)\n",
    "    \n",
    "    \n",
    "    # take that size images from dataset\n",
    "    train = data.take(train_size)\n",
    "    test = data.skip(train_size).take(test_size)\n",
    "    val = data.skip(train_size+test_size).take(val_size)\n",
    "    \n",
    "    \n",
    "    print(f'training shape: {train.as_numpy_iterator().next()[0].shape}')\n",
    "    return train,test,val"
   ]
  },
  {
   "cell_type": "code",
   "execution_count": 4,
   "id": "0289d2a2-a6f2-47c5-b9e2-6acee9b18b47",
   "metadata": {},
   "outputs": [
    {
     "name": "stdout",
     "output_type": "stream",
     "text": [
      "Found 712745 files belonging to 2 classes.\n",
      "training shape: (32, 112, 112, 3)\n"
     ]
    }
   ],
   "source": [
    "# path to our dataset\n",
    "dataset_path = './multiclass'\n",
    "\n",
    "data = load_from_directory(dataset_path)\n",
    "\n",
    "train,test, val = split_dir_dataset(data)\n"
   ]
  },
  {
   "cell_type": "code",
   "execution_count": 5,
   "id": "0b3bd95c-e05b-41b3-b89a-df6889b05b01",
   "metadata": {},
   "outputs": [
    {
     "name": "stdout",
     "output_type": "stream",
     "text": [
      "2\n"
     ]
    }
   ],
   "source": [
    "output_len = len(data.class_names)\n",
    "print(output_len)"
   ]
  },
  {
   "cell_type": "markdown",
   "id": "76ba9f5f-ae57-43e6-b4c0-570e9ca500f4",
   "metadata": {},
   "source": [
    "# Necessary Functions\n",
    "Now we have to initialize necessary functions that we will use later\n"
   ]
  },
  {
   "cell_type": "code",
   "execution_count": 6,
   "id": "8def194e-d24a-4895-9e79-98fa3a37bc67",
   "metadata": {},
   "outputs": [],
   "source": [
    "def show_samples_dataset(data):\n",
    "    class_names = data.class_names\n",
    "    plt.figure(figsize=(10, 10))\n",
    "    for images, labels in data.take(1):\n",
    "      for i in range(9):\n",
    "        ax = plt.subplot(3, 3, i + 1)\n",
    "        plt.imshow(images[i].numpy().astype(\"uint8\"))\n",
    "        plt.title(class_names[labels[i]])\n",
    "        plt.axis(\"off\")\n",
    "          \n",
    "def show_results(hist,mode='acc'):\n",
    "    if mode == 'acc' or mode == 'accuracy':\n",
    "        mode = 'accuracy'\n",
    "        val_mode = 'val_accuracy'\n",
    "    elif mode == 'loss':\n",
    "        mode = \"loss\"\n",
    "        val_mode = \"val_loss\"\n",
    "    \n",
    "    fig = plt.figure()\n",
    "    plt.plot(hist.history[mode], color='teal', label=mode)\n",
    "    plt.plot(hist.history[val_mode], color='orange', label=val_mode)\n",
    "    fig.suptitle(mode, fontsize=20)\n",
    "    plt.legend(loc=\"upper left\")\n",
    "    plt.show()\n",
    "    \n",
    "def prediction_dir_dataset(model,test,data):\n",
    "    y_true = []\n",
    "    y_pred = []\n",
    "    length = int(len(data) * .10)\n",
    "    index = 0\n",
    "    for batch in test.as_numpy_iterator(): \n",
    "        X, y = batch\n",
    "        yhat = model.predict(X)\n",
    "        yhat = np.argmax(yhat,axis=1)\n",
    "        y_true.append(y)\n",
    "        y_pred.append(yhat)\n",
    "        print(f\"Progress: {index}/{length}\", end='\\r')\n",
    "        index += len(batch)\n",
    "    y_true = np.array(y_true)\n",
    "    y_true = y_true.reshape(-1)\n",
    "    y_pred = np.array(y_pred)\n",
    "    y_pred = y_pred.reshape(-1)\n",
    "    \n",
    "    return y_true,y_pred\n",
    "\n",
    "def scores(y_true,y_pred,show_confusion_matrix=True):\n",
    "    precision_micro = precision_score(y_true, y_pred, average='micro')\n",
    "    precision_weighted = precision_score(y_true, y_pred, average='weighted')\n",
    "    recall_micro = recall_score(y_true, y_pred, average='micro')\n",
    "    recall_weighted = recall_score(y_true, y_pred, average='weighted')\n",
    "    f1_micro = f1_score(y_true, y_pred, average='micro')\n",
    "    f1_weighted = f1_score(y_true, y_pred, average='weighted')\n",
    "\n",
    "    if show_confusion_matrix == True:\n",
    "        cm = confusion_matrix(y_true, y_pred)\n",
    "        disp = ConfusionMatrixDisplay(confusion_matrix=cm)\n",
    "        disp.plot()\n",
    "        plt.show()\n",
    "    print(f\"precision weighted: {'{:.3f}'.format(precision_weighted)}\\nprecision micro: {precision_micro} \")\n",
    "    print(f'recall weighted: {recall_weighted}\\nrecall micro: {recall_micro} ')\n",
    "    print(f'f1 weighted: {\"{:.3f}\".format(f1_weighted)}\\nf1 micro: {f1_micro} ')"
   ]
  },
  {
   "cell_type": "code",
   "execution_count": null,
   "id": "c24bc644-fad6-4881-8fa3-5cac25e63262",
   "metadata": {},
   "outputs": [],
   "source": []
  },
  {
   "cell_type": "markdown",
   "id": "45fe778d-0385-473c-bd28-4c51178d1910",
   "metadata": {},
   "source": [
    "# Add Data augmentation to our model"
   ]
  },
  {
   "cell_type": "code",
   "execution_count": 7,
   "id": "06bbae64-30d5-4b13-a503-9779033b8788",
   "metadata": {},
   "outputs": [],
   "source": [
    "def data_augment(X):\n",
    "    X = RandomCrop(height=shape_mobilenet,width=shape_mobilenet,seed=SEED)(X)\n",
    "    X = RandomFlip(mode=\"horizontal_and_vertical\",seed=SEED)(X)\n",
    "    X = RandomRotation(factor=0.5)(X)\n",
    "    X = RandomContrast(0.8,seed=SEED)(X)\n",
    "    return X"
   ]
  },
  {
   "cell_type": "code",
   "execution_count": null,
   "id": "2990625c-492b-4ee0-807f-003ed471467f",
   "metadata": {},
   "outputs": [],
   "source": []
  },
  {
   "cell_type": "markdown",
   "id": "d0836c8e-ec32-450a-a14e-81043795ec54",
   "metadata": {},
   "source": [
    "# Load the model"
   ]
  },
  {
   "cell_type": "code",
   "execution_count": 8,
   "id": "d6d1e494-3b3b-413c-9d2e-03fd51d7e596",
   "metadata": {},
   "outputs": [
    {
     "name": "stdout",
     "output_type": "stream",
     "text": [
      "WARNING:tensorflow:`input_shape` is undefined or non-square, or `rows` is not 224. Weights for input shape (224, 224) will be loaded as the default.\n"
     ]
    }
   ],
   "source": [
    "base_model = MobileNetV3Large(input_shape=(shape_mobilenet,shape_mobilenet,3),weights='imagenet',include_top=False,include_preprocessing=False)\n"
   ]
  },
  {
   "cell_type": "code",
   "execution_count": 9,
   "id": "85eb8595-9143-48f8-a3c1-b8a7b0bdef7e",
   "metadata": {},
   "outputs": [],
   "source": [
    "# initialize input shape layer for data augmentation block\n",
    "x_input = Input(input_shape)\n",
    "x = data_augment(x_input)\n",
    "\n",
    "# connect data augmentation block to base model\n",
    "x = base_model(x)\n",
    "\n",
    "\n",
    "# Global spatial avg pooling layer\n",
    "x = GlobalAveragePooling2D()(x)\n",
    "\n",
    "# Fully connected layer\n",
    "x = Dense(1024,activation='relu',kernel_regularizer=l2(0.02))(x)\n",
    "x = Dropout(0.5)(x)\n",
    "\n",
    "\n",
    "\n",
    "# We have 2 classes either it is suitable for children or not\n",
    "predictions = Dense(output_len,activation='softmax')(x)\n",
    "\n",
    "# this is the model we will train\n",
    "model = Model(inputs=x_input, outputs=predictions)"
   ]
  },
  {
   "cell_type": "code",
   "execution_count": 10,
   "id": "97a718e5-4092-4b69-b2c1-56c4e4628453",
   "metadata": {},
   "outputs": [],
   "source": [
    "# first: train only the top layers (which were randomly initialized)\n",
    "# i.e. freeze all convolutional MobileNetV3 layers\n",
    "for layer in base_model.layers:\n",
    "    layer.trainable = False\n",
    "\n",
    "# compile the model (should be done *after* setting layers to non-trainable)\n",
    "model.compile(optimizer='adam',\n",
    "              loss=tf.losses.SparseCategoricalCrossentropy(),\n",
    "              metrics=['accuracy'])\n",
    "\n"
   ]
  },
  {
   "cell_type": "code",
   "execution_count": 11,
   "id": "87bbdc28-d7c6-4c6e-8666-dce53d7b460f",
   "metadata": {},
   "outputs": [
    {
     "name": "stdout",
     "output_type": "stream",
     "text": [
      "Model: \"model\"\n",
      "_________________________________________________________________\n",
      "Layer (type)                 Output Shape              Param #   \n",
      "=================================================================\n",
      "input_2 (InputLayer)         [(None, 112, 112, 3)]     0         \n",
      "_________________________________________________________________\n",
      "random_crop (RandomCrop)     (None, 96, 96, 3)         0         \n",
      "_________________________________________________________________\n",
      "random_flip (RandomFlip)     (None, 96, 96, 3)         0         \n",
      "_________________________________________________________________\n",
      "random_rotation (RandomRotat (None, 96, 96, 3)         0         \n",
      "_________________________________________________________________\n",
      "random_contrast (RandomContr (None, 96, 96, 3)         0         \n",
      "_________________________________________________________________\n",
      "MobilenetV3large (Functional (None, 1, 1, 1280)        4226432   \n",
      "_________________________________________________________________\n",
      "global_average_pooling2d_1 ( (None, 1280)              0         \n",
      "_________________________________________________________________\n",
      "dense (Dense)                (None, 1024)              1311744   \n",
      "_________________________________________________________________\n",
      "dropout (Dropout)            (None, 1024)              0         \n",
      "_________________________________________________________________\n",
      "dense_1 (Dense)              (None, 2)                 2050      \n",
      "=================================================================\n",
      "Total params: 5,540,226\n",
      "Trainable params: 1,313,794\n",
      "Non-trainable params: 4,226,432\n",
      "_________________________________________________________________\n"
     ]
    }
   ],
   "source": [
    "# visualize model\n",
    "model.summary()"
   ]
  },
  {
   "cell_type": "code",
   "execution_count": 12,
   "id": "08dd3f2d-0963-44ea-b93c-5b268170a04b",
   "metadata": {},
   "outputs": [],
   "source": [
    "# initialize this so computing is more efficient\n",
    "# AUTOTUNE = tf.data.experimental.AUTOTUNE\n",
    "\n",
    "# # train = train.cache()\n",
    "# train = train.prefetch(buffer_size=AUTOTUNE)\n",
    "\n",
    "# Define callbacks\n",
    "checkpoint = ModelCheckpoint('mobilenet_best_l2_112_1024.h5', monitor='val_loss', save_best_only=True, mode='min')\n",
    "early_stopping = EarlyStopping(monitor='val_loss', patience=2, mode='min')"
   ]
  },
  {
   "cell_type": "code",
   "execution_count": 13,
   "id": "4bd4cdf0-257a-425a-bda8-0e6e963862bc",
   "metadata": {},
   "outputs": [
    {
     "name": "stdout",
     "output_type": "stream",
     "text": [
      "Epoch 1/2\n",
      "18932/18932 [==============================] - 612s 32ms/step - loss: 0.5242 - accuracy: 0.8195 - val_loss: 0.4107 - val_accuracy: 0.8542\n"
     ]
    },
    {
     "name": "stderr",
     "output_type": "stream",
     "text": [
      "C:\\Users\\warfa\\.conda\\envs\\AI\\lib\\site-packages\\keras\\utils\\generic_utils.py:494: CustomMaskWarning: Custom mask layers require a config and must override get_config. When loading, the custom mask layer must be passed to the custom_objects argument.\n",
      "  warnings.warn('Custom mask layers require a config and must override '\n"
     ]
    },
    {
     "name": "stdout",
     "output_type": "stream",
     "text": [
      "Epoch 2/2\n",
      " 2341/18932 [==>...........................] - ETA: 6:24 - loss: 0.4662 - accuracy: 0.8221"
     ]
    },
    {
     "ename": "KeyboardInterrupt",
     "evalue": "",
     "output_type": "error",
     "traceback": [
      "\u001b[1;31m---------------------------------------------------------------------------\u001b[0m",
      "\u001b[1;31mKeyboardInterrupt\u001b[0m                         Traceback (most recent call last)",
      "Cell \u001b[1;32mIn[13], line 4\u001b[0m\n\u001b[0;32m      1\u001b[0m \u001b[38;5;66;03m# train the model on the new data for a few epochs\u001b[39;00m\n\u001b[0;32m      2\u001b[0m epochs \u001b[38;5;241m=\u001b[39m \u001b[38;5;241m2\u001b[39m\n\u001b[1;32m----> 4\u001b[0m hist \u001b[38;5;241m=\u001b[39m \u001b[43mmodel\u001b[49m\u001b[38;5;241;43m.\u001b[39;49m\u001b[43mfit\u001b[49m\u001b[43m(\u001b[49m\u001b[43mtrain\u001b[49m\u001b[43m,\u001b[49m\n\u001b[0;32m      5\u001b[0m \u001b[43m                 \u001b[49m\u001b[43mepochs\u001b[49m\u001b[43m \u001b[49m\u001b[38;5;241;43m=\u001b[39;49m\u001b[43m \u001b[49m\u001b[43mepochs\u001b[49m\u001b[43m,\u001b[49m\n\u001b[0;32m      6\u001b[0m \u001b[43m                 \u001b[49m\u001b[43mvalidation_data\u001b[49m\u001b[38;5;241;43m=\u001b[39;49m\u001b[43mval\u001b[49m\u001b[43m,\u001b[49m\n\u001b[0;32m      7\u001b[0m \u001b[43m                 \u001b[49m\u001b[43mcallbacks\u001b[49m\u001b[43m \u001b[49m\u001b[38;5;241;43m=\u001b[39;49m\u001b[43m \u001b[49m\u001b[43m[\u001b[49m\u001b[43mcheckpoint\u001b[49m\u001b[43m,\u001b[49m\u001b[43mearly_stopping\u001b[49m\u001b[43m]\u001b[49m\n\u001b[0;32m      8\u001b[0m \u001b[43m                 \u001b[49m\u001b[38;5;66;43;03m# ,validation_freq=VAL_FREQ\u001b[39;49;00m\n\u001b[0;32m      9\u001b[0m \u001b[43m                \u001b[49m\u001b[43m)\u001b[49m\n",
      "File \u001b[1;32m~\\.conda\\envs\\AI\\lib\\site-packages\\keras\\engine\\training.py:1184\u001b[0m, in \u001b[0;36mModel.fit\u001b[1;34m(self, x, y, batch_size, epochs, verbose, callbacks, validation_split, validation_data, shuffle, class_weight, sample_weight, initial_epoch, steps_per_epoch, validation_steps, validation_batch_size, validation_freq, max_queue_size, workers, use_multiprocessing)\u001b[0m\n\u001b[0;32m   1177\u001b[0m \u001b[38;5;28;01mwith\u001b[39;00m tf\u001b[38;5;241m.\u001b[39mprofiler\u001b[38;5;241m.\u001b[39mexperimental\u001b[38;5;241m.\u001b[39mTrace(\n\u001b[0;32m   1178\u001b[0m     \u001b[38;5;124m'\u001b[39m\u001b[38;5;124mtrain\u001b[39m\u001b[38;5;124m'\u001b[39m,\n\u001b[0;32m   1179\u001b[0m     epoch_num\u001b[38;5;241m=\u001b[39mepoch,\n\u001b[0;32m   1180\u001b[0m     step_num\u001b[38;5;241m=\u001b[39mstep,\n\u001b[0;32m   1181\u001b[0m     batch_size\u001b[38;5;241m=\u001b[39mbatch_size,\n\u001b[0;32m   1182\u001b[0m     _r\u001b[38;5;241m=\u001b[39m\u001b[38;5;241m1\u001b[39m):\n\u001b[0;32m   1183\u001b[0m   callbacks\u001b[38;5;241m.\u001b[39mon_train_batch_begin(step)\n\u001b[1;32m-> 1184\u001b[0m   tmp_logs \u001b[38;5;241m=\u001b[39m \u001b[38;5;28;43mself\u001b[39;49m\u001b[38;5;241;43m.\u001b[39;49m\u001b[43mtrain_function\u001b[49m\u001b[43m(\u001b[49m\u001b[43miterator\u001b[49m\u001b[43m)\u001b[49m\n\u001b[0;32m   1185\u001b[0m   \u001b[38;5;28;01mif\u001b[39;00m data_handler\u001b[38;5;241m.\u001b[39mshould_sync:\n\u001b[0;32m   1186\u001b[0m     context\u001b[38;5;241m.\u001b[39masync_wait()\n",
      "File \u001b[1;32m~\\.conda\\envs\\AI\\lib\\site-packages\\tensorflow\\python\\eager\\def_function.py:885\u001b[0m, in \u001b[0;36mFunction.__call__\u001b[1;34m(self, *args, **kwds)\u001b[0m\n\u001b[0;32m    882\u001b[0m compiler \u001b[38;5;241m=\u001b[39m \u001b[38;5;124m\"\u001b[39m\u001b[38;5;124mxla\u001b[39m\u001b[38;5;124m\"\u001b[39m \u001b[38;5;28;01mif\u001b[39;00m \u001b[38;5;28mself\u001b[39m\u001b[38;5;241m.\u001b[39m_jit_compile \u001b[38;5;28;01melse\u001b[39;00m \u001b[38;5;124m\"\u001b[39m\u001b[38;5;124mnonXla\u001b[39m\u001b[38;5;124m\"\u001b[39m\n\u001b[0;32m    884\u001b[0m \u001b[38;5;28;01mwith\u001b[39;00m OptionalXlaContext(\u001b[38;5;28mself\u001b[39m\u001b[38;5;241m.\u001b[39m_jit_compile):\n\u001b[1;32m--> 885\u001b[0m   result \u001b[38;5;241m=\u001b[39m \u001b[38;5;28mself\u001b[39m\u001b[38;5;241m.\u001b[39m_call(\u001b[38;5;241m*\u001b[39margs, \u001b[38;5;241m*\u001b[39m\u001b[38;5;241m*\u001b[39mkwds)\n\u001b[0;32m    887\u001b[0m new_tracing_count \u001b[38;5;241m=\u001b[39m \u001b[38;5;28mself\u001b[39m\u001b[38;5;241m.\u001b[39mexperimental_get_tracing_count()\n\u001b[0;32m    888\u001b[0m without_tracing \u001b[38;5;241m=\u001b[39m (tracing_count \u001b[38;5;241m==\u001b[39m new_tracing_count)\n",
      "File \u001b[1;32m~\\.conda\\envs\\AI\\lib\\site-packages\\tensorflow\\python\\eager\\def_function.py:917\u001b[0m, in \u001b[0;36mFunction._call\u001b[1;34m(self, *args, **kwds)\u001b[0m\n\u001b[0;32m    914\u001b[0m   \u001b[38;5;28mself\u001b[39m\u001b[38;5;241m.\u001b[39m_lock\u001b[38;5;241m.\u001b[39mrelease()\n\u001b[0;32m    915\u001b[0m   \u001b[38;5;66;03m# In this case we have created variables on the first call, so we run the\u001b[39;00m\n\u001b[0;32m    916\u001b[0m   \u001b[38;5;66;03m# defunned version which is guaranteed to never create variables.\u001b[39;00m\n\u001b[1;32m--> 917\u001b[0m   \u001b[38;5;28;01mreturn\u001b[39;00m \u001b[38;5;28mself\u001b[39m\u001b[38;5;241m.\u001b[39m_stateless_fn(\u001b[38;5;241m*\u001b[39margs, \u001b[38;5;241m*\u001b[39m\u001b[38;5;241m*\u001b[39mkwds)  \u001b[38;5;66;03m# pylint: disable=not-callable\u001b[39;00m\n\u001b[0;32m    918\u001b[0m \u001b[38;5;28;01melif\u001b[39;00m \u001b[38;5;28mself\u001b[39m\u001b[38;5;241m.\u001b[39m_stateful_fn \u001b[38;5;129;01mis\u001b[39;00m \u001b[38;5;129;01mnot\u001b[39;00m \u001b[38;5;28;01mNone\u001b[39;00m:\n\u001b[0;32m    919\u001b[0m   \u001b[38;5;66;03m# Release the lock early so that multiple threads can perform the call\u001b[39;00m\n\u001b[0;32m    920\u001b[0m   \u001b[38;5;66;03m# in parallel.\u001b[39;00m\n\u001b[0;32m    921\u001b[0m   \u001b[38;5;28mself\u001b[39m\u001b[38;5;241m.\u001b[39m_lock\u001b[38;5;241m.\u001b[39mrelease()\n",
      "File \u001b[1;32m~\\.conda\\envs\\AI\\lib\\site-packages\\tensorflow\\python\\eager\\function.py:3039\u001b[0m, in \u001b[0;36mFunction.__call__\u001b[1;34m(self, *args, **kwargs)\u001b[0m\n\u001b[0;32m   3036\u001b[0m \u001b[38;5;28;01mwith\u001b[39;00m \u001b[38;5;28mself\u001b[39m\u001b[38;5;241m.\u001b[39m_lock:\n\u001b[0;32m   3037\u001b[0m   (graph_function,\n\u001b[0;32m   3038\u001b[0m    filtered_flat_args) \u001b[38;5;241m=\u001b[39m \u001b[38;5;28mself\u001b[39m\u001b[38;5;241m.\u001b[39m_maybe_define_function(args, kwargs)\n\u001b[1;32m-> 3039\u001b[0m \u001b[38;5;28;01mreturn\u001b[39;00m \u001b[43mgraph_function\u001b[49m\u001b[38;5;241;43m.\u001b[39;49m\u001b[43m_call_flat\u001b[49m\u001b[43m(\u001b[49m\n\u001b[0;32m   3040\u001b[0m \u001b[43m    \u001b[49m\u001b[43mfiltered_flat_args\u001b[49m\u001b[43m,\u001b[49m\u001b[43m \u001b[49m\u001b[43mcaptured_inputs\u001b[49m\u001b[38;5;241;43m=\u001b[39;49m\u001b[43mgraph_function\u001b[49m\u001b[38;5;241;43m.\u001b[39;49m\u001b[43mcaptured_inputs\u001b[49m\u001b[43m)\u001b[49m\n",
      "File \u001b[1;32m~\\.conda\\envs\\AI\\lib\\site-packages\\tensorflow\\python\\eager\\function.py:1963\u001b[0m, in \u001b[0;36mConcreteFunction._call_flat\u001b[1;34m(self, args, captured_inputs, cancellation_manager)\u001b[0m\n\u001b[0;32m   1959\u001b[0m possible_gradient_type \u001b[38;5;241m=\u001b[39m gradients_util\u001b[38;5;241m.\u001b[39mPossibleTapeGradientTypes(args)\n\u001b[0;32m   1960\u001b[0m \u001b[38;5;28;01mif\u001b[39;00m (possible_gradient_type \u001b[38;5;241m==\u001b[39m gradients_util\u001b[38;5;241m.\u001b[39mPOSSIBLE_GRADIENT_TYPES_NONE\n\u001b[0;32m   1961\u001b[0m     \u001b[38;5;129;01mand\u001b[39;00m executing_eagerly):\n\u001b[0;32m   1962\u001b[0m   \u001b[38;5;66;03m# No tape is watching; skip to running the function.\u001b[39;00m\n\u001b[1;32m-> 1963\u001b[0m   \u001b[38;5;28;01mreturn\u001b[39;00m \u001b[38;5;28mself\u001b[39m\u001b[38;5;241m.\u001b[39m_build_call_outputs(\u001b[38;5;28;43mself\u001b[39;49m\u001b[38;5;241;43m.\u001b[39;49m\u001b[43m_inference_function\u001b[49m\u001b[38;5;241;43m.\u001b[39;49m\u001b[43mcall\u001b[49m\u001b[43m(\u001b[49m\n\u001b[0;32m   1964\u001b[0m \u001b[43m      \u001b[49m\u001b[43mctx\u001b[49m\u001b[43m,\u001b[49m\u001b[43m \u001b[49m\u001b[43margs\u001b[49m\u001b[43m,\u001b[49m\u001b[43m \u001b[49m\u001b[43mcancellation_manager\u001b[49m\u001b[38;5;241;43m=\u001b[39;49m\u001b[43mcancellation_manager\u001b[49m\u001b[43m)\u001b[49m)\n\u001b[0;32m   1965\u001b[0m forward_backward \u001b[38;5;241m=\u001b[39m \u001b[38;5;28mself\u001b[39m\u001b[38;5;241m.\u001b[39m_select_forward_and_backward_functions(\n\u001b[0;32m   1966\u001b[0m     args,\n\u001b[0;32m   1967\u001b[0m     possible_gradient_type,\n\u001b[0;32m   1968\u001b[0m     executing_eagerly)\n\u001b[0;32m   1969\u001b[0m forward_function, args_with_tangents \u001b[38;5;241m=\u001b[39m forward_backward\u001b[38;5;241m.\u001b[39mforward()\n",
      "File \u001b[1;32m~\\.conda\\envs\\AI\\lib\\site-packages\\tensorflow\\python\\eager\\function.py:591\u001b[0m, in \u001b[0;36m_EagerDefinedFunction.call\u001b[1;34m(self, ctx, args, cancellation_manager)\u001b[0m\n\u001b[0;32m    589\u001b[0m \u001b[38;5;28;01mwith\u001b[39;00m _InterpolateFunctionError(\u001b[38;5;28mself\u001b[39m):\n\u001b[0;32m    590\u001b[0m   \u001b[38;5;28;01mif\u001b[39;00m cancellation_manager \u001b[38;5;129;01mis\u001b[39;00m \u001b[38;5;28;01mNone\u001b[39;00m:\n\u001b[1;32m--> 591\u001b[0m     outputs \u001b[38;5;241m=\u001b[39m \u001b[43mexecute\u001b[49m\u001b[38;5;241;43m.\u001b[39;49m\u001b[43mexecute\u001b[49m\u001b[43m(\u001b[49m\n\u001b[0;32m    592\u001b[0m \u001b[43m        \u001b[49m\u001b[38;5;28;43mstr\u001b[39;49m\u001b[43m(\u001b[49m\u001b[38;5;28;43mself\u001b[39;49m\u001b[38;5;241;43m.\u001b[39;49m\u001b[43msignature\u001b[49m\u001b[38;5;241;43m.\u001b[39;49m\u001b[43mname\u001b[49m\u001b[43m)\u001b[49m\u001b[43m,\u001b[49m\n\u001b[0;32m    593\u001b[0m \u001b[43m        \u001b[49m\u001b[43mnum_outputs\u001b[49m\u001b[38;5;241;43m=\u001b[39;49m\u001b[38;5;28;43mself\u001b[39;49m\u001b[38;5;241;43m.\u001b[39;49m\u001b[43m_num_outputs\u001b[49m\u001b[43m,\u001b[49m\n\u001b[0;32m    594\u001b[0m \u001b[43m        \u001b[49m\u001b[43minputs\u001b[49m\u001b[38;5;241;43m=\u001b[39;49m\u001b[43margs\u001b[49m\u001b[43m,\u001b[49m\n\u001b[0;32m    595\u001b[0m \u001b[43m        \u001b[49m\u001b[43mattrs\u001b[49m\u001b[38;5;241;43m=\u001b[39;49m\u001b[43mattrs\u001b[49m\u001b[43m,\u001b[49m\n\u001b[0;32m    596\u001b[0m \u001b[43m        \u001b[49m\u001b[43mctx\u001b[49m\u001b[38;5;241;43m=\u001b[39;49m\u001b[43mctx\u001b[49m\u001b[43m)\u001b[49m\n\u001b[0;32m    597\u001b[0m   \u001b[38;5;28;01melse\u001b[39;00m:\n\u001b[0;32m    598\u001b[0m     outputs \u001b[38;5;241m=\u001b[39m execute\u001b[38;5;241m.\u001b[39mexecute_with_cancellation(\n\u001b[0;32m    599\u001b[0m         \u001b[38;5;28mstr\u001b[39m(\u001b[38;5;28mself\u001b[39m\u001b[38;5;241m.\u001b[39msignature\u001b[38;5;241m.\u001b[39mname),\n\u001b[0;32m    600\u001b[0m         num_outputs\u001b[38;5;241m=\u001b[39m\u001b[38;5;28mself\u001b[39m\u001b[38;5;241m.\u001b[39m_num_outputs,\n\u001b[1;32m   (...)\u001b[0m\n\u001b[0;32m    603\u001b[0m         ctx\u001b[38;5;241m=\u001b[39mctx,\n\u001b[0;32m    604\u001b[0m         cancellation_manager\u001b[38;5;241m=\u001b[39mcancellation_manager)\n",
      "File \u001b[1;32m~\\.conda\\envs\\AI\\lib\\site-packages\\tensorflow\\python\\eager\\execute.py:59\u001b[0m, in \u001b[0;36mquick_execute\u001b[1;34m(op_name, num_outputs, inputs, attrs, ctx, name)\u001b[0m\n\u001b[0;32m     57\u001b[0m \u001b[38;5;28;01mtry\u001b[39;00m:\n\u001b[0;32m     58\u001b[0m   ctx\u001b[38;5;241m.\u001b[39mensure_initialized()\n\u001b[1;32m---> 59\u001b[0m   tensors \u001b[38;5;241m=\u001b[39m \u001b[43mpywrap_tfe\u001b[49m\u001b[38;5;241;43m.\u001b[39;49m\u001b[43mTFE_Py_Execute\u001b[49m\u001b[43m(\u001b[49m\u001b[43mctx\u001b[49m\u001b[38;5;241;43m.\u001b[39;49m\u001b[43m_handle\u001b[49m\u001b[43m,\u001b[49m\u001b[43m \u001b[49m\u001b[43mdevice_name\u001b[49m\u001b[43m,\u001b[49m\u001b[43m \u001b[49m\u001b[43mop_name\u001b[49m\u001b[43m,\u001b[49m\n\u001b[0;32m     60\u001b[0m \u001b[43m                                      \u001b[49m\u001b[43minputs\u001b[49m\u001b[43m,\u001b[49m\u001b[43m \u001b[49m\u001b[43mattrs\u001b[49m\u001b[43m,\u001b[49m\u001b[43m \u001b[49m\u001b[43mnum_outputs\u001b[49m\u001b[43m)\u001b[49m\n\u001b[0;32m     61\u001b[0m \u001b[38;5;28;01mexcept\u001b[39;00m core\u001b[38;5;241m.\u001b[39m_NotOkStatusException \u001b[38;5;28;01mas\u001b[39;00m e:\n\u001b[0;32m     62\u001b[0m   \u001b[38;5;28;01mif\u001b[39;00m name \u001b[38;5;129;01mis\u001b[39;00m \u001b[38;5;129;01mnot\u001b[39;00m \u001b[38;5;28;01mNone\u001b[39;00m:\n",
      "\u001b[1;31mKeyboardInterrupt\u001b[0m: "
     ]
    }
   ],
   "source": [
    "# train the model on the new data for a few epochs\n",
    "epochs = 2\n",
    "\n",
    "hist = model.fit(train,\n",
    "                 epochs = epochs,\n",
    "                 validation_data=val,\n",
    "                 callbacks = [checkpoint,early_stopping]\n",
    "                 # ,validation_freq=VAL_FREQ\n",
    "                )"
   ]
  },
  {
   "cell_type": "code",
   "execution_count": null,
   "id": "a01fa271-c639-4926-b728-05746e255c8f",
   "metadata": {
    "scrolled": true
   },
   "outputs": [],
   "source": []
  },
  {
   "cell_type": "code",
   "execution_count": 14,
   "id": "3cf551b6-98aa-4476-98b3-aa45156984fa",
   "metadata": {},
   "outputs": [
    {
     "name": "stdout",
     "output_type": "stream",
     "text": [
      "Model: \"model\"\n",
      "_________________________________________________________________\n",
      "Layer (type)                 Output Shape              Param #   \n",
      "=================================================================\n",
      "input_2 (InputLayer)         [(None, 112, 112, 3)]     0         \n",
      "_________________________________________________________________\n",
      "random_crop (RandomCrop)     (None, 96, 96, 3)         0         \n",
      "_________________________________________________________________\n",
      "random_flip (RandomFlip)     (None, 96, 96, 3)         0         \n",
      "_________________________________________________________________\n",
      "random_rotation (RandomRotat (None, 96, 96, 3)         0         \n",
      "_________________________________________________________________\n",
      "random_contrast (RandomContr (None, 96, 96, 3)         0         \n",
      "_________________________________________________________________\n",
      "MobilenetV3large (Functional (None, 1, 1, 1280)        4226432   \n",
      "_________________________________________________________________\n",
      "global_average_pooling2d_1 ( (None, 1280)              0         \n",
      "_________________________________________________________________\n",
      "dense (Dense)                (None, 1024)              1311744   \n",
      "_________________________________________________________________\n",
      "dropout (Dropout)            (None, 1024)              0         \n",
      "_________________________________________________________________\n",
      "dense_1 (Dense)              (None, 2)                 2050      \n",
      "=================================================================\n",
      "Total params: 5,540,226\n",
      "Trainable params: 1,313,794\n",
      "Non-trainable params: 4,226,432\n",
      "_________________________________________________________________\n"
     ]
    }
   ],
   "source": [
    "model.summary()"
   ]
  },
  {
   "cell_type": "code",
   "execution_count": 15,
   "id": "3e174f2e-f6ce-4a5e-a2e5-4bae94fcfccd",
   "metadata": {},
   "outputs": [
    {
     "name": "stdout",
     "output_type": "stream",
     "text": [
      "0 input_2\n",
      "1 random_crop\n",
      "2 random_flip\n",
      "3 random_rotation\n",
      "4 random_contrast\n",
      "5 MobilenetV3large\n",
      "6 global_average_pooling2d_1\n",
      "7 dense\n",
      "8 dropout\n",
      "9 dense_1\n"
     ]
    }
   ],
   "source": [
    "# at this point, the top layers are well trained and we can start fine-tuning\n",
    "# convolutional layers from MobileNet V3. We will freeze the bottom N layers\n",
    "# and train the remaining top layers.\n",
    "\n",
    "# let's visualize layer names and layer indices to see how many layers\n",
    "# we should freeze:\n",
    "for i, layer in enumerate(model.layers):\n",
    "   print(i, layer.name)"
   ]
  },
  {
   "cell_type": "code",
   "execution_count": 16,
   "id": "4b6894ce-82cf-422b-8b8d-8e1acfc2092a",
   "metadata": {},
   "outputs": [
    {
     "name": "stdout",
     "output_type": "stream",
     "text": [
      "Model: \"model\"\n",
      "_________________________________________________________________\n",
      "Layer (type)                 Output Shape              Param #   \n",
      "=================================================================\n",
      "input_2 (InputLayer)         [(None, 112, 112, 3)]     0         \n",
      "_________________________________________________________________\n",
      "random_crop (RandomCrop)     (None, 96, 96, 3)         0         \n",
      "_________________________________________________________________\n",
      "random_flip (RandomFlip)     (None, 96, 96, 3)         0         \n",
      "_________________________________________________________________\n",
      "random_rotation (RandomRotat (None, 96, 96, 3)         0         \n",
      "_________________________________________________________________\n",
      "random_contrast (RandomContr (None, 96, 96, 3)         0         \n",
      "_________________________________________________________________\n",
      "MobilenetV3large (Functional (None, 1, 1, 1280)        4226432   \n",
      "_________________________________________________________________\n",
      "global_average_pooling2d_1 ( (None, 1280)              0         \n",
      "_________________________________________________________________\n",
      "dense (Dense)                (None, 1024)              1311744   \n",
      "_________________________________________________________________\n",
      "dropout (Dropout)            (None, 1024)              0         \n",
      "_________________________________________________________________\n",
      "dense_1 (Dense)              (None, 2)                 2050      \n",
      "=================================================================\n",
      "Total params: 5,540,226\n",
      "Trainable params: 1,313,794\n",
      "Non-trainable params: 4,226,432\n",
      "_________________________________________________________________\n"
     ]
    }
   ],
   "source": [
    "model.summary()"
   ]
  },
  {
   "cell_type": "code",
   "execution_count": 17,
   "id": "afd52953-7119-44ff-b33b-efdc56e19888",
   "metadata": {},
   "outputs": [],
   "source": [
    "# we chose to train the top 2 inception blocks, i.e. we will freeze\n",
    "# the first 249 layers and unfreeze the rest:\n",
    "for layer in model.layers:\n",
    "   layer.trainable = True"
   ]
  },
  {
   "cell_type": "code",
   "execution_count": 18,
   "id": "7b864c68-5b8e-4256-b103-41f2e04040ea",
   "metadata": {},
   "outputs": [],
   "source": [
    "checkpoint = ModelCheckpoint('mobilenet_best_unfrozen_l2_112_1024.h5', monitor='val_loss', save_best_only=True, mode='min')"
   ]
  },
  {
   "cell_type": "code",
   "execution_count": 19,
   "id": "fec7fe1f-8b52-46ba-a82d-a433337cd862",
   "metadata": {},
   "outputs": [],
   "source": [
    "# we need to recompile the model for these modifications to take effect\n",
    "# we use adam with a low learning rate\n",
    "model.compile(optimizer=Adam(learning_rate=0.00005),\n",
    "              loss=tf.losses.SparseCategoricalCrossentropy(),\n",
    "              metrics=['accuracy']\n",
    "             )"
   ]
  },
  {
   "cell_type": "code",
   "execution_count": 20,
   "id": "78d8c2d7-9380-4b19-9909-b5ad8f9659cd",
   "metadata": {},
   "outputs": [
    {
     "name": "stdout",
     "output_type": "stream",
     "text": [
      "Model: \"model\"\n",
      "_________________________________________________________________\n",
      "Layer (type)                 Output Shape              Param #   \n",
      "=================================================================\n",
      "input_2 (InputLayer)         [(None, 112, 112, 3)]     0         \n",
      "_________________________________________________________________\n",
      "random_crop (RandomCrop)     (None, 96, 96, 3)         0         \n",
      "_________________________________________________________________\n",
      "random_flip (RandomFlip)     (None, 96, 96, 3)         0         \n",
      "_________________________________________________________________\n",
      "random_rotation (RandomRotat (None, 96, 96, 3)         0         \n",
      "_________________________________________________________________\n",
      "random_contrast (RandomContr (None, 96, 96, 3)         0         \n",
      "_________________________________________________________________\n",
      "MobilenetV3large (Functional (None, 1, 1, 1280)        4226432   \n",
      "_________________________________________________________________\n",
      "global_average_pooling2d_1 ( (None, 1280)              0         \n",
      "_________________________________________________________________\n",
      "dense (Dense)                (None, 1024)              1311744   \n",
      "_________________________________________________________________\n",
      "dropout (Dropout)            (None, 1024)              0         \n",
      "_________________________________________________________________\n",
      "dense_1 (Dense)              (None, 2)                 2050      \n",
      "=================================================================\n",
      "Total params: 5,540,226\n",
      "Trainable params: 5,515,826\n",
      "Non-trainable params: 24,400\n",
      "_________________________________________________________________\n"
     ]
    }
   ],
   "source": [
    "model.summary()"
   ]
  },
  {
   "cell_type": "code",
   "execution_count": 21,
   "id": "4e1277ec-64a1-40d8-a0ad-e86fba9ffd91",
   "metadata": {},
   "outputs": [
    {
     "name": "stdout",
     "output_type": "stream",
     "text": [
      "Epoch 1/5\n",
      "18932/18932 [==============================] - 1410s 74ms/step - loss: 0.2071 - accuracy: 0.9239 - val_loss: 0.2355 - val_accuracy: 0.9083\n",
      "Epoch 2/5\n",
      "18932/18932 [==============================] - 1389s 73ms/step - loss: 0.1467 - accuracy: 0.9458 - val_loss: 0.2583 - val_accuracy: 0.9144\n",
      "Epoch 3/5\n",
      "18932/18932 [==============================] - 1398s 74ms/step - loss: 0.1312 - accuracy: 0.9517 - val_loss: 0.2025 - val_accuracy: 0.9199\n",
      "Epoch 4/5\n",
      "18932/18932 [==============================] - 1473s 78ms/step - loss: 0.1216 - accuracy: 0.9556 - val_loss: 0.4216 - val_accuracy: 0.8826\n",
      "Epoch 5/5\n",
      "18932/18932 [==============================] - 1512s 80ms/step - loss: 0.1156 - accuracy: 0.9579 - val_loss: 0.2065 - val_accuracy: 0.9261\n"
     ]
    }
   ],
   "source": [
    "# we train our model again, this time fine-tuning the convolutional layers\n",
    "# alongside the top Dense layers\n",
    "epochs = 5\n",
    "hist_unfreezed = model.fit(train,\n",
    "                 epochs = epochs,\n",
    "                 validation_data=val,\n",
    "                 callbacks = [checkpoint,early_stopping]\n",
    "                 # ,validation_freq=VAL_FREQ\n",
    "                )\n",
    "#  https://keras.io/api/applications/#usage-examples-for-image-classification-models"
   ]
  },
  {
   "cell_type": "code",
   "execution_count": 8,
   "id": "db30db2c-1935-4d50-9577-e025ed26c642",
   "metadata": {},
   "outputs": [],
   "source": [
    "def load_model(model_name):\n",
    "    model = tf.keras.models.load_model(model_name)\n",
    "    return model\n",
    "\n",
    "model = load_model('mobilenet.h5')"
   ]
  },
  {
   "cell_type": "code",
   "execution_count": 10,
   "id": "7b6353be-79a7-46c6-87c7-3c86f63bb6e7",
   "metadata": {},
   "outputs": [],
   "source": []
  },
  {
   "cell_type": "code",
   "execution_count": 9,
   "id": "baf204ca-559d-41fe-91ca-4af97d693483",
   "metadata": {},
   "outputs": [],
   "source": [
    "\n",
    "def predict(img_path):\n",
    "    # img_path = 'dawg.jpg'\n",
    "    img = load_img(img_path, target_size=(128, 128))\n",
    "    x = img_to_array(img)\n",
    "    x = np.expand_dims(x, axis=0)\n",
    "    x = preprocess_input(x)\n",
    "\n",
    "    preds = model.predict(x)\n",
    "    \n",
    "    # decode the results into a list of tuples (class, description, probability)\n",
    "    # (one such list for each sample in the batch)\n",
    "    predicted_idx = np.argmax(preds)\n",
    "    predicted_class = data.class_names[predicted_idx]\n",
    "    print(predicted_class) "
   ]
  },
  {
   "cell_type": "code",
   "execution_count": 25,
   "id": "bc412c0a-7197-4032-8970-bd29101767ba",
   "metadata": {},
   "outputs": [],
   "source": [
    "# predict(\"images (1).jpeg\")"
   ]
  },
  {
   "cell_type": "code",
   "execution_count": 26,
   "id": "6a7469a9-642b-45b9-9b0f-4064d9ceacea",
   "metadata": {},
   "outputs": [
    {
     "data": {
      "text/plain": [
       "['nude', 'safe']"
      ]
     },
     "execution_count": 26,
     "metadata": {},
     "output_type": "execute_result"
    }
   ],
   "source": [
    "data.class_names"
   ]
  },
  {
   "cell_type": "code",
   "execution_count": 11,
   "id": "7cd5a62a-ef9a-4c99-8545-58bbb514ec06",
   "metadata": {},
   "outputs": [],
   "source": [
    "model = load_model(\"mobilenet_best_unfrozen_l2_112_1024_256.h5\")"
   ]
  },
  {
   "cell_type": "code",
   "execution_count": 15,
   "id": "063061d8-8d2f-47e0-8ca2-023a1e92513a",
   "metadata": {},
   "outputs": [
    {
     "name": "stdout",
     "output_type": "stream",
     "text": [
      "Progress: 4452/2227\r"
     ]
    },
    {
     "data": {
      "image/png": "[encoded data removed]",
      "text/plain": [
       "<Figure size 640x480 with 2 Axes>"
      ]
     },
     "metadata": {},
     "output_type": "display_data"
    },
    {
     "name": "stdout",
     "output_type": "stream",
     "text": [
      "precision weighted: 0.911\n",
      "precision micro: 0.9116805118994162 \n",
      "recall weighted: 0.9116805118994162\n",
      "recall micro: 0.9116805118994162 \n",
      "f1 weighted: 0.910\n",
      "f1 micro: 0.9116805118994162 \n"
     ]
    }
   ],
   "source": [
    "y_true,y_pred = prediction_dir_dataset(model,test,data)\n",
    "scores(y_true,y_pred,show_confusion_matrix=True)"
   ]
  },
  {
   "cell_type": "code",
   "execution_count": 14,
   "id": "f5d6494c-55af-447d-bcbe-796f76a260cb",
   "metadata": {},
   "outputs": [
    {
     "name": "stdout",
     "output_type": "stream",
     "text": [
      "2227\n"
     ]
    }
   ],
   "source": [
    "print(len(test))"
   ]
  },
  {
   "cell_type": "code",
   "execution_count": 22,
   "id": "ed6b5c5c-7e7a-461a-ac58-569d750acc66",
   "metadata": {},
   "outputs": [
    {
     "name": "stdout",
     "output_type": "stream",
     "text": [
      "Progress: 4452/2227\r"
     ]
    },
    {
     "data": {
      "image/png": "[encoded data removed]",
      "text/plain": [
       "<Figure size 640x480 with 2 Axes>"
      ]
     },
     "metadata": {},
     "output_type": "display_data"
    },
    {
     "name": "stdout",
     "output_type": "stream",
     "text": [
      "precision weighted: 0.929\n",
      "precision micro: 0.9287017287831163 \n",
      "recall weighted: 0.9287017287831163\n",
      "recall micro: 0.9287017287831163 \n",
      "f1 weighted: 0.928\n",
      "f1 micro: 0.9287017287831163 \n"
     ]
    }
   ],
   "source": [
    "y_true,y_pred = prediction_dir_dataset(model,test,data)\n",
    "scores(y_true,y_pred,show_confusion_matrix=True)"
   ]
  },
  {
   "cell_type": "code",
   "execution_count": null,
   "id": "87b9e6c8-0993-4768-8750-fdb8e3a2dae6",
   "metadata": {},
   "outputs": [],
   "source": []
  },
  {
   "cell_type": "code",
   "execution_count": null,
   "id": "875abd9f-9ac0-49d1-9767-02db9d90d327",
   "metadata": {},
   "outputs": [],
   "source": []
  },
  {
   "cell_type": "code",
   "execution_count": null,
   "id": "558dd086-f4be-42e5-92c7-37a834554a50",
   "metadata": {},
   "outputs": [],
   "source": []
  }
 ],
 "metadata": {
  "kernelspec": {
   "display_name": "Python 3 (ipykernel)",
   "language": "python",
   "name": "python3"
  },
  "language_info": {
   "codemirror_mode": {
    "name": "ipython",
    "version": 3
   },
   "file_extension": ".py",
   "mimetype": "text/x-python",
   "name": "python",
   "nbconvert_exporter": "python",
   "pygments_lexer": "ipython3",
   "version": "3.9.18"
  }
 },
 "nbformat": 4,
 "nbformat_minor": 5
}
