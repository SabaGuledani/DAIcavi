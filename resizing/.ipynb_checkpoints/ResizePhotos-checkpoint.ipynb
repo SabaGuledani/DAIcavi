{
 "cells": [
  {
   "cell_type": "code",
   "execution_count": 1,
   "id": "7418d5a8-f783-4382-a432-14dd5cc8fd2f",
   "metadata": {},
   "outputs": [],
   "source": [
    "# import PIL\n",
    "import os\n",
    "import os.path\n",
    "# from PIL import Image,ImageOps\n",
    "from collections import Counter\n",
    "import cv2"
   ]
  },
  {
   "cell_type": "code",
   "execution_count": null,
   "id": "9c53bb65-2b9c-4150-9c16-f8f48d6ca555",
   "metadata": {},
   "outputs": [],
   "source": [
    "# image_resized = cv2.resize(image, (IMG_WIDTH, IMG_HEIGHT))\n",
    "# cv2.imwrite(file_path, frame)\n",
    "# cv2.imread(id_examples_filepath+id_img)\n",
    "filepath_photos = r'C:/Users/Saba/Desktop/Python/AI CS hackathon btu/datasets/images/dickpics/eng_dickpics'\n",
    "filepath_save_to = r'C:/Users/Saba/Desktop/Python/AI CS hackathon btu/datasets/images/dickpics/eng_dickpics_resized'\n",
    "files = os.listdir(filepath_photos)\n",
    "length = len(files)\n",
    "print(length)"
   ]
  },
  {
   "cell_type": "markdown",
   "id": "27fb76d5-f7e2-4e2a-b586-f42b0fed67e4",
   "metadata": {},
   "source": [
    "# resize photos function with cv2"
   ]
  },
  {
   "cell_type": "code",
   "execution_count": 2,
   "id": "b09654d5-a716-4edb-a8f7-c9c2e3241f7b",
   "metadata": {},
   "outputs": [],
   "source": [
    "def resize_photo(dir_name, image_name, save_dir_name, img_width, img_height):\n",
    "    if os.path.isfile(save_dir_name + \"/\" + image_name):\n",
    "        return\n",
    "    try:\n",
    "        image = cv2.imread(dir_name + \"/\" + image_name)\n",
    "    except:\n",
    "        print(f\"could not read image: {dir_name + '/' + image_name}\")\n",
    "        return\n",
    "    try:\n",
    "        \n",
    "        image_resized = cv2.resize(image, (img_width, img_height), interpolation=cv2.INTER_LANCZOS4)\n",
    "    except Exception as e:\n",
    "        # print(e)\n",
    "        # print(image_name)\n",
    "        return\n",
    "    cv2.imwrite(save_dir_name + \"/\" + image_name, image_resized)\n"
   ]
  },
  {
   "cell_type": "code",
   "execution_count": 3,
   "id": "d73dc784-7eb4-4994-b785-664cc35eddb5",
   "metadata": {},
   "outputs": [
    {
     "name": "stdout",
     "output_type": "stream",
     "text": [
      "safe\n",
      "279820/279821\r"
     ]
    }
   ],
   "source": [
    "all_dirs = ['./safe_1d/']\n",
    "for dir in all_dirs:\n",
    "    if \"porn\" in dir:\n",
    "        print(\"pron\")\n",
    "        save_dir_name = \"./porn_384/\"\n",
    "    elif 'safe' in dir:\n",
    "        print(\"safe\")\n",
    "        save_dir_name = './safe_384/'\n",
    "        \n",
    "    all_photos = os.listdir(dir)\n",
    "    i = 0\n",
    "    length = len(all_photos)\n",
    "    for photo in all_photos:\n",
    "        # print(save_dir_name + \"/\" + photo)\n",
    "        \n",
    "        resize_photo(dir, photo, save_dir_name, 384, 384)\n",
    "        print(f\"{i}/{length}\", end='\\r')\n",
    "        i+=1\n",
    "        "
   ]
  },
  {
   "cell_type": "code",
   "execution_count": 7,
   "id": "8c870a8c-491b-4774-b7a0-9e3f1dc15635",
   "metadata": {},
   "outputs": [],
   "source": [
    "def resize_photos(filepath,filepath_save_to,target_height,target_width):\n",
    "    files = os.listdir(filepath)\n",
    "    length = len(files)\n",
    "    \n",
    "    if not os.path.exists(filepath_save_to):\n",
    "        os.makedirs(filepath_save_to)\n",
    "        \n",
    "    for index,file in enumerate(files):\n",
    "        try:\n",
    "            #full image path\n",
    "            f_img = os.path.join(filepath, file) \n",
    "            #open the image and get width and height\n",
    "            img = Image.open(f_img)\n",
    "            width, height = img.size\n",
    "\n",
    "            # Convert to RGB if necessary\n",
    "            if img.mode not in ('RGB', 'RGBA'):\n",
    "                img = img.convert('RGB')\n",
    "            \n",
    "            # Calculate the new size to fit within the target dimensions\n",
    "            ratio = min(target_width / width, target_height / height)\n",
    "            new_size = (int(width * ratio), int(height * ratio))\n",
    "            \n",
    "            # Resize the image while preserving aspect ratio\n",
    "            img = img.resize(new_size, Image.Resampling.BICUBIC)\n",
    "\n",
    "            # Calculate padding needed to reach the target dimensions\n",
    "            pad_left = (target_width - new_size[0]) // 2\n",
    "            pad_top = (target_height - new_size[1]) // 2\n",
    "            pad_right = target_width - new_size[0] - pad_left\n",
    "            pad_bottom = target_height - new_size[1] - pad_top\n",
    "            \n",
    "            # Pad the resized image to the target size\n",
    "            img = ImageOps.expand(img, (pad_left, pad_top, pad_right, pad_bottom), fill=(255, 255, 255))\n",
    "\n",
    "            # Save the resized image\n",
    "            save_path = os.path.join(filepath_save_to, file)\n",
    "            img.save(save_path)\n",
    "            \n",
    "        except Exception as e:\n",
    "            print(f\"Problem opening {file}: {e}\")\n",
    "\n",
    "        print(f\"Progress: {index + 1}/{length} ({(index + 1) / length * 100:.2f}%)\", end='\\r')\n",
    "        \n",
    "    print(\"\\nAll images processed.\")\n",
    "\n",
    "\n",
    "\n",
    "\n",
    "\n",
    "def resize_photos_stretch(filepath, filepath_save_to, target_height, target_width):\n",
    "    files = os.listdir(filepath)\n",
    "    length = len(files)\n",
    "    \n",
    "    if not os.path.exists(filepath_save_to):\n",
    "        os.makedirs(filepath_save_to)\n",
    "        \n",
    "    for index, file in enumerate(files):\n",
    "        try:\n",
    "            # Full image path\n",
    "            f_img = os.path.join(filepath, file)\n",
    "            \n",
    "            # Open the image\n",
    "            img = Image.open(f_img)\n",
    "            \n",
    "            # Convert to RGB if necessary\n",
    "            if img.mode not in ('RGB', 'RGBA'):\n",
    "                img = img.convert('RGB')\n",
    "            \n",
    "            # Resize the image to the target dimensions (stretch)\n",
    "            img = img.resize((target_width, target_height), Image.Resampling.BICUBIC)\n",
    "            \n",
    "            # Save the resized image\n",
    "            save_path = os.path.join(filepath_save_to, file)\n",
    "            img.save(save_path)\n",
    "            \n",
    "        except Exception as e:\n",
    "            print(f\"Problem opening {file}: {e}\")\n",
    "\n",
    "        print(f\"Progress: {index + 1}/{length} ({(index + 1) / length * 100:.2f}%)\", end='\\r')\n",
    "        \n",
    "    print(\"\\nAll images processed.\")\n"
   ]
  },
  {
   "cell_type": "code",
   "execution_count": 8,
   "id": "ac5a4163-c753-4399-8b24-927ac747d24a",
   "metadata": {},
   "outputs": [
    {
     "name": "stdout",
     "output_type": "stream",
     "text": [
      "Progress: 16815/16815 (100.00%)\n",
      "All images processed.\n"
     ]
    }
   ],
   "source": [
    "resize_photos_stretch(filepath_photos,filepath_save_to,128,128)"
   ]
  },
  {
   "cell_type": "code",
   "execution_count": 20,
   "id": "91ebbb0a-e781-4013-b402-51ab0dc22a69",
   "metadata": {},
   "outputs": [
    {
     "ename": "FileNotFoundError",
     "evalue": "[WinError 3] The system cannot find the path specified: 'C:\\\\Users\\\\warfa\\\\Desktop\\\\Python\\\\AI CS hackathon btu\\\\notrain'",
     "output_type": "error",
     "traceback": [
      "\u001b[1;31m---------------------------------------------------------------------------\u001b[0m",
      "\u001b[1;31mFileNotFoundError\u001b[0m                         Traceback (most recent call last)",
      "Cell \u001b[1;32mIn[20], line 5\u001b[0m\n\u001b[0;32m      2\u001b[0m \u001b[38;5;28;01mimport\u001b[39;00m \u001b[38;5;21;01mcv2\u001b[39;00m\n\u001b[0;32m      4\u001b[0m \u001b[38;5;66;03m#for filename in listdir('C:/tensorflow/models/research/object_detection/images/train'):\u001b[39;00m\n\u001b[1;32m----> 5\u001b[0m \u001b[38;5;28;01mfor\u001b[39;00m filename \u001b[38;5;129;01min\u001b[39;00m \u001b[43mlistdir\u001b[49m\u001b[43m(\u001b[49m\u001b[43mf\u001b[49m\u001b[43m)\u001b[49m:\n\u001b[0;32m      6\u001b[0m     \u001b[38;5;28;01mif\u001b[39;00m filename\u001b[38;5;241m.\u001b[39mendswith(\u001b[38;5;124m\"\u001b[39m\u001b[38;5;124m.jpg\u001b[39m\u001b[38;5;124m\"\u001b[39m) \u001b[38;5;129;01mor\u001b[39;00m filename\u001b[38;5;241m.\u001b[39mendswith(\u001b[38;5;124m\"\u001b[39m\u001b[38;5;124m.png\u001b[39m\u001b[38;5;124m\"\u001b[39m) :\n\u001b[0;32m      7\u001b[0m         \u001b[38;5;28;01mtry\u001b[39;00m:\n",
      "\u001b[1;31mFileNotFoundError\u001b[0m: [WinError 3] The system cannot find the path specified: 'C:\\\\Users\\\\warfa\\\\Desktop\\\\Python\\\\AI CS hackathon btu\\\\notrain'"
     ]
    }
   ],
   "source": [
    "from os import listdir\n",
    "import cv2\n",
    "\n",
    "#for filename in listdir('C:/tensorflow/models/research/object_detection/images/train'):\n",
    "for filename in listdir(f):\n",
    "    if filename.endswith(\".jpg\") or filename.endswith(\".png\") :\n",
    "        try:\n",
    "            cv2.imread(f+filename)\n",
    "        except:\n",
    "            print(f+filename)\n",
    "    #cv2.imread('C:/tensorflow/models/research/object_detection/images/train/'+filename)\n",
    "    "
   ]
  },
  {
   "cell_type": "code",
   "execution_count": 21,
   "id": "b28989a4-1fef-47d2-83fe-9643e8fc451e",
   "metadata": {},
   "outputs": [],
   "source": [
    "extensions = [file[-4:] for file in files]"
   ]
  },
  {
   "cell_type": "code",
   "execution_count": 22,
   "id": "e4be40da-d40e-414d-8be3-b75d0d1f8790",
   "metadata": {
    "scrolled": true
   },
   "outputs": [],
   "source": [
    "count = Counter(extensions)"
   ]
  },
  {
   "cell_type": "code",
   "execution_count": 23,
   "id": "878a98d6-f1b7-4f32-8e05-d8b273fe63d1",
   "metadata": {},
   "outputs": [
    {
     "data": {
      "text/plain": [
       "Counter({'.jpg': 171908, 'jpeg': 47821, '.JPG': 5})"
      ]
     },
     "execution_count": 23,
     "metadata": {},
     "output_type": "execute_result"
    }
   ],
   "source": [
    "count"
   ]
  },
  {
   "cell_type": "code",
   "execution_count": 30,
   "id": "af512882-ef21-4d7d-9072-35b3f7694777",
   "metadata": {},
   "outputs": [],
   "source": [
    "for file in files:\n",
    "    if file.endswith(\".png\") :\n",
    "        os.remove(f+'/'+file)\n",
    "        # print(f+'/'+file)\n"
   ]
  },
  {
   "cell_type": "code",
   "execution_count": 5,
   "id": "d5e87ce2-2788-41aa-8531-2e8be6efdb6f",
   "metadata": {},
   "outputs": [
    {
     "name": "stdout",
     "output_type": "stream",
     "text": [
      "safe_1d\\65ryr3.jpg is not an image\n",
      "safe_1d\\65xxek.jpg is not an image\n",
      "safe_1d\\663hgx.jpg is not an image\n",
      "safe_1d\\664lop.jpg is not an image\n",
      "safe_1d\\66ovxk.jpg is not an image\n",
      "safe_1d\\674wdr.jpg is not an image\n",
      "safe_1d\\67cln3.jpg is not an image\n",
      "safe_1d\\688ow5.jpg is not an image\n",
      "safe_1d\\695yf3.jpg is not an image\n",
      "safe_1d\\69bsd8.jpg is not an image\n",
      "safe_1d\\69y17i.jpg is not an image\n",
      "safe_1d\\6ad5xp.jpg is not an image\n",
      "safe_1d\\6b45sk.jpg is not an image\n",
      "safe_1d\\6b9goy.jpg is not an image\n",
      "safe_1d\\6b9r4t.jpg is not an image\n",
      "safe_1d\\6bgbhl.jpg is not an image\n",
      "safe_1d\\6bnnp8.jpg is not an image\n",
      "safe_1d\\6cfvxt.jpg is not an image\n",
      "safe_1d\\6cj0gt.jpg is not an image\n",
      "safe_1d\\6d52ri.jpg is not an image\n",
      "safe_1d\\6dadub.jpg is not an image\n",
      "safe_1d\\6dprzc.jpg is not an image\n",
      "safe_1d\\6fdrv3.jpg is not an image\n",
      "safe_1d\\6g0b1s.jpg is not an image\n",
      "safe_1d\\6gdyy6.jpg is not an image\n",
      "safe_1d\\6hu0n4.jpg is not an image\n",
      "safe_1d\\6ikr0u.jpg is not an image\n",
      "safe_1d\\6kus6b.jpg is not an image\n",
      "safe_1d\\6kxtnr.jpg is not an image\n",
      "safe_1d\\6ldzxu.jpg is not an image\n",
      "safe_1d\\6lfv3e.jpg is not an image\n",
      "safe_1d\\6lmfot.jpg is not an image\n",
      "safe_1d\\6m2t39.jpg is not an image\n",
      "safe_1d\\6n9kra.jpg is not an image\n",
      "safe_1d\\6op5td.jpg is not an image\n",
      "safe_1d\\6orcub.jpg is not an image\n",
      "safe_1d\\6otjxn.jpg is not an image\n",
      "safe_1d\\6oul75.jpg is not an image\n",
      "safe_1d\\6p5wbm.jpg is not an image\n",
      "safe_1d\\6q394h.jpg is not an image\n",
      "safe_1d\\6q832k.jpg is not an image\n",
      "safe_1d\\6rclfi.jpg is not an image\n",
      "safe_1d\\6rzzcv.jpg is not an image\n",
      "safe_1d\\6s5de8.jpg is not an image\n",
      "safe_1d\\6sfxtn.jpg is not an image\n",
      "safe_1d\\6sla0d.jpg is not an image\n",
      "safe_1d\\6ss6j4.jpg is not an image\n",
      "safe_1d\\6ss9a5.jpg is not an image\n",
      "safe_1d\\6t2pcw.jpg is not an image\n",
      "safe_1d\\6tvaso.jpg is not an image\n",
      "safe_1d\\6ugwfv.jpg is not an image\n",
      "safe_1d\\6wboov.jpg is not an image\n",
      "safe_1d\\6xvwtf.jpg is not an image\n"
     ]
    },
    {
     "ename": "KeyboardInterrupt",
     "evalue": "",
     "output_type": "error",
     "traceback": [
      "\u001b[1;31m---------------------------------------------------------------------------\u001b[0m",
      "\u001b[1;31mKeyboardInterrupt\u001b[0m                         Traceback (most recent call last)",
      "Cell \u001b[1;32mIn[5], line 13\u001b[0m\n\u001b[0;32m     11\u001b[0m \u001b[38;5;28;01mfor\u001b[39;00m filepath \u001b[38;5;129;01min\u001b[39;00m Path(data_dir)\u001b[38;5;241m.\u001b[39mrglob(\u001b[38;5;124m\"\u001b[39m\u001b[38;5;124m*\u001b[39m\u001b[38;5;124m\"\u001b[39m):\n\u001b[0;32m     12\u001b[0m     \u001b[38;5;28;01mif\u001b[39;00m filepath\u001b[38;5;241m.\u001b[39msuffix\u001b[38;5;241m.\u001b[39mlower() \u001b[38;5;129;01min\u001b[39;00m image_extensions:\n\u001b[1;32m---> 13\u001b[0m         img_type \u001b[38;5;241m=\u001b[39m \u001b[43mimghdr\u001b[49m\u001b[38;5;241;43m.\u001b[39;49m\u001b[43mwhat\u001b[49m\u001b[43m(\u001b[49m\u001b[43mfilepath\u001b[49m\u001b[43m)\u001b[49m\n\u001b[0;32m     14\u001b[0m         \u001b[38;5;28;01mif\u001b[39;00m img_type \u001b[38;5;129;01mis\u001b[39;00m \u001b[38;5;28;01mNone\u001b[39;00m:\n\u001b[0;32m     15\u001b[0m             \u001b[38;5;66;03m# os.remove(filepath)\u001b[39;00m\n\u001b[0;32m     16\u001b[0m             count\u001b[38;5;241m+\u001b[39m\u001b[38;5;241m=\u001b[39m\u001b[38;5;241m1\u001b[39m\n",
      "File \u001b[1;32m~\\.conda\\envs\\AI\\lib\\imghdr.py:16\u001b[0m, in \u001b[0;36mwhat\u001b[1;34m(file, h)\u001b[0m\n\u001b[0;32m     14\u001b[0m \u001b[38;5;28;01mif\u001b[39;00m h \u001b[38;5;129;01mis\u001b[39;00m \u001b[38;5;28;01mNone\u001b[39;00m:\n\u001b[0;32m     15\u001b[0m     \u001b[38;5;28;01mif\u001b[39;00m \u001b[38;5;28misinstance\u001b[39m(file, (\u001b[38;5;28mstr\u001b[39m, PathLike)):\n\u001b[1;32m---> 16\u001b[0m         f \u001b[38;5;241m=\u001b[39m \u001b[38;5;28;43mopen\u001b[39;49m\u001b[43m(\u001b[49m\u001b[43mfile\u001b[49m\u001b[43m,\u001b[49m\u001b[43m \u001b[49m\u001b[38;5;124;43m'\u001b[39;49m\u001b[38;5;124;43mrb\u001b[39;49m\u001b[38;5;124;43m'\u001b[39;49m\u001b[43m)\u001b[49m\n\u001b[0;32m     17\u001b[0m         h \u001b[38;5;241m=\u001b[39m f\u001b[38;5;241m.\u001b[39mread(\u001b[38;5;241m32\u001b[39m)\n\u001b[0;32m     18\u001b[0m     \u001b[38;5;28;01melse\u001b[39;00m:\n",
      "\u001b[1;31mKeyboardInterrupt\u001b[0m: "
     ]
    }
   ],
   "source": [
    "from pathlib import Path\n",
    "import imghdr\n",
    "import os\n",
    "\n",
    "data_dir = r'./safe_1d/'\n",
    "image_extensions = [\".png\", \".jpg\",]  # add there all your images file extensions\n",
    "\n",
    "i = 0\n",
    "count = 0\n",
    "img_type_accepted_by_tf = [\"bmp\", \"gif\", \"jpeg\", \"png\",\"jpg\"]\n",
    "for filepath in Path(data_dir).rglob(\"*\"):\n",
    "    if filepath.suffix.lower() in image_extensions:\n",
    "        img_type = imghdr.what(filepath)\n",
    "        if img_type is None:\n",
    "            # os.remove(filepath)\n",
    "            count+=1\n",
    "            print(f\"{filepath} is not an image\")\n",
    "        elif img_type not in img_type_accepted_by_tf:\n",
    "            os.remove(filepath)\n",
    "            count+=1\n",
    "            print(f\"{filepath} is a {img_type}, not accepted by TensorFlow\")\n",
    "    # print(f\"Progress: {i}\", end='\\r')\n",
    "    i+=1"
   ]
  },
  {
   "cell_type": "code",
   "execution_count": 23,
   "id": "062107aa-fdcc-4751-94c5-ea5a3041270d",
   "metadata": {},
   "outputs": [
    {
     "name": "stdout",
     "output_type": "stream",
     "text": [
      "26086\n"
     ]
    }
   ],
   "source": [
    "print(count)"
   ]
  },
  {
   "cell_type": "code",
   "execution_count": 15,
   "id": "c60a25ee-5e2c-4f69-b21d-f0d488294946",
   "metadata": {},
   "outputs": [
    {
     "name": "stdout",
     "output_type": "stream",
     "text": [
      "None\n"
     ]
    }
   ],
   "source": [
    "filepath = r'./safe_1d/65ryr3.jpg'\n",
    "print(imghdr.what(filepath))"
   ]
  },
  {
   "cell_type": "code",
   "execution_count": null,
   "id": "f0b4da54-764a-4066-ad76-d7c6ebd6155e",
   "metadata": {},
   "outputs": [],
   "source": []
  }
 ],
 "metadata": {
  "kernelspec": {
   "display_name": "Python 3 (ipykernel)",
   "language": "python",
   "name": "python3"
  },
  "language_info": {
   "codemirror_mode": {
    "name": "ipython",
    "version": 3
   },
   "file_extension": ".py",
   "mimetype": "text/x-python",
   "name": "python",
   "nbconvert_exporter": "python",
   "pygments_lexer": "ipython3",
   "version": "3.9.21"
  }
 },
 "nbformat": 4,
 "nbformat_minor": 5
}
