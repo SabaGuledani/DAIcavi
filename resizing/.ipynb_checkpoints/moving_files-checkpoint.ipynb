{
 "cells": [
  {
   "cell_type": "code",
   "execution_count": 2,
   "id": "927b3969-f000-4443-b3b5-0e0791b365ee",
   "metadata": {},
   "outputs": [],
   "source": [
    "import os\n",
    "import pandas as pd \n",
    "import shutil\n",
    "\n",
    "from PIL import Image \n",
    "  \n",
    "\n"
   ]
  },
  {
   "cell_type": "markdown",
   "id": "f0f44fa4-f2c1-4fd1-8a9a-f7d802b50338",
   "metadata": {},
   "source": [
    "# Gathering all files in one directory"
   ]
  },
  {
   "cell_type": "markdown",
   "id": "8a5c81eb-1c52-4837-bb90-3c63302d03fd",
   "metadata": {},
   "source": [
    "## Porn images\n"
   ]
  },
  {
   "cell_type": "code",
   "execution_count": 11,
   "id": "38f63385-1ca3-45c0-a5eb-f1fc2486e9d2",
   "metadata": {},
   "outputs": [],
   "source": [
    "for dirpath, dirnames, filenames in os.walk(\"./NudeNet_Classifier_train_data_x320/nude_sexy_safe_v1_x320/\"):\n",
    "    if len(filenames) != 0:\n",
    "        for file in filenames:\n",
    "            filepath = dirpath+'/'+file\n",
    "            if filepath.lower().endswith(\".jpg\") or filepath.endswith(\".jpeg\") or filepath.endswith(\".png\"):\n",
    "                if str(dirpath).endswith(\"sexy\") or str(dirpath).endswith(\"nude\"):\n",
    "                    # print(filepath)\n",
    "                    \n",
    "                    shutil.move(filepath, f'./porn_1d/{file}')\n",
    "            "
   ]
  },
  {
   "cell_type": "markdown",
   "id": "46ecf376-5b3e-475a-9709-5423de398e92",
   "metadata": {},
   "source": [
    "## Safe images\n"
   ]
  },
  {
   "cell_type": "code",
   "execution_count": null,
   "id": "3298721d-a35d-4b59-af46-eddb602bbfcf",
   "metadata": {},
   "outputs": [],
   "source": [
    "for dirpath, dirnames, filenames in os.walk(\"./safe_images/\"):\n",
    "    if len(filenames) != 0:\n",
    "        for file in filenames:\n",
    "            filepath = dirpath+'/'+file\n",
    "            print(filepath)\n",
    "            shutil.move(filepath,f'./safe_1d/{file}')\n",
    "            "
   ]
  },
  {
   "cell_type": "markdown",
   "id": "294e39b3-bd70-4596-a6ca-65baec774152",
   "metadata": {},
   "source": [
    "## Safe images from porn dataset"
   ]
  },
  {
   "cell_type": "code",
   "execution_count": 12,
   "id": "7264aea2-0d92-4fa8-9d04-40a6ae95b8c4",
   "metadata": {},
   "outputs": [],
   "source": [
    "for dirpath, dirnames, filenames in os.walk(\"./NudeNet_Classifier_train_data_x320/nude_sexy_safe_v1_x320/\"):\n",
    "    if len(filenames) != 0:\n",
    "        for file in filenames:\n",
    "            filepath = dirpath+'/'+file\n",
    "            if filepath.lower().endswith(\".jpg\") or filepath.endswith(\".jpeg\") or filepath.endswith(\".png\"):\n",
    "                if str(dirpath).endswith(\"safe\"):\n",
    "                    print(filepath)\n",
    "                    shutil.move(filepath, f'./safe_1d/{file}')\n",
    "            "
   ]
  },
  {
   "cell_type": "code",
   "execution_count": null,
   "id": "1d3174a1-6aae-4e3a-87d8-27f45aec0f58",
   "metadata": {},
   "outputs": [],
   "source": []
  },
  {
   "cell_type": "code",
   "execution_count": null,
   "id": "ff2e2f94-b8ed-4d27-8489-db0ed380bcf9",
   "metadata": {},
   "outputs": [],
   "source": []
  },
  {
   "cell_type": "code",
   "execution_count": null,
   "id": "d0f7b3e5-12e3-4636-8d7e-5cad987450f8",
   "metadata": {},
   "outputs": [],
   "source": []
  },
  {
   "cell_type": "code",
   "execution_count": null,
   "id": "cde1e8f4-1d83-4bb2-9c17-ebec3a49d64c",
   "metadata": {},
   "outputs": [],
   "source": []
  },
  {
   "cell_type": "code",
   "execution_count": null,
   "id": "8e49a136-5956-4807-9ac4-afa8eff0e23e",
   "metadata": {},
   "outputs": [],
   "source": []
  },
  {
   "cell_type": "code",
   "execution_count": 51,
   "id": "afdfd8f7-d4f6-4096-a10f-a1c0f9175968",
   "metadata": {},
   "outputs": [],
   "source": [
    "df = pd.read_csv(filepath_csv)\n",
    "df1 = pd.read_csv(filepath_csv1)\n",
    "df2 = pd.read_csv(filepath_csv2)\n"
   ]
  },
  {
   "cell_type": "code",
   "execution_count": 55,
   "id": "63e530f1-276b-40da-801f-a88eb3344b6c",
   "metadata": {},
   "outputs": [],
   "source": [
    "df_list = [df,df1,df2]\n",
    "df = pd.concat(df_list,ignore_index=True)\n"
   ]
  },
  {
   "cell_type": "code",
   "execution_count": 57,
   "id": "e1d413bb-ad10-4347-ad1d-2750cde853f9",
   "metadata": {},
   "outputs": [],
   "source": [
    "df.rename(columns={df_cols[1]:df_cols[1].strip(),df_cols[2]:df_cols[2].strip(),df_cols[3]:df_cols[3].strip()},inplace=True)"
   ]
  },
  {
   "cell_type": "code",
   "execution_count": 62,
   "id": "20650c17-d6d9-43cd-8e39-b42030d8bff7",
   "metadata": {},
   "outputs": [],
   "source": [
    "df_drugs = df.loc[(df['drug'] == 1) & (df[\"gun\"] == 0)]\n",
    "df_guns = df.loc[(df['drug'] == 0) & (df[\"gun\"] == 1)]"
   ]
  },
  {
   "cell_type": "code",
   "execution_count": 64,
   "id": "1c2de7c9-1b29-4942-baca-b2e4bf7f4c17",
   "metadata": {},
   "outputs": [
    {
     "data": {
      "text/html": [
       "<div>\n",
       "<style scoped>\n",
       "    .dataframe tbody tr th:only-of-type {\n",
       "        vertical-align: middle;\n",
       "    }\n",
       "\n",
       "    .dataframe tbody tr th {\n",
       "        vertical-align: top;\n",
       "    }\n",
       "\n",
       "    .dataframe thead th {\n",
       "        text-align: right;\n",
       "    }\n",
       "</style>\n",
       "<table border=\"1\" class=\"dataframe\">\n",
       "  <thead>\n",
       "    <tr style=\"text-align: right;\">\n",
       "      <th></th>\n",
       "      <th>filename</th>\n",
       "      <th>drug</th>\n",
       "      <th>gun</th>\n",
       "      <th>people</th>\n",
       "    </tr>\n",
       "  </thead>\n",
       "  <tbody>\n",
       "    <tr>\n",
       "      <th>1</th>\n",
       "      <td>armas-2408-_jpg.rf.0120a6625ede23160b949d179f0...</td>\n",
       "      <td>0</td>\n",
       "      <td>1</td>\n",
       "      <td>0</td>\n",
       "    </tr>\n",
       "    <tr>\n",
       "      <th>2</th>\n",
       "      <td>armas-2866-_jpg.rf.001798c75c5c409e4fd1b7e0e8f...</td>\n",
       "      <td>0</td>\n",
       "      <td>1</td>\n",
       "      <td>0</td>\n",
       "    </tr>\n",
       "    <tr>\n",
       "      <th>3</th>\n",
       "      <td>armas-1345-_jpg.rf.00bd62c6ea03f010ad5313df8c4...</td>\n",
       "      <td>0</td>\n",
       "      <td>1</td>\n",
       "      <td>0</td>\n",
       "    </tr>\n",
       "    <tr>\n",
       "      <th>5</th>\n",
       "      <td>armas-236-_jpg.rf.0490b068ccbf99aa5522e9c26e61...</td>\n",
       "      <td>0</td>\n",
       "      <td>1</td>\n",
       "      <td>0</td>\n",
       "    </tr>\n",
       "    <tr>\n",
       "      <th>7</th>\n",
       "      <td>armas-2430-_jpg.rf.089dbe5f5598c38e4da4a215927...</td>\n",
       "      <td>0</td>\n",
       "      <td>1</td>\n",
       "      <td>0</td>\n",
       "    </tr>\n",
       "    <tr>\n",
       "      <th>...</th>\n",
       "      <td>...</td>\n",
       "      <td>...</td>\n",
       "      <td>...</td>\n",
       "      <td>...</td>\n",
       "    </tr>\n",
       "    <tr>\n",
       "      <th>3145</th>\n",
       "      <td>armas-1862-_jpg.rf.fb27a54db6cd64c52dbc1c78521...</td>\n",
       "      <td>0</td>\n",
       "      <td>1</td>\n",
       "      <td>0</td>\n",
       "    </tr>\n",
       "    <tr>\n",
       "      <th>3146</th>\n",
       "      <td>armas-1296-_jpg.rf.fe77a5f76f6d03a0d974aae760b...</td>\n",
       "      <td>0</td>\n",
       "      <td>1</td>\n",
       "      <td>0</td>\n",
       "    </tr>\n",
       "    <tr>\n",
       "      <th>3147</th>\n",
       "      <td>armas-2482-_jpg.rf.fca56ed44db7c0fd15525d9a344...</td>\n",
       "      <td>0</td>\n",
       "      <td>1</td>\n",
       "      <td>0</td>\n",
       "    </tr>\n",
       "    <tr>\n",
       "      <th>3148</th>\n",
       "      <td>armas-2581-_jpg.rf.fe32c946486e4a0c5d46bf2a2f3...</td>\n",
       "      <td>0</td>\n",
       "      <td>1</td>\n",
       "      <td>0</td>\n",
       "    </tr>\n",
       "    <tr>\n",
       "      <th>3150</th>\n",
       "      <td>armas-602-_jpg.rf.f984deed03de8b6d37b33dcbd14b...</td>\n",
       "      <td>0</td>\n",
       "      <td>1</td>\n",
       "      <td>0</td>\n",
       "    </tr>\n",
       "  </tbody>\n",
       "</table>\n",
       "<p>2437 rows × 4 columns</p>\n",
       "</div>"
      ],
      "text/plain": [
       "                                               filename  drug  gun  people\n",
       "1     armas-2408-_jpg.rf.0120a6625ede23160b949d179f0...     0    1       0\n",
       "2     armas-2866-_jpg.rf.001798c75c5c409e4fd1b7e0e8f...     0    1       0\n",
       "3     armas-1345-_jpg.rf.00bd62c6ea03f010ad5313df8c4...     0    1       0\n",
       "5     armas-236-_jpg.rf.0490b068ccbf99aa5522e9c26e61...     0    1       0\n",
       "7     armas-2430-_jpg.rf.089dbe5f5598c38e4da4a215927...     0    1       0\n",
       "...                                                 ...   ...  ...     ...\n",
       "3145  armas-1862-_jpg.rf.fb27a54db6cd64c52dbc1c78521...     0    1       0\n",
       "3146  armas-1296-_jpg.rf.fe77a5f76f6d03a0d974aae760b...     0    1       0\n",
       "3147  armas-2482-_jpg.rf.fca56ed44db7c0fd15525d9a344...     0    1       0\n",
       "3148  armas-2581-_jpg.rf.fe32c946486e4a0c5d46bf2a2f3...     0    1       0\n",
       "3150  armas-602-_jpg.rf.f984deed03de8b6d37b33dcbd14b...     0    1       0\n",
       "\n",
       "[2437 rows x 4 columns]"
      ]
     },
     "execution_count": 64,
     "metadata": {},
     "output_type": "execute_result"
    }
   ],
   "source": []
  },
  {
   "cell_type": "code",
   "execution_count": null,
   "id": "fba35413-a73f-4455-8809-4f33d30fbeeb",
   "metadata": {},
   "outputs": [],
   "source": []
  },
  {
   "cell_type": "markdown",
   "id": "1fd1cae6-422e-470d-afe3-c14a84c36d31",
   "metadata": {},
   "source": [
    "# Move files from one folder to other"
   ]
  },
  {
   "cell_type": "code",
   "execution_count": 9,
   "id": "5755390a-155e-4df1-98ca-0161db044ce0",
   "metadata": {},
   "outputs": [],
   "source": [
    "source = r'C:\\Users\\Saba\\Desktop\\Python\\AI CS hackathon btu\\multiclass\\dickpic\\\\'\n",
    "\n",
    "destination = r'C:\\Users\\Saba\\Desktop\\Python\\AI CS hackathon btu\\multiclass\\nude\\\\'\n",
    "\n",
    "allfiles = os.listdir(source)"
   ]
  },
  {
   "cell_type": "code",
   "execution_count": 10,
   "id": "53504011-5a3f-4a6c-b8cc-498574013032",
   "metadata": {},
   "outputs": [
    {
     "name": "stdout",
     "output_type": "stream",
     "text": [
      "106234\n",
      "['dickpic_0.jpg', 'dickpic_1.jpg', 'dickpic_10.jpg', 'dickpic_100.jpg', 'dickpic_1000.jpg', 'dickpic_10000.jpg', 'dickpic_10001.jpg', 'dickpic_10002.jpg', 'dickpic_10003.jpg', 'dickpic_10004.jpg']\n"
     ]
    }
   ],
   "source": [
    "print(len(allfiles))\n",
    "print(allfiles[0:10])\n"
   ]
  },
  {
   "cell_type": "code",
   "execution_count": 11,
   "id": "eb91ee57-4820-4e66-8bd4-5a15b030b10a",
   "metadata": {},
   "outputs": [],
   "source": [
    "for f in allfiles:\n",
    "    try:\n",
    "        shutil.move(source+ \"/\" + f, destination+\"/\"+f)\n",
    "    except:\n",
    "        pass"
   ]
  },
  {
   "cell_type": "code",
   "execution_count": null,
   "id": "95947a64-9128-46d5-b0a0-02e3b5850453",
   "metadata": {},
   "outputs": [],
   "source": []
  },
  {
   "cell_type": "code",
   "execution_count": 5,
   "id": "3ae69dcd-8804-45d5-9ed8-9e3706947729",
   "metadata": {},
   "outputs": [],
   "source": [
    "img_datasets_path = 'nude_notrain'\n",
    "# all_dirs = os.listdir(img_datasets_path)"
   ]
  },
  {
   "cell_type": "code",
   "execution_count": null,
   "id": "71c74a35-5b3a-4f29-9309-066225b4f1c1",
   "metadata": {},
   "outputs": [],
   "source": []
  },
  {
   "cell_type": "code",
   "execution_count": 10,
   "id": "93b96d01-1cd7-48f4-8130-1461f91b2729",
   "metadata": {},
   "outputs": [],
   "source": [
    "photos_to_delete = []\n",
    "def photo_stats(dir):\n",
    "    global count\n",
    "    all_photos = os.listdir(dir)\n",
    "    length = len(all_photos)\n",
    "    for index,photo in enumerate(all_photos):\n",
    "        img = Image.open(dir+r\"\\\\\"+photo) \n",
    "        # get width and height \n",
    "        width,height = img.size \n",
    "        if width< 128 or height<128:\n",
    "            file_path = dir+r\"\\\\\"+photo\n",
    "            photos_to_delete.append(file_path)\n",
    "            count+=1\n",
    "        print(f\"Progress: {index}/{length}\", end='\\r')\n",
    "    \n",
    "\n",
    "def delete_photos(photos_to_delete):\n",
    "    for file_path in photos_to_delete:\n",
    "        if os.path.exists(file_path):\n",
    "            os.remove(file_path)\n",
    "\n",
    "  \n"
   ]
  },
  {
   "cell_type": "code",
   "execution_count": 11,
   "id": "22bbedd1-578a-4d0a-a1d0-5a50e437b530",
   "metadata": {},
   "outputs": [],
   "source": [
    "count = 0"
   ]
  },
  {
   "cell_type": "code",
   "execution_count": 12,
   "id": "92d6b44c-87e3-4508-9073-2103f6334038",
   "metadata": {},
   "outputs": [
    {
     "name": "stdout",
     "output_type": "stream",
     "text": [
      "Progress: 268151/268152\r"
     ]
    }
   ],
   "source": [
    "photo_stats(img_datasets_path)"
   ]
  },
  {
   "cell_type": "code",
   "execution_count": 13,
   "id": "b158c317-03cd-4894-a6fa-09dbf175fc45",
   "metadata": {},
   "outputs": [
    {
     "name": "stdout",
     "output_type": "stream",
     "text": [
      "0\n"
     ]
    }
   ],
   "source": [
    "print(count)"
   ]
  },
  {
   "cell_type": "code",
   "execution_count": null,
   "id": "746e508b-ba24-4af9-a80f-f4762850eda9",
   "metadata": {},
   "outputs": [],
   "source": []
  },
  {
   "cell_type": "code",
   "execution_count": null,
   "id": "e4574dff-549c-4837-b6c8-114c46bb8cdd",
   "metadata": {},
   "outputs": [],
   "source": []
  },
  {
   "cell_type": "code",
   "execution_count": null,
   "id": "ab21c98f-a8a7-401d-807b-6a275329dcc3",
   "metadata": {},
   "outputs": [],
   "source": []
  },
  {
   "cell_type": "code",
   "execution_count": null,
   "id": "4e8d9e28-76a1-4652-b344-a38ab77ba33c",
   "metadata": {},
   "outputs": [],
   "source": [
    "for dir in all_dirs:\n",
    "    if dir == 'animals_img':\n",
    "        all_subdirs = os.listdir(img_datasets_path+dir)\n",
    "        for subdir in all_subdirs:\n",
    "            photo_stats(img_datasets_path+dir+r'\\\\'+subdir)\n",
    "    else:\n",
    "        photo_stats(img_datasets_path+dir)\n",
    "        \n",
    "        \n",
    "    "
   ]
  },
  {
   "cell_type": "code",
   "execution_count": 25,
   "id": "37a629d4-be2c-4543-ad6e-a18e831e694a",
   "metadata": {},
   "outputs": [],
   "source": [
    "photo_stats('nude_notrain')"
   ]
  },
  {
   "cell_type": "code",
   "execution_count": 27,
   "id": "f71f7f88-2993-42ef-b23e-7c407b230d62",
   "metadata": {},
   "outputs": [
    {
     "name": "stdout",
     "output_type": "stream",
     "text": [
      "0\n"
     ]
    }
   ],
   "source": [
    "print(count)"
   ]
  },
  {
   "cell_type": "code",
   "execution_count": 28,
   "id": "a8919da5-eaab-42e1-ba9d-1570b4d5ab8f",
   "metadata": {},
   "outputs": [],
   "source": [
    "delete_photos(photos_to_delete)"
   ]
  },
  {
   "cell_type": "code",
   "execution_count": 13,
   "id": "bb6c4abd-bbcf-4211-8c6f-b6688e33e1d4",
   "metadata": {},
   "outputs": [
    {
     "name": "stdout",
     "output_type": "stream",
     "text": [
      "./multiclass/nude\\\\prefix_reddit_sub_FestivalSluts_9xquy1-Lex_Zann-sxplj1vypry11.png\n",
      "./multiclass/nude\\\\prefix_reddit_sub_hentai_avwlrj-What_else__-fce6a5kyrdj21.png\n",
      "./multiclass/nude\\\\prefix_reddit_sub_moundofvenus_5ezi5u-Feel__em_Up__Babe-FkbI6ew.png\n"
     ]
    }
   ],
   "source": [
    "from struct import unpack\n",
    "from tqdm import tqdm\n",
    "import os\n",
    "    \n",
    "marker_mapping = {\n",
    "    0xffd8: \"Start of Image\",\n",
    "    0xffe0: \"Application Default Header\",\n",
    "    0xffdb: \"Quantization Table\",\n",
    "    0xffc0: \"Start of Frame\",\n",
    "    0xffc4: \"Define Huffman Table\",\n",
    "    0xffda: \"Start of Scan\",\n",
    "    0xffd9: \"End of Image\"\n",
    "}\n",
    "    \n",
    "class JPEG:\n",
    "    def __init__(self, image_file):\n",
    "        with open(image_file, 'rb') as f:\n",
    "            self.img_data = f.read()\n",
    "    \n",
    "    def decode(self):\n",
    "        data = self.img_data\n",
    "        while(True):\n",
    "            marker, = unpack(\">H\", data[0:2])\n",
    "            # print(marker_mapping.get(marker))\n",
    "            if marker == 0xffd8:\n",
    "                data = data[2:]\n",
    "            elif marker == 0xffd9:\n",
    "                return\n",
    "            elif marker == 0xffda:\n",
    "                data = data[-2:]\n",
    "            else:\n",
    "                lenchunk, = unpack(\">H\", data[2:4])\n",
    "                data = data[2+lenchunk:]            \n",
    "            if len(data)==0:\n",
    "                break        \n",
    "    \n",
    "bads = []\n",
    "\n",
    "\n",
    "      \n",
    "photos_to_delete = []\n",
    "def photo_stats(dir):\n",
    "    global count\n",
    "    all_photos = os.listdir(dir)\n",
    "    for photo in all_photos:\n",
    "        file_path = dir+r\"\\\\\"+photo\n",
    "        image = JPEG(file_path) \n",
    "        try:\n",
    "            image.decode()   \n",
    "        except:\n",
    "            bads.append(file_path)\n",
    "            print(file_path)\n",
    "            count+=1\n",
    "\n",
    "count = 0\n",
    "for dir in all_dirs:\n",
    "    if dir == 'animals_img':\n",
    "        all_subdirs = os.listdir(img_datasets_path+dir)\n",
    "        for subdir in all_subdirs:\n",
    "            photo_stats(img_datasets_path+dir+r'\\\\'+subdir)\n",
    "    else:\n",
    "        photo_stats(img_datasets_path+dir)"
   ]
  },
  {
   "cell_type": "code",
   "execution_count": 14,
   "id": "1c432898-7cc5-48a4-bdb1-6131ae57796f",
   "metadata": {},
   "outputs": [
    {
     "name": "stdout",
     "output_type": "stream",
     "text": [
      "3\n"
     ]
    }
   ],
   "source": [
    "print(count)"
   ]
  },
  {
   "cell_type": "code",
   "execution_count": 15,
   "id": "cbffe4f8-102c-426f-965d-793f566d2c8f",
   "metadata": {},
   "outputs": [],
   "source": [
    "delete_photos(bads)"
   ]
  },
  {
   "cell_type": "code",
   "execution_count": null,
   "id": "c0b49254-374f-46a7-8388-d1e95dd7a710",
   "metadata": {},
   "outputs": [],
   "source": []
  }
 ],
 "metadata": {
  "kernelspec": {
   "display_name": "Python 3 (ipykernel)",
   "language": "python",
   "name": "python3"
  },
  "language_info": {
   "codemirror_mode": {
    "name": "ipython",
    "version": 3
   },
   "file_extension": ".py",
   "mimetype": "text/x-python",
   "name": "python",
   "nbconvert_exporter": "python",
   "pygments_lexer": "ipython3",
   "version": "3.9.21"
  }
 },
 "nbformat": 4,
 "nbformat_minor": 5
}
