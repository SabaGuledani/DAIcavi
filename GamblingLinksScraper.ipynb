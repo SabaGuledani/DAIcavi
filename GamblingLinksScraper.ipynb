{
 "cells": [
  {
   "cell_type": "code",
   "execution_count": 21,
   "id": "f838ab11-3b88-4cc0-a0a4-a8e710369f1d",
   "metadata": {},
   "outputs": [],
   "source": [
    "import time\n",
    "import random\n",
    "import pandas as pd\n",
    "import sqlite3\n",
    "import requests\n",
    "from selenium import webdriver as wd\n",
    "from selenium.webdriver.firefox.options import Options\n",
    "from selenium.webdriver.common.keys import Keys\n",
    "from selenium.webdriver.common.action_chains import ActionChains\n",
    "from selenium.webdriver.common.by import By\n",
    "from selenium.webdriver.support.ui import WebDriverWait\n",
    "from selenium.webdriver.support import expected_conditions as EC\n",
    "from bs4 import BeautifulSoup"
   ]
  },
  {
   "cell_type": "code",
   "execution_count": 2,
   "id": "72a09408-a196-4bee-9b99-7fa32b33a0ca",
   "metadata": {},
   "outputs": [],
   "source": [
    "def r():\n",
    "    return random.randint(0,150)/100\n",
    "def r_till(from_,to):\n",
    "    return random.randint(from_,to)/100"
   ]
  },
  {
   "cell_type": "code",
   "execution_count": 3,
   "id": "808ebe10-65bd-4595-99bb-6850b3502e82",
   "metadata": {},
   "outputs": [],
   "source": [
    "all_links = []"
   ]
  },
  {
   "cell_type": "code",
   "execution_count": null,
   "id": "7666f7ce-80ad-4aea-be2e-a730192523f0",
   "metadata": {},
   "outputs": [],
   "source": []
  },
  {
   "cell_type": "code",
   "execution_count": 22,
   "id": "a5dfbb0b-5e14-490a-9d77-a112e454b3ce",
   "metadata": {},
   "outputs": [
    {
     "ename": "WebDriverException",
     "evalue": "Message: Failed to decode response from marionette\n",
     "output_type": "error",
     "traceback": [
      "\u001b[1;31m---------------------------------------------------------------------------\u001b[0m",
      "\u001b[1;31mWebDriverException\u001b[0m                        Traceback (most recent call last)",
      "Cell \u001b[1;32mIn[22], line 44\u001b[0m\n\u001b[0;32m     42\u001b[0m wd\u001b[38;5;241m.\u001b[39mexecute_script(\u001b[38;5;124m'\u001b[39m\u001b[38;5;124mwindow.scrollTo(0,3900)\u001b[39m\u001b[38;5;124m'\u001b[39m)\n\u001b[0;32m     43\u001b[0m time\u001b[38;5;241m.\u001b[39msleep(r_till(\u001b[38;5;241m300\u001b[39m,\u001b[38;5;241m700\u001b[39m))\n\u001b[1;32m---> 44\u001b[0m \u001b[43mwd\u001b[49m\u001b[38;5;241;43m.\u001b[39;49m\u001b[43mexecute_script\u001b[49m\u001b[43m(\u001b[49m\u001b[38;5;124;43m'\u001b[39;49m\u001b[38;5;124;43mwindow.scrollTo(0,3900)\u001b[39;49m\u001b[38;5;124;43m'\u001b[39;49m\u001b[43m)\u001b[49m\n\u001b[0;32m     45\u001b[0m time\u001b[38;5;241m.\u001b[39msleep(r_till(\u001b[38;5;241m150\u001b[39m,\u001b[38;5;241m400\u001b[39m))\n\u001b[0;32m     46\u001b[0m lu_page_select \u001b[38;5;241m=\u001b[39m wd\u001b[38;5;241m.\u001b[39mfind_element(By\u001b[38;5;241m.\u001b[39mCSS_SELECTOR,\u001b[38;5;124m'\u001b[39m\u001b[38;5;124mul.m-0\u001b[39m\u001b[38;5;124m'\u001b[39m)\n",
      "File \u001b[1;32m~\\.conda\\envs\\AI\\lib\\site-packages\\selenium\\webdriver\\remote\\webdriver.py:407\u001b[0m, in \u001b[0;36mWebDriver.execute_script\u001b[1;34m(self, script, *args)\u001b[0m\n\u001b[0;32m    404\u001b[0m converted_args \u001b[38;5;241m=\u001b[39m \u001b[38;5;28mlist\u001b[39m(args)\n\u001b[0;32m    405\u001b[0m command \u001b[38;5;241m=\u001b[39m Command\u001b[38;5;241m.\u001b[39mW3C_EXECUTE_SCRIPT\n\u001b[1;32m--> 407\u001b[0m \u001b[38;5;28;01mreturn\u001b[39;00m \u001b[38;5;28;43mself\u001b[39;49m\u001b[38;5;241;43m.\u001b[39;49m\u001b[43mexecute\u001b[49m\u001b[43m(\u001b[49m\u001b[43mcommand\u001b[49m\u001b[43m,\u001b[49m\u001b[43m \u001b[49m\u001b[43m{\u001b[49m\u001b[38;5;124;43m\"\u001b[39;49m\u001b[38;5;124;43mscript\u001b[39;49m\u001b[38;5;124;43m\"\u001b[39;49m\u001b[43m:\u001b[49m\u001b[43m \u001b[49m\u001b[43mscript\u001b[49m\u001b[43m,\u001b[49m\u001b[43m \u001b[49m\u001b[38;5;124;43m\"\u001b[39;49m\u001b[38;5;124;43margs\u001b[39;49m\u001b[38;5;124;43m\"\u001b[39;49m\u001b[43m:\u001b[49m\u001b[43m \u001b[49m\u001b[43mconverted_args\u001b[49m\u001b[43m}\u001b[49m\u001b[43m)\u001b[49m[\u001b[38;5;124m\"\u001b[39m\u001b[38;5;124mvalue\u001b[39m\u001b[38;5;124m\"\u001b[39m]\n",
      "File \u001b[1;32m~\\.conda\\envs\\AI\\lib\\site-packages\\selenium\\webdriver\\remote\\webdriver.py:347\u001b[0m, in \u001b[0;36mWebDriver.execute\u001b[1;34m(self, driver_command, params)\u001b[0m\n\u001b[0;32m    345\u001b[0m response \u001b[38;5;241m=\u001b[39m \u001b[38;5;28mself\u001b[39m\u001b[38;5;241m.\u001b[39mcommand_executor\u001b[38;5;241m.\u001b[39mexecute(driver_command, params)\n\u001b[0;32m    346\u001b[0m \u001b[38;5;28;01mif\u001b[39;00m response:\n\u001b[1;32m--> 347\u001b[0m     \u001b[38;5;28;43mself\u001b[39;49m\u001b[38;5;241;43m.\u001b[39;49m\u001b[43merror_handler\u001b[49m\u001b[38;5;241;43m.\u001b[39;49m\u001b[43mcheck_response\u001b[49m\u001b[43m(\u001b[49m\u001b[43mresponse\u001b[49m\u001b[43m)\u001b[49m\n\u001b[0;32m    348\u001b[0m     response[\u001b[38;5;124m\"\u001b[39m\u001b[38;5;124mvalue\u001b[39m\u001b[38;5;124m\"\u001b[39m] \u001b[38;5;241m=\u001b[39m \u001b[38;5;28mself\u001b[39m\u001b[38;5;241m.\u001b[39m_unwrap_value(response\u001b[38;5;241m.\u001b[39mget(\u001b[38;5;124m\"\u001b[39m\u001b[38;5;124mvalue\u001b[39m\u001b[38;5;124m\"\u001b[39m, \u001b[38;5;28;01mNone\u001b[39;00m))\n\u001b[0;32m    349\u001b[0m     \u001b[38;5;28;01mreturn\u001b[39;00m response\n",
      "File \u001b[1;32m~\\.conda\\envs\\AI\\lib\\site-packages\\selenium\\webdriver\\remote\\errorhandler.py:229\u001b[0m, in \u001b[0;36mErrorHandler.check_response\u001b[1;34m(self, response)\u001b[0m\n\u001b[0;32m    227\u001b[0m         alert_text \u001b[38;5;241m=\u001b[39m value[\u001b[38;5;124m\"\u001b[39m\u001b[38;5;124malert\u001b[39m\u001b[38;5;124m\"\u001b[39m]\u001b[38;5;241m.\u001b[39mget(\u001b[38;5;124m\"\u001b[39m\u001b[38;5;124mtext\u001b[39m\u001b[38;5;124m\"\u001b[39m)\n\u001b[0;32m    228\u001b[0m     \u001b[38;5;28;01mraise\u001b[39;00m exception_class(message, screen, stacktrace, alert_text)  \u001b[38;5;66;03m# type: ignore[call-arg]  # mypy is not smart enough here\u001b[39;00m\n\u001b[1;32m--> 229\u001b[0m \u001b[38;5;28;01mraise\u001b[39;00m exception_class(message, screen, stacktrace)\n",
      "\u001b[1;31mWebDriverException\u001b[0m: Message: Failed to decode response from marionette\n"
     ]
    }
   ],
   "source": [
    "# options = Options()\n",
    "# options.headless = True\n",
    "mr_gamble_url = 'https://mr-gamble.com/en/online-casino/top/'\n",
    "\n",
    "wd = wd.Firefox()\n",
    "wd.implicitly_wait(7)\n",
    "\n",
    "wd.get(mr_gamble_url)\n",
    "\n",
    "wd.maximize_window()\n",
    "\n",
    "for section_idx in range(6,11):\n",
    "    time.sleep(r())\n",
    "    links_elem = wd.find_element(By.CSS_SELECTOR,'.sidebarNavigation__list')\n",
    "    time.sleep(r())\n",
    "    wd.execute_script('window.scrollTo(0,300)')\n",
    "    links_list = links_elem.find_elements(By.TAG_NAME,'li')\n",
    "    time.sleep(r())\n",
    "    links_list[section_idx].click()\n",
    "    time.sleep(r())\n",
    "\n",
    "    elem = WebDriverWait(wd, 15).until(\n",
    "        EC.presence_of_element_located((By.CSS_SELECTOR, '.header_logo > a:nth-child(1) > img:nth-child(1)')) #This is a dummy element\n",
    "        )\n",
    "    \n",
    "    while True:\n",
    "        html_content = wd.page_source\n",
    "        soup = BeautifulSoup(html_content,'html.parser')\n",
    "\n",
    "        btns_list = soup.find_all('a',{'class':\"btnCTA__regular\"})\n",
    "        \n",
    "        for btn_idx in range(len(btns_list)):\n",
    "            casino_link = btns_list[btn_idx][\"href\"]\n",
    "            \n",
    "            if casino_link[:5] == 'https':\n",
    "                all_links.append(casino_link)\n",
    "                \n",
    "                f = open(\"casino_links.txt\", \"a\")\n",
    "                f.writelines([casino_link+'\\n'])\n",
    "                f.close()\n",
    "                \n",
    "        wd.execute_script('window.scrollTo(0,3900)')\n",
    "        time.sleep(r_till(300,700))\n",
    "        wd.execute_script('window.scrollTo(0,3900)')\n",
    "        time.sleep(r_till(150,400))\n",
    "        lu_page_select = wd.find_element(By.CSS_SELECTOR,'ul.m-0')\n",
    "        time.sleep(r())\n",
    "        try:\n",
    "            next_page = lu_page_select.find_elements(By.TAG_NAME,\"svg\")\n",
    "            time.sleep(r())\n",
    "            next_page[-1].click()\n",
    "            time.sleep(r_till(400,800))\n",
    "        except:\n",
    "            break"
   ]
  },
  {
   "cell_type": "code",
   "execution_count": 9,
   "id": "c058b580-f76d-4b0f-bbc6-ac91e9b04b62",
   "metadata": {},
   "outputs": [],
   "source": [
    "mr_gamble_url = 'https://mr-gamble.com/en/online-casino/top/'\n",
    "\n",
    "wd = wd.Firefox()\n",
    "wd.implicitly_wait(7)\n",
    "\n",
    "wd.get(mr_gamble_url)\n",
    "\n",
    "wd.maximize_window()\n"
   ]
  },
  {
   "cell_type": "code",
   "execution_count": 18,
   "id": "bb5fe79d-38ed-47a1-bcf1-40e5b1cb9bcb",
   "metadata": {},
   "outputs": [],
   "source": [
    "wd.execute_script('window.scrollTo(0,3900)')\n",
    "time.sleep(r_till(300,1000))\n",
    "wd.execute_script('window.scrollTo(0,3900)')\n",
    "time.sleep(r_till(150,400))\n",
    "lu_page_select = wd.find_element(By.CSS_SELECTOR,'ul.m-0')\n",
    "time.sleep(r())"
   ]
  },
  {
   "cell_type": "code",
   "execution_count": 17,
   "id": "2a8de313-11da-48ba-82eb-5b60acff785c",
   "metadata": {},
   "outputs": [],
   "source": [
    "next_page = lu_page_select.find_elements(By.TAG_NAME,\"svg\")\n",
    "time.sleep(r())\n",
    "next_page[-1].click()"
   ]
  },
  {
   "cell_type": "code",
   "execution_count": 24,
   "id": "7c406293-1f2f-4c72-b121-7eece4506d83",
   "metadata": {},
   "outputs": [
    {
     "data": {
      "text/plain": [
       "506"
      ]
     },
     "execution_count": 24,
     "metadata": {},
     "output_type": "execute_result"
    }
   ],
   "source": [
    "len(set(all_links))"
   ]
  },
  {
   "cell_type": "code",
   "execution_count": 23,
   "id": "78f9ba78-13bb-419f-9162-b0f4baa19861",
   "metadata": {},
   "outputs": [
    {
     "data": {
      "text/plain": [
       "2553"
      ]
     },
     "execution_count": 23,
     "metadata": {},
     "output_type": "execute_result"
    }
   ],
   "source": [
    "len(all_links)"
   ]
  },
  {
   "cell_type": "code",
   "execution_count": 31,
   "id": "c573db2f-9d70-4ac9-ab5f-147a2a7cc252",
   "metadata": {},
   "outputs": [],
   "source": [
    "with open(\"casino_links.txt\", \"r\") as f:\n",
    "    link_list_txt = f.readlines()\n",
    "    link_list_txt_replaced = []\n",
    "    for link in link_list_txt:\n",
    "        link_list_txt_replaced.append(link.replace(\"\\n\", ''))"
   ]
  },
  {
   "cell_type": "code",
   "execution_count": 34,
   "id": "274ca7cb-565a-43be-9673-b86b26511c87",
   "metadata": {},
   "outputs": [],
   "source": [
    "link_list_txt_replaced_unique = list(set(link_list_txt_replaced))"
   ]
  },
  {
   "cell_type": "code",
   "execution_count": 37,
   "id": "62f5b00a-3721-480e-b637-e0ba70f21203",
   "metadata": {},
   "outputs": [],
   "source": [
    "for line in link_list_txt_replaced_unique:\n",
    "    with open('casino_links_unique.txt',\"a\") as f:\n",
    "        f.write(f\"{line}\\n\")"
   ]
  }
 ],
 "metadata": {
  "kernelspec": {
   "display_name": "Python 3 (ipykernel)",
   "language": "python",
   "name": "python3"
  },
  "language_info": {
   "codemirror_mode": {
    "name": "ipython",
    "version": 3
   },
   "file_extension": ".py",
   "mimetype": "text/x-python",
   "name": "python",
   "nbconvert_exporter": "python",
   "pygments_lexer": "ipython3",
   "version": "3.9.18"
  }
 },
 "nbformat": 4,
 "nbformat_minor": 5
}
