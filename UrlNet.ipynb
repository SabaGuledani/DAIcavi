{
 "cells": [
  {
   "cell_type": "code",
   "execution_count": 131,
   "id": "c0a38068-d7f9-4899-b84a-c113be987162",
   "metadata": {},
   "outputs": [
    {
     "name": "stdout",
     "output_type": "stream",
     "text": [
      "Num GPUs Available:  0\n"
     ]
    }
   ],
   "source": [
    "from collections import Counter\n",
    "import numpy as np\n",
    "import os\n",
    "import sqlite3\n",
    "import pandas as pd\n",
    "import matplotlib.pyplot as plt\n",
    "import tensorflow as tf\n",
    "import cv2\n",
    "from sklearn.metrics import f1_score, precision_score, recall_score,confusion_matrix,ConfusionMatrixDisplay\n",
    "from tensorflow.keras.layers import Input, Dense,Concatenate, Activation, ZeroPadding2D, BatchNormalization, Flatten, Conv2D, MaxPooling2D,Dropout, Add,Embedding\n",
    "from keras.models import Model, load_model\n",
    "from tensorflow.keras import layers\n",
    "from tensorflow.keras.preprocessing.text import Tokenizer\n",
    "from tensorflow.keras.preprocessing.sequence import pad_sequences\n",
    "from tensorflow.keras.callbacks import EarlyStopping\n",
    "\n",
    "print(\"Num GPUs Available: \", len(tf.config.list_physical_devices('GPU')))"
   ]
  },
  {
   "cell_type": "code",
   "execution_count": 76,
   "id": "1a5a2a6d-88b5-41f5-a4a6-96646dd58c67",
   "metadata": {},
   "outputs": [],
   "source": [
    "MAX_URL_LEN_CHAR = 200\n",
    "MAX_URL_LEN_WORD = 200\n",
    "MAX_WORD_LEN = 20\n",
    "k = 32\n",
    "num_filters = 256"
   ]
  },
  {
   "cell_type": "code",
   "execution_count": 14,
   "id": "02b8a87e-c42e-4ad0-8682-ce6688cbe99c",
   "metadata": {},
   "outputs": [],
   "source": [
    "conn = sqlite3.connect('casino.db')\n",
    "\n",
    "df = pd.read_sql('select * from web_pages',conn)\n",
    "df.drop(columns=[\"id\",\"url\",\"html\",\"screenshot\"],inplace=True)"
   ]
  },
  {
   "cell_type": "code",
   "execution_count": 16,
   "id": "89c73e39-9cae-40c0-b05a-b205b31efbad",
   "metadata": {},
   "outputs": [],
   "source": [
    "urls = df.real_url.values"
   ]
  },
  {
   "cell_type": "code",
   "execution_count": 18,
   "id": "e18de09a-415d-4d30-b0a6-057eff8abd8d",
   "metadata": {},
   "outputs": [
    {
     "data": {
      "text/plain": [
       "'https://bc.game/?stag=6954_666ec6ad9782f44562dc5ce0&i=4cxse6dr&utm_source=4cxse6dr'"
      ]
     },
     "execution_count": 18,
     "metadata": {},
     "output_type": "execute_result"
    }
   ],
   "source": [
    "urls[0]"
   ]
  },
  {
   "cell_type": "markdown",
   "id": "837e796c-0b9f-40c4-a47b-841d60632495",
   "metadata": {},
   "source": [
    "# Character level CNN"
   ]
  },
  {
   "cell_type": "markdown",
   "id": "f4e3173b-2739-48cf-81bc-819eb9845db7",
   "metadata": {},
   "source": [
    "## Character level tokenizer"
   ]
  },
  {
   "cell_type": "code",
   "execution_count": 72,
   "id": "d7d18123-a974-4f05-bb47-b501662d7928",
   "metadata": {},
   "outputs": [],
   "source": [
    "# Character tokenization\n",
    "char_tokenizer = Tokenizer(char_level=True, oov_token='<OOV>')\n",
    "char_tokenizer.fit_on_texts(urls)\n",
    "\n",
    "char_sequences = char_tokenizer.texts_to_sequences(urls)\n",
    "char_padded = pad_sequences(char_sequences, maxlen=200, padding='post')"
   ]
  },
  {
   "cell_type": "code",
   "execution_count": 73,
   "id": "013a8743-2ad8-4b80-b175-e654340c6662",
   "metadata": {},
   "outputs": [
    {
     "name": "stdout",
     "output_type": "stream",
     "text": [
      "input shape: 200\n"
     ]
    }
   ],
   "source": [
    "input_shape = char_padded.shape[1]\n",
    "print(f'input shape: {input_shape}')"
   ]
  },
  {
   "cell_type": "markdown",
   "id": "c74be879-6950-4b58-8cb7-476c8a46a126",
   "metadata": {},
   "source": [
    "### Character embedding"
   ]
  },
  {
   "cell_type": "code",
   "execution_count": null,
   "id": "61540b00-775d-454d-bc19-0c8d15870246",
   "metadata": {},
   "outputs": [],
   "source": [
    "char_input = Input(shape=(MAX_URL_LEN_CHAR,))\n",
    "\n",
    "# Embedding layer\n",
    "char_embedding = Embedding(input_dim=len(char_tokenizer.word_index) + 1, output_dim=k, input_length=MAX_URL_LEN_CHAR)(char_input)\n",
    "char_embedding = tf.expand_dims(char_embedding, -1)  # Add channel dimension"
   ]
  },
  {
   "cell_type": "markdown",
   "id": "e5bc5240-1a1f-4970-bc31-daf77f09f632",
   "metadata": {},
   "source": [
    "### CNN Block"
   ]
  },
  {
   "cell_type": "code",
   "execution_count": null,
   "id": "09304aab-616f-4e73-b7c1-94c3afa40c80",
   "metadata": {},
   "outputs": [],
   "source": [
    "# Convolution and pooling for character-level\n",
    "# h = 3\n",
    "conv_3_char = Conv2D(num_filters, (3, k), activation='relu')(char_embedding)\n",
    "conv_3_char = MaxPooling2D((2, 1), strides=(2, 1))(conv_3_char)\n",
    "# h = 4\n",
    "conv_4_char = Conv2D(num_filters, (4, k), activation='relu')(char_embedding)\n",
    "conv_4_char = MaxPooling2D((2, 1), strides=(2, 1))(conv_4_char)\n",
    "# h = 5\n",
    "conv_5_char = Conv2D(num_filters, (5, k), activation='relu')(char_embedding)\n",
    "conv_5_char = MaxPooling2D((2, 1), strides=(2, 1))(conv_5_char)\n",
    "# h = 6\n",
    "conv_6_char = Conv2D(num_filters, (6, k), activation='relu')(char_embedding)\n",
    "conv_6_char = MaxPooling2D((2, 1), strides=(2, 1))(conv_6_char)"
   ]
  },
  {
   "cell_type": "markdown",
   "id": "327cf171-b6ac-469d-96c0-1a0cfc727537",
   "metadata": {},
   "source": [
    "### Fully connected layer"
   ]
  },
  {
   "cell_type": "code",
   "execution_count": 88,
   "id": "83263576-ddc6-4ee2-9d81-6274fc249abd",
   "metadata": {},
   "outputs": [],
   "source": [
    "#concatenate all convolutional layer outputs\n",
    "concatenated = Concatenate(axis=1)([conv_3_char,conv_4_char,conv_5_char,conv_6_char])\n",
    "flattened = Flatten()(concatenated)\n",
    "\n",
    "# feed concatenated conv layers to fully conected layer\n",
    "dense_char = Dense(1024,activation='relu')(flattened)\n",
    "dropout = Dropout(0.5)(dense_char)"
   ]
  },
  {
   "cell_type": "markdown",
   "id": "9de878ba-24e2-4a1f-971f-707e1217e7ee",
   "metadata": {},
   "source": [
    "# Word-level CNN"
   ]
  },
  {
   "cell_type": "markdown",
   "id": "ebab3535-0a29-4902-b327-35b19734fec8",
   "metadata": {},
   "source": [
    "### Word level tokenizer"
   ]
  },
  {
   "cell_type": "code",
   "execution_count": 99,
   "id": "eb068c41-f904-4a2e-8a79-8731125e992c",
   "metadata": {},
   "outputs": [],
   "source": [
    "# Word tokenization\n",
    "word_tokenizer = Tokenizer(oov_token='<OOV>')\n",
    "word_tokenizer.fit_on_texts(urls)\n",
    "\n",
    "word_sequences = word_tokenizer.texts_to_sequences(urls)"
   ]
  },
  {
   "cell_type": "markdown",
   "id": "4290ba02-e7e2-4bde-bf56-bb469f3510aa",
   "metadata": {},
   "source": [
    "#### Calculate number of words which appear more than once"
   ]
  },
  {
   "cell_type": "code",
   "execution_count": 176,
   "id": "94b69ef8-199b-424e-96e3-329d68eba74d",
   "metadata": {},
   "outputs": [
    {
     "name": "stdout",
     "output_type": "stream",
     "text": [
      "315\n"
     ]
    }
   ],
   "source": [
    "all_sequences = [sequence for sequence in word_tokenizer.sequences_to_texts(word_sequences)]\n",
    "all_words_concat = ' '.join([' '.join(sequence.split()) for sequence in all_sequences])\n",
    "\n",
    "freq_dict_words = Counter(all_words_concat.split())\n",
    "\n",
    "low_freq_words_count = 0\n",
    "for key in freq_dict_words:\n",
    "    if freq_dict_words[key] == 1:\n",
    "        low_freq_words_count += 1\n",
    "\n",
    "high_freq_word_count = int(len(freq_dict_words) * (1-(low_freq_words_count/len(freq_dict_words))))\n",
    "print(high_freq_word_count)"
   ]
  },
  {
   "cell_type": "code",
   "execution_count": 179,
   "id": "a35f414d-bc47-459b-bf09-279c9742ba93",
   "metadata": {},
   "outputs": [
    {
     "name": "stdout",
     "output_type": "stream",
     "text": [
      "1861\n"
     ]
    }
   ],
   "source": []
  },
  {
   "cell_type": "markdown",
   "id": "c6287bae-e6a6-44e0-a536-7dc684628db2",
   "metadata": {},
   "source": [
    "#### Url into sequence of word ids"
   ]
  },
  {
   "cell_type": "code",
   "execution_count": null,
   "id": "812ece37-a581-4d93-acb1-078859ccc485",
   "metadata": {},
   "outputs": [],
   "source": [
    "# reinstaniate tokenizer\n",
    "word_tokenizer = Tokenizer(oov_token='<OOV>',num_words=high_freq_word_count)\n",
    "word_tokenizer.fit_on_texts(urls)\n",
    "print(len(word_tokenizer.word_counts))\n",
    "\n",
    "word_sequences = word_tokenizer.texts_to_sequences(urls)\n",
    "word_padded = pad_sequences(word_sequences, maxlen=MAX_URL_LEN_WORD, padding='post')"
   ]
  },
  {
   "cell_type": "code",
   "execution_count": 297,
   "id": "3d63ae5b-2a9b-4b79-8a54-b7d429757bad",
   "metadata": {},
   "outputs": [],
   "source": []
  },
  {
   "cell_type": "code",
   "execution_count": null,
   "id": "b4767959-b8a0-4e28-9d49-a4e88665aa32",
   "metadata": {},
   "outputs": [],
   "source": []
  },
  {
   "cell_type": "code",
   "execution_count": null,
   "id": "458bffa7-5d16-498d-9362-7b5e3f01da82",
   "metadata": {},
   "outputs": [],
   "source": []
  },
  {
   "cell_type": "markdown",
   "id": "6a874340-7168-43c9-8e5a-6299e9189594",
   "metadata": {},
   "source": [
    "#### url into sequence of words in char ids "
   ]
  },
  {
   "cell_type": "code",
   "execution_count": null,
   "id": "baa0f89a-02a8-4967-a7aa-142eb4f7b48e",
   "metadata": {},
   "outputs": [],
   "source": [
    "word_tokenizer_for_chars = Tokenizer(oov_token='<OOV>')\n",
    "word_tokenizer_for_chars.fit_on_texts(urls)\n",
    "\n",
    "sentences_to_sequences = word_tokenizer_for_chars.texts_to_sequences(urls)\n",
    "sentences_padded = pad_sequences(sentences_to_sequences,maxlen=MAX_URL_LEN_WORD,padding='post')\n",
    "words_splitted = word_tokenizer_for_chars.sequences_to_texts(sentences_padded)\n",
    "\n",
    "words_splitted = [sentence.split() for sentence in words_splitted]\n",
    "words_splitted = [[word.split() for word in sentence] for sentence in words_splitted]\n",
    "\n",
    "word_char_sequences = []\n",
    "\n",
    "for sentence in words_splitted:\n",
    "    sentence_tokenized = []\n",
    "    for i in range(len(sentence)):\n",
    "        word = char_tokenizer_for_words.texts_to_sequences(sentence[i])\n",
    "        word_char_padded = pad_sequences(word,maxlen=MAX_WORD_LEN,padding='post')\n",
    "        sentence_tokenized.append(word_char_padded)\n",
    "    word_char_sequences.append(sentence_tokenized)\n",
    "\n",
    "word_char_sequences = np.array(word_char_sequences)"
   ]
  },
  {
   "cell_type": "code",
   "execution_count": null,
   "id": "ac740277-d74f-42c2-b5ec-8c004d6c0c68",
   "metadata": {},
   "outputs": [],
   "source": []
  },
  {
   "cell_type": "code",
   "execution_count": null,
   "id": "1d9b4cf7-59cf-43bd-9fc0-cf325cd0408a",
   "metadata": {},
   "outputs": [],
   "source": []
  },
  {
   "cell_type": "code",
   "execution_count": null,
   "id": "6557c24d-c25b-443d-aa53-7b396ce61fa0",
   "metadata": {},
   "outputs": [],
   "source": []
  },
  {
   "cell_type": "markdown",
   "id": "84ed5e13-8e51-49e9-9fc0-8a6bd18f1733",
   "metadata": {},
   "source": [
    "##### word embedding"
   ]
  },
  {
   "cell_type": "code",
   "execution_count": null,
   "id": "ee2a87e9-0061-4b28-89d8-f587b1072ee5",
   "metadata": {},
   "outputs": [],
   "source": [
    "char_input = Input(shape=(MAX_URL_LEN_CHAR,))\n",
    "\n",
    "# Embedding layer\n",
    "char_embedding = Embedding(input_dim=len(char_tokenizer.word_index) + 1, output_dim=k, input_length=MAX_URL_LEN_CHAR)(char_input)\n",
    "char_embedding = tf.expand_dims(char_embedding, -1)  # Add channel dimension"
   ]
  },
  {
   "cell_type": "code",
   "execution_count": null,
   "id": "0e5022c4-3d34-4f01-868d-8e40a18c558a",
   "metadata": {},
   "outputs": [],
   "source": []
  },
  {
   "cell_type": "code",
   "execution_count": null,
   "id": "65047506-68aa-4298-b3ff-a33b12b5f3ca",
   "metadata": {},
   "outputs": [],
   "source": []
  },
  {
   "cell_type": "markdown",
   "id": "13c36b41-0923-4fd9-a689-5647ac5d3035",
   "metadata": {},
   "source": [
    "##### char embedding 2"
   ]
  },
  {
   "cell_type": "code",
   "execution_count": null,
   "id": "f40d8bc1-9d92-4348-ad7f-951306206316",
   "metadata": {},
   "outputs": [],
   "source": []
  },
  {
   "cell_type": "code",
   "execution_count": null,
   "id": "07073824-c1b5-4a46-97cf-80ce8c2f82e9",
   "metadata": {},
   "outputs": [],
   "source": []
  },
  {
   "cell_type": "code",
   "execution_count": null,
   "id": "5c9dfb91-84c8-4f7d-bc41-be6498ea9414",
   "metadata": {},
   "outputs": [],
   "source": []
  },
  {
   "cell_type": "markdown",
   "id": "7a7c0756-aee1-4a54-a1f6-9f1c653fa517",
   "metadata": {},
   "source": [
    "##### Sum over characters"
   ]
  },
  {
   "cell_type": "code",
   "execution_count": null,
   "id": "39bcff9a-b91e-4115-aa68-55567725db04",
   "metadata": {},
   "outputs": [],
   "source": []
  },
  {
   "cell_type": "code",
   "execution_count": null,
   "id": "900b1a97-3287-4ebb-8ac6-d071190c7f51",
   "metadata": {},
   "outputs": [],
   "source": []
  },
  {
   "cell_type": "code",
   "execution_count": null,
   "id": "eae1d46a-9d87-4a6d-bd7d-f4651d6cc66f",
   "metadata": {},
   "outputs": [],
   "source": []
  },
  {
   "cell_type": "markdown",
   "id": "8d1e6593-44e7-457a-8518-d4053b1e95d7",
   "metadata": {},
   "source": [
    "#### Element-wise Addition"
   ]
  },
  {
   "cell_type": "code",
   "execution_count": null,
   "id": "70647042-c576-4d73-a11a-ef44ed6f5396",
   "metadata": {},
   "outputs": [],
   "source": []
  },
  {
   "cell_type": "markdown",
   "id": "a315cd81-7ce6-4ba7-a08c-720deaf0e572",
   "metadata": {},
   "source": [
    "## CNN Block"
   ]
  },
  {
   "cell_type": "code",
   "execution_count": null,
   "id": "1f273801-80ae-4f8b-a88b-f852554a5616",
   "metadata": {},
   "outputs": [],
   "source": []
  },
  {
   "cell_type": "code",
   "execution_count": null,
   "id": "f7e05fc5-38b2-4c71-a363-aa2f30999a0e",
   "metadata": {},
   "outputs": [],
   "source": []
  },
  {
   "cell_type": "code",
   "execution_count": null,
   "id": "75156a50-04f9-4e72-a8b6-3cdacdac09e1",
   "metadata": {},
   "outputs": [],
   "source": []
  },
  {
   "cell_type": "code",
   "execution_count": null,
   "id": "b9d4ccd7-35b6-4cea-93eb-5be969c0bd56",
   "metadata": {},
   "outputs": [],
   "source": []
  },
  {
   "cell_type": "code",
   "execution_count": null,
   "id": "2b53796c-c105-460d-a9d4-fc75a62538b2",
   "metadata": {},
   "outputs": [],
   "source": []
  },
  {
   "cell_type": "code",
   "execution_count": null,
   "id": "4e9d3e43-b47c-4301-b173-99beeeb81ae8",
   "metadata": {},
   "outputs": [],
   "source": []
  },
  {
   "cell_type": "code",
   "execution_count": null,
   "id": "9b353682-c339-4c63-9b9e-d87e88401b72",
   "metadata": {},
   "outputs": [],
   "source": []
  },
  {
   "cell_type": "code",
   "execution_count": null,
   "id": "9e3f5be8-ed52-4135-b32c-533388f90c2b",
   "metadata": {},
   "outputs": [],
   "source": []
  },
  {
   "cell_type": "code",
   "execution_count": null,
   "id": "b2a05349-e225-4e28-8e28-eac4ef530706",
   "metadata": {},
   "outputs": [],
   "source": []
  },
  {
   "cell_type": "code",
   "execution_count": null,
   "id": "d9dc8bed-d1fa-41ab-af42-8222772ba44a",
   "metadata": {},
   "outputs": [],
   "source": []
  },
  {
   "cell_type": "code",
   "execution_count": null,
   "id": "5741ba51-a4f0-44ad-9922-0e04d69c3d00",
   "metadata": {},
   "outputs": [],
   "source": [
    "\n",
    "\n",
    "\n",
    "\n",
    "\n",
    "print(\"Character Padded Sequences:\")\n",
    "print(char_padded)\n",
    "print(\"\\nWord Padded Sequences:\")\n",
    "print(word_padded)\n",
    "print(\"\\nWord-Character Padded Sequences:\")\n",
    "print(word_char_padded)\n"
   ]
  },
  {
   "cell_type": "code",
   "execution_count": null,
   "id": "d9d5ca73-39fb-4fed-bfef-545bdb613cdf",
   "metadata": {},
   "outputs": [],
   "source": []
  },
  {
   "cell_type": "code",
   "execution_count": null,
   "id": "ad163768-468f-421a-b63e-e6d8a23d09da",
   "metadata": {},
   "outputs": [],
   "source": []
  },
  {
   "cell_type": "code",
   "execution_count": null,
   "id": "1bc1964c-fdf1-4cee-b397-74af56b3aee6",
   "metadata": {},
   "outputs": [],
   "source": []
  },
  {
   "cell_type": "code",
   "execution_count": null,
   "id": "145851fd-9ac0-49e2-b46c-feab5f40f4d3",
   "metadata": {},
   "outputs": [],
   "source": []
  },
  {
   "cell_type": "code",
   "execution_count": null,
   "id": "c6a10cc0-bf3c-4ee2-8da7-4652d46a9e33",
   "metadata": {},
   "outputs": [],
   "source": []
  },
  {
   "cell_type": "code",
   "execution_count": null,
   "id": "81d1e686-c3a6-438f-9a28-630f32889809",
   "metadata": {},
   "outputs": [],
   "source": []
  },
  {
   "cell_type": "code",
   "execution_count": null,
   "id": "0ad3096c-b847-4a59-a1ed-b7495445f45d",
   "metadata": {},
   "outputs": [],
   "source": []
  },
  {
   "cell_type": "code",
   "execution_count": null,
   "id": "c4a41c9d-b15b-4c80-ae47-73b1e2c8c7e4",
   "metadata": {},
   "outputs": [],
   "source": []
  },
  {
   "cell_type": "code",
   "execution_count": null,
   "id": "51189434-9019-43bf-9be0-a8c7276c09cb",
   "metadata": {},
   "outputs": [],
   "source": []
  },
  {
   "cell_type": "code",
   "execution_count": null,
   "id": "c102adaf-d881-4d10-b4ab-7f5814d72dc2",
   "metadata": {},
   "outputs": [],
   "source": []
  },
  {
   "cell_type": "code",
   "execution_count": null,
   "id": "1d913b2b-eade-4186-9be5-4fc2e8110445",
   "metadata": {},
   "outputs": [],
   "source": []
  },
  {
   "cell_type": "code",
   "execution_count": null,
   "id": "1de612ac-d2e2-4b78-ba24-730c01551d2b",
   "metadata": {},
   "outputs": [],
   "source": []
  },
  {
   "cell_type": "code",
   "execution_count": null,
   "id": "4e1fcb18-b624-4925-8e40-07bd8ce4ff88",
   "metadata": {},
   "outputs": [],
   "source": []
  },
  {
   "cell_type": "code",
   "execution_count": null,
   "id": "2d7ef56b-0665-4a8c-be79-2c426ec8ff3a",
   "metadata": {},
   "outputs": [],
   "source": []
  },
  {
   "cell_type": "code",
   "execution_count": null,
   "id": "bf5bb992-5b31-41e7-bf02-5809113b0948",
   "metadata": {},
   "outputs": [],
   "source": []
  },
  {
   "cell_type": "code",
   "execution_count": null,
   "id": "46f6d25b-89f8-480c-b4fd-b7a5caadf213",
   "metadata": {},
   "outputs": [],
   "source": []
  },
  {
   "cell_type": "code",
   "execution_count": null,
   "id": "40542eaf-16c8-422c-a74f-2404b82f803a",
   "metadata": {},
   "outputs": [],
   "source": []
  },
  {
   "cell_type": "code",
   "execution_count": null,
   "id": "de2599c1-ab45-40b7-8188-55dfdcb5f731",
   "metadata": {},
   "outputs": [],
   "source": []
  },
  {
   "cell_type": "code",
   "execution_count": null,
   "id": "909e1e11-355e-4581-ace8-e352b24d5304",
   "metadata": {},
   "outputs": [],
   "source": []
  },
  {
   "cell_type": "code",
   "execution_count": null,
   "id": "0da0c8fe-6384-4d5a-b51b-3f814fe9c30e",
   "metadata": {},
   "outputs": [],
   "source": []
  },
  {
   "cell_type": "code",
   "execution_count": null,
   "id": "6f3a8963-9f6d-4351-8881-52af23d07ec4",
   "metadata": {},
   "outputs": [],
   "source": []
  },
  {
   "cell_type": "code",
   "execution_count": null,
   "id": "ce493f05-7754-4bbb-aa90-0b6a4ecb94f0",
   "metadata": {},
   "outputs": [],
   "source": []
  },
  {
   "cell_type": "code",
   "execution_count": null,
   "id": "48e9a5ef-c4ae-4dc5-81c6-a0b747dc0423",
   "metadata": {},
   "outputs": [],
   "source": [
    "def charTokenize(string):\n",
    "    char_list = []\n",
    "    for char in string:\n",
    "        char_list.append(char)\n",
    "    return char_list\n",
    "concat_urls = ''.join([url.lower() for url in urls])\n",
    "\n",
    "chars = sorted(list(set(concat_urls)))\n",
    "char_vocab_size = len(chars)\n",
    "print(char_vocab_size)\n",
    "\n",
    "char_to_int = {char:i for i,char in enumerate(chars)}\n",
    "int_to_char = {i:char for i,char in enumerate(chars)}\n",
    "encode = lambda url: [char_to_int[ch] for ch in charTokenize(url)] # encoder: take a string, output a list of integers\n",
    "decode = lambda l: ''.join([int_to_char[i] for i in l]) # decoder: take a list of integers, output a string\n",
    "\n",
    "decode(encode(urls[0]))\n",
    "def encode_url(url):\n",
    "    url = [char_to_int[ch] for ch in charTokenize(url)]\n",
    "    while len(url<200):\n",
    "        url.append()\n",
    "    return url"
   ]
  }
 ],
 "metadata": {
  "kernelspec": {
   "display_name": "Python 3 (ipykernel)",
   "language": "python",
   "name": "python3"
  },
  "language_info": {
   "codemirror_mode": {
    "name": "ipython",
    "version": 3
   },
   "file_extension": ".py",
   "mimetype": "text/x-python",
   "name": "python",
   "nbconvert_exporter": "python",
   "pygments_lexer": "ipython3",
   "version": "3.9.18"
  }
 },
 "nbformat": 4,
 "nbformat_minor": 5
}
