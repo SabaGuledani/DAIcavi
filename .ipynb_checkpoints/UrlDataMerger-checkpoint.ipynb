{
 "cells": [
  {
   "cell_type": "code",
   "execution_count": 30,
   "id": "00866928-7e0e-4309-b26a-d6d9aa5fc821",
   "metadata": {},
   "outputs": [],
   "source": [
    "import pandas as pd\n",
    "import sqlite3"
   ]
  },
  {
   "cell_type": "code",
   "execution_count": 2,
   "id": "268d9d7f-e6b1-4a90-9bfc-0fe3b0d43981",
   "metadata": {},
   "outputs": [],
   "source": [
    "df_dmoz = pd.read_csv('./datasets/dmoz.csv')"
   ]
  },
  {
   "cell_type": "markdown",
   "id": "1c70a56a-0bab-4cfa-8e52-c6d355f8d1c7",
   "metadata": {},
   "source": [
    "# Make changes to porn dataset"
   ]
  },
  {
   "cell_type": "code",
   "execution_count": 19,
   "id": "7a5d85e2-aca1-4571-af8e-24947c80a9c6",
   "metadata": {},
   "outputs": [],
   "source": [
    "df_porn = pd.read_csv('./porn_urls_preprocessed.csv')"
   ]
  },
  {
   "cell_type": "code",
   "execution_count": 20,
   "id": "936bc25c-ccfa-4fd2-91f5-b190c16e6bb6",
   "metadata": {},
   "outputs": [],
   "source": [
    "df_porn = df_porn.loc[~(df_porn['url'].str.contains(\"blogspot\")) & ~(df_porn['url'].str.contains(\"tumblr\"))]\n",
    "\n",
    "df_porn = df_porn.sample(frac=1, random_state=44).reset_index(drop=True)\n",
    "\n",
    "df_porn['url'] = df_porn['url'].apply(lambda x: \"http://\"+x+\"/\")\n",
    "df_porn['category'] = \"Adult\"\n",
    "\n",
    "part_to_take_porn = int(len(df_porn)*0.5)\n",
    "df_porn = df_porn[:part_to_take_porn]"
   ]
  },
  {
   "cell_type": "markdown",
   "id": "1a675895-5e78-49e5-aa60-021740868a51",
   "metadata": {},
   "source": [
    "# Load casino links dataset"
   ]
  },
  {
   "cell_type": "code",
   "execution_count": 31,
   "id": "ac2c46f5-fc69-46a6-8781-d927be059ad4",
   "metadata": {},
   "outputs": [],
   "source": [
    "conn = sqlite3.connect('casino.db')\n",
    "\n",
    "df_casino = pd.read_sql('select * from web_pages',conn)\n",
    "df_casino.drop(columns=[\"id\",\"url\",\"html\",\"screenshot\"],inplace=True)\n",
    "\n",
    "df_casino['category'] = \"Adult\""
   ]
  },
  {
   "cell_type": "markdown",
   "id": "155f6fff-b229-46c4-8928-40c58c5c73fd",
   "metadata": {},
   "source": [
    "# load phishtank dataset"
   ]
  },
  {
   "cell_type": "code",
   "execution_count": 35,
   "id": "d13c6c72-6955-4d62-84df-925a96bdc565",
   "metadata": {},
   "outputs": [],
   "source": [
    "df_phishtank = pd.read_csv('./datasets/phishtank.csv')"
   ]
  },
  {
   "cell_type": "code",
   "execution_count": 38,
   "id": "68e2bdd4-60ef-41c1-83e1-a4ce97616aee",
   "metadata": {},
   "outputs": [],
   "source": [
    "df_phishtank = df_phishtank.drop(columns=['phish_id','phish_detail_url','submission_time','verified','verification_time','online','target'])\n",
    "df_phishtank['category'] = \"Malicious\""
   ]
  },
  {
   "cell_type": "markdown",
   "id": "b2b0db67-c24b-420d-855e-4064af595024",
   "metadata": {},
   "source": [
    "# Load phishing_dataset"
   ]
  },
  {
   "cell_type": "code",
   "execution_count": 41,
   "id": "047b354c-e197-4e9a-bab7-e24662c48bfd",
   "metadata": {},
   "outputs": [],
   "source": [
    "df_phishing = pd.read_csv(\"./datasets/phishing_dataset.csv\")"
   ]
  },
  {
   "cell_type": "code",
   "execution_count": 44,
   "id": "222e08e9-d934-4b66-89d6-19beeb1b357e",
   "metadata": {},
   "outputs": [
    {
     "data": {
      "text/html": [
       "<div>\n",
       "<style scoped>\n",
       "    .dataframe tbody tr th:only-of-type {\n",
       "        vertical-align: middle;\n",
       "    }\n",
       "\n",
       "    .dataframe tbody tr th {\n",
       "        vertical-align: top;\n",
       "    }\n",
       "\n",
       "    .dataframe thead th {\n",
       "        text-align: right;\n",
       "    }\n",
       "</style>\n",
       "<table border=\"1\" class=\"dataframe\">\n",
       "  <thead>\n",
       "    <tr style=\"text-align: right;\">\n",
       "      <th></th>\n",
       "      <th>http://v2.email-marketing.adminsimple.com/track/link?s=a879370e133bf6f71b5cc7ce0c2043e1&amp;amp;AdministratorID=20238&amp;amp;MemberID=21410&amp;amp;CampaignID=1&amp;amp;CampaignStatisticsID=1&amp;amp;URL=http%3A%2F%2Fwww.cadivi.pro%2Faprobados%2Faprobados2012.php%3Futm_source%3Dv2.email-marketing.adminsimple.com</th>\n",
       "    </tr>\n",
       "  </thead>\n",
       "  <tbody>\n",
       "    <tr>\n",
       "      <th>0</th>\n",
       "      <td>http://bid.openx.net/json?amp;amp;amp;amp;cid;...</td>\n",
       "    </tr>\n",
       "    <tr>\n",
       "      <th>1</th>\n",
       "      <td>http://webmail2.centurytel.net/hwebmail/servic...</td>\n",
       "    </tr>\n",
       "    <tr>\n",
       "      <th>2</th>\n",
       "      <td>http://www.google.com.ng/imgres?imgurl=http://...</td>\n",
       "    </tr>\n",
       "    <tr>\n",
       "      <th>3</th>\n",
       "      <td>http://webmail2.centurytel.net/hwebmail/servic...</td>\n",
       "    </tr>\n",
       "    <tr>\n",
       "      <th>4</th>\n",
       "      <td>http://www.liceonuzzi.it/cmd=_Inf/connectionSt...</td>\n",
       "    </tr>\n",
       "    <tr>\n",
       "      <th>...</th>\n",
       "      <td>...</td>\n",
       "    </tr>\n",
       "    <tr>\n",
       "      <th>9959</th>\n",
       "      <td>http://highedgesolar.com/nw/includes/</td>\n",
       "    </tr>\n",
       "    <tr>\n",
       "      <th>9960</th>\n",
       "      <td>http://jimfangimporters.yolasite.com/</td>\n",
       "    </tr>\n",
       "    <tr>\n",
       "      <th>9961</th>\n",
       "      <td>http://liuheng.chengxuren.com/Images/</td>\n",
       "    </tr>\n",
       "    <tr>\n",
       "      <th>9962</th>\n",
       "      <td>http://mcnaotempreco.net/site/portal/</td>\n",
       "    </tr>\n",
       "    <tr>\n",
       "      <th>9963</th>\n",
       "      <td>http://missionaryfilms.org/index.html</td>\n",
       "    </tr>\n",
       "  </tbody>\n",
       "</table>\n",
       "<p>9964 rows × 1 columns</p>\n",
       "</div>"
      ],
      "text/plain": [
       "     http://v2.email-marketing.adminsimple.com/track/link?s=a879370e133bf6f71b5cc7ce0c2043e1&amp;AdministratorID=20238&amp;MemberID=21410&amp;CampaignID=1&amp;CampaignStatisticsID=1&amp;URL=http%3A%2F%2Fwww.cadivi.pro%2Faprobados%2Faprobados2012.php%3Futm_source%3Dv2.email-marketing.adminsimple.com\n",
       "0     http://bid.openx.net/json?amp;amp;amp;amp;cid;...                                                                                                                                                                                                                                                    \n",
       "1     http://webmail2.centurytel.net/hwebmail/servic...                                                                                                                                                                                                                                                    \n",
       "2     http://www.google.com.ng/imgres?imgurl=http://...                                                                                                                                                                                                                                                    \n",
       "3     http://webmail2.centurytel.net/hwebmail/servic...                                                                                                                                                                                                                                                    \n",
       "4     http://www.liceonuzzi.it/cmd=_Inf/connectionSt...                                                                                                                                                                                                                                                    \n",
       "...                                                 ...                                                                                                                                                                                                                                                    \n",
       "9959              http://highedgesolar.com/nw/includes/                                                                                                                                                                                                                                                    \n",
       "9960              http://jimfangimporters.yolasite.com/                                                                                                                                                                                                                                                    \n",
       "9961              http://liuheng.chengxuren.com/Images/                                                                                                                                                                                                                                                    \n",
       "9962              http://mcnaotempreco.net/site/portal/                                                                                                                                                                                                                                                    \n",
       "9963              http://missionaryfilms.org/index.html                                                                                                                                                                                                                                                    \n",
       "\n",
       "[9964 rows x 1 columns]"
      ]
     },
     "execution_count": 44,
     "metadata": {},
     "output_type": "execute_result"
    }
   ],
   "source": [
    "df_phishing"
   ]
  },
  {
   "cell_type": "code",
   "execution_count": null,
   "id": "10979e31-c784-4c72-8edc-64b8c96548b3",
   "metadata": {},
   "outputs": [],
   "source": []
  }
 ],
 "metadata": {
  "kernelspec": {
   "display_name": "Python 3 (ipykernel)",
   "language": "python",
   "name": "python3"
  },
  "language_info": {
   "codemirror_mode": {
    "name": "ipython",
    "version": 3
   },
   "file_extension": ".py",
   "mimetype": "text/x-python",
   "name": "python",
   "nbconvert_exporter": "python",
   "pygments_lexer": "ipython3",
   "version": "3.9.18"
  }
 },
 "nbformat": 4,
 "nbformat_minor": 5
}
