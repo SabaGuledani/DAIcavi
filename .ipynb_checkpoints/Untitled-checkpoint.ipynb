{
 "cells": [
  {
   "cell_type": "code",
   "execution_count": 1,
   "id": "7a8a31e2-21d7-4b2b-955c-bdb6aa50e4db",
   "metadata": {},
   "outputs": [],
   "source": [
    "import fiftyone as fo\n",
    "import fiftyone.zoo as foz\n",
    "import pandas as pd\n"
   ]
  },
  {
   "cell_type": "code",
   "execution_count": 2,
   "id": "f931d00b-1290-4c74-ada6-5d07d13f9e31",
   "metadata": {},
   "outputs": [
    {
     "name": "stdout",
     "output_type": "stream",
     "text": [
      "Downloading split 'train' to 'C:\\Users\\warfa\\fiftyone\\open-images-v7\\train' if necessary\n",
      "Necessary images already downloaded\n",
      "Existing download of split 'train' is sufficient\n",
      "Loading existing dataset 'open-images-v7-train-50'. To reload from disk, either delete the existing dataset or provide a custom `dataset_name` to use\n"
     ]
    }
   ],
   "source": [
    "dataset = foz.load_zoo_dataset(\n",
    "    \"open-images-v7\",\n",
    "    split=\"train\",\n",
    "    max_samples=50,\n",
    "    label_types = ['classifications'],\n",
    "    shuffle=True\n",
    ")"
   ]
  },
  {
   "cell_type": "code",
   "execution_count": 3,
   "id": "deae395c-ee57-45ff-9b7b-a31c192df58a",
   "metadata": {},
   "outputs": [],
   "source": [
    "df_labels = pd.read_csv(r'C:\\Users\\warfa\\fiftyone\\open-images-v7\\train\\labels\\classifications.csv')\n",
    "df_classes = pd.read_csv(r'C:\\Users\\warfa\\fiftyone\\open-images-v7\\train\\metadata\\classes.csv')"
   ]
  },
  {
   "cell_type": "code",
   "execution_count": 6,
   "id": "38e572a5-f36c-400f-8152-70e6ca0c552c",
   "metadata": {},
   "outputs": [
    {
     "data": {
      "text/html": [
       "<div>\n",
       "<style scoped>\n",
       "    .dataframe tbody tr th:only-of-type {\n",
       "        vertical-align: middle;\n",
       "    }\n",
       "\n",
       "    .dataframe tbody tr th {\n",
       "        vertical-align: top;\n",
       "    }\n",
       "\n",
       "    .dataframe thead th {\n",
       "        text-align: right;\n",
       "    }\n",
       "</style>\n",
       "<table border=\"1\" class=\"dataframe\">\n",
       "  <thead>\n",
       "    <tr style=\"text-align: right;\">\n",
       "      <th></th>\n",
       "      <th>ImageID</th>\n",
       "      <th>Source</th>\n",
       "      <th>LabelName</th>\n",
       "      <th>Confidence</th>\n",
       "    </tr>\n",
       "  </thead>\n",
       "  <tbody>\n",
       "    <tr>\n",
       "      <th>711</th>\n",
       "      <td>00001bc2c4027449</td>\n",
       "      <td>crowdsource-verification</td>\n",
       "      <td>/m/019jd</td>\n",
       "      <td>1</td>\n",
       "    </tr>\n",
       "    <tr>\n",
       "      <th>1383</th>\n",
       "      <td>00002b368e91b947</td>\n",
       "      <td>crowdsource-verification</td>\n",
       "      <td>/m/0k4j</td>\n",
       "      <td>0</td>\n",
       "    </tr>\n",
       "    <tr>\n",
       "      <th>1551</th>\n",
       "      <td>000032046c3f8371</td>\n",
       "      <td>crowdsource-verification</td>\n",
       "      <td>/m/02wbm</td>\n",
       "      <td>1</td>\n",
       "    </tr>\n",
       "    <tr>\n",
       "      <th>1908</th>\n",
       "      <td>000037c2dd414b46</td>\n",
       "      <td>crowdsource-verification</td>\n",
       "      <td>/m/07j7r</td>\n",
       "      <td>1</td>\n",
       "    </tr>\n",
       "    <tr>\n",
       "      <th>1909</th>\n",
       "      <td>000037c2dd414b46</td>\n",
       "      <td>crowdsource-verification</td>\n",
       "      <td>/m/07yv9</td>\n",
       "      <td>1</td>\n",
       "    </tr>\n",
       "    <tr>\n",
       "      <th>...</th>\n",
       "      <td>...</td>\n",
       "      <td>...</td>\n",
       "      <td>...</td>\n",
       "      <td>...</td>\n",
       "    </tr>\n",
       "    <tr>\n",
       "      <th>8996568</th>\n",
       "      <td>fffdd77be1cdf914</td>\n",
       "      <td>crowdsource-verification</td>\n",
       "      <td>/m/02f9f_</td>\n",
       "      <td>0</td>\n",
       "    </tr>\n",
       "    <tr>\n",
       "      <th>8996580</th>\n",
       "      <td>fffde5953a818927</td>\n",
       "      <td>crowdsource-verification</td>\n",
       "      <td>/m/07jdr</td>\n",
       "      <td>0</td>\n",
       "    </tr>\n",
       "    <tr>\n",
       "      <th>8996624</th>\n",
       "      <td>fffe6b92ca721fe9</td>\n",
       "      <td>crowdsource-verification</td>\n",
       "      <td>/m/0199g</td>\n",
       "      <td>0</td>\n",
       "    </tr>\n",
       "    <tr>\n",
       "      <th>8996736</th>\n",
       "      <td>ffff7c3aef15369f</td>\n",
       "      <td>crowdsource-verification</td>\n",
       "      <td>/m/01yrx</td>\n",
       "      <td>0</td>\n",
       "    </tr>\n",
       "    <tr>\n",
       "      <th>8996771</th>\n",
       "      <td>ffffda81903d6bb7</td>\n",
       "      <td>crowdsource-verification</td>\n",
       "      <td>/m/0199g</td>\n",
       "      <td>0</td>\n",
       "    </tr>\n",
       "  </tbody>\n",
       "</table>\n",
       "<p>337085 rows × 4 columns</p>\n",
       "</div>"
      ],
      "text/plain": [
       "                  ImageID                    Source  LabelName  Confidence\n",
       "711      00001bc2c4027449  crowdsource-verification   /m/019jd           1\n",
       "1383     00002b368e91b947  crowdsource-verification    /m/0k4j           0\n",
       "1551     000032046c3f8371  crowdsource-verification   /m/02wbm           1\n",
       "1908     000037c2dd414b46  crowdsource-verification   /m/07j7r           1\n",
       "1909     000037c2dd414b46  crowdsource-verification   /m/07yv9           1\n",
       "...                   ...                       ...        ...         ...\n",
       "8996568  fffdd77be1cdf914  crowdsource-verification  /m/02f9f_           0\n",
       "8996580  fffde5953a818927  crowdsource-verification   /m/07jdr           0\n",
       "8996624  fffe6b92ca721fe9  crowdsource-verification   /m/0199g           0\n",
       "8996736  ffff7c3aef15369f  crowdsource-verification   /m/01yrx           0\n",
       "8996771  ffffda81903d6bb7  crowdsource-verification   /m/0199g           0\n",
       "\n",
       "[337085 rows x 4 columns]"
      ]
     },
     "execution_count": 6,
     "metadata": {},
     "output_type": "execute_result"
    }
   ],
   "source": [
    "df_labels"
   ]
  },
  {
   "cell_type": "code",
   "execution_count": null,
   "id": "d7bf996c-061c-4e86-a0b7-5e5ac13f9e4a",
   "metadata": {},
   "outputs": [],
   "source": []
  }
 ],
 "metadata": {
  "kernelspec": {
   "display_name": "Python 3 (ipykernel)",
   "language": "python",
   "name": "python3"
  },
  "language_info": {
   "codemirror_mode": {
    "name": "ipython",
    "version": 3
   },
   "file_extension": ".py",
   "mimetype": "text/x-python",
   "name": "python",
   "nbconvert_exporter": "python",
   "pygments_lexer": "ipython3",
   "version": "3.9.18"
  }
 },
 "nbformat": 4,
 "nbformat_minor": 5
}
